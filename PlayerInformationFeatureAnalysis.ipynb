{
 "cells": [
  {
   "cell_type": "code",
   "execution_count": 1,
   "metadata": {},
   "outputs": [],
   "source": [
    "import numpy as np\n",
    "import pandas as pd"
   ]
  },
  {
   "cell_type": "code",
   "execution_count": 2,
   "metadata": {},
   "outputs": [],
   "source": [
    "# Read in the Player Information data\n",
    "pi_df = pd.read_csv(\"PlayerInformationFeatures.csv\")"
   ]
  },
  {
   "cell_type": "code",
   "execution_count": 3,
   "metadata": {},
   "outputs": [],
   "source": [
    "# Read the Social Interaction Diversity dataset, that has mapping of which player is human vs bot.\n",
    "sid_df = pd.read_csv(\"SocialInteractionDiversityFeatures.csv\")"
   ]
  },
  {
   "cell_type": "code",
   "execution_count": 5,
   "metadata": {},
   "outputs": [],
   "source": [
    "# We need only the three columns.\n",
    "sid_df = sid_df[[\"Actor\", \"A_Acc\", \"Type\"]]"
   ]
  },
  {
   "cell_type": "code",
   "execution_count": 8,
   "metadata": {},
   "outputs": [],
   "source": [
    "sid_df['Player'] = sid_df['Actor'].astype(str) + '_'+ sid_df['A_Acc'].astype(str)"
   ]
  },
  {
   "cell_type": "code",
   "execution_count": 10,
   "metadata": {},
   "outputs": [],
   "source": [
    "# We only need Player and its type\n",
    "sid_df = sid_df[[\"Player\", \"Type\"]]"
   ]
  },
  {
   "cell_type": "code",
   "execution_count": 13,
   "metadata": {},
   "outputs": [],
   "source": [
    "player_class_grpby = sid_df.groupby(by=[\"Player\"])"
   ]
  },
  {
   "cell_type": "code",
   "execution_count": 15,
   "metadata": {},
   "outputs": [
    {
     "data": {
      "text/html": [
       "<div>\n",
       "<style scoped>\n",
       "    .dataframe tbody tr th:only-of-type {\n",
       "        vertical-align: middle;\n",
       "    }\n",
       "\n",
       "    .dataframe tbody tr th {\n",
       "        vertical-align: top;\n",
       "    }\n",
       "\n",
       "    .dataframe thead th {\n",
       "        text-align: right;\n",
       "    }\n",
       "</style>\n",
       "<table border=\"1\" class=\"dataframe\">\n",
       "  <thead>\n",
       "    <tr style=\"text-align: right;\">\n",
       "      <th></th>\n",
       "      <th>Player</th>\n",
       "      <th>Type</th>\n",
       "    </tr>\n",
       "  </thead>\n",
       "  <tbody>\n",
       "    <tr>\n",
       "      <th>250</th>\n",
       "      <td>10002_6129182</td>\n",
       "      <td>Human</td>\n",
       "    </tr>\n",
       "  </tbody>\n",
       "</table>\n",
       "</div>"
      ],
      "text/plain": [
       "            Player   Type\n",
       "250  10002_6129182  Human"
      ]
     },
     "execution_count": 15,
     "metadata": {},
     "output_type": "execute_result"
    }
   ],
   "source": [
    "# Lets test\n",
    "player_class_grpby.get_group('10002_6129182')"
   ]
  },
  {
   "cell_type": "code",
   "execution_count": 20,
   "metadata": {},
   "outputs": [],
   "source": [
    "player_class_df = sid_df.groupby(by=[\"Player\"]).agg(lambda val1: val1).reset_index()"
   ]
  },
  {
   "cell_type": "code",
   "execution_count": 21,
   "metadata": {},
   "outputs": [
    {
     "data": {
      "text/html": [
       "<div>\n",
       "<style scoped>\n",
       "    .dataframe tbody tr th:only-of-type {\n",
       "        vertical-align: middle;\n",
       "    }\n",
       "\n",
       "    .dataframe tbody tr th {\n",
       "        vertical-align: top;\n",
       "    }\n",
       "\n",
       "    .dataframe thead th {\n",
       "        text-align: right;\n",
       "    }\n",
       "</style>\n",
       "<table border=\"1\" class=\"dataframe\">\n",
       "  <thead>\n",
       "    <tr style=\"text-align: right;\">\n",
       "      <th></th>\n",
       "      <th>Player</th>\n",
       "      <th>Type</th>\n",
       "    </tr>\n",
       "  </thead>\n",
       "  <tbody>\n",
       "    <tr>\n",
       "      <th>0</th>\n",
       "      <td>10002_6129182</td>\n",
       "      <td>Human</td>\n",
       "    </tr>\n",
       "    <tr>\n",
       "      <th>1</th>\n",
       "      <td>100050_7732344</td>\n",
       "      <td>Human</td>\n",
       "    </tr>\n",
       "  </tbody>\n",
       "</table>\n",
       "</div>"
      ],
      "text/plain": [
       "           Player   Type\n",
       "0   10002_6129182  Human\n",
       "1  100050_7732344  Human"
      ]
     },
     "execution_count": 21,
     "metadata": {},
     "output_type": "execute_result"
    }
   ],
   "source": [
    "player_class_df.head(2)"
   ]
  },
  {
   "cell_type": "code",
   "execution_count": 24,
   "metadata": {},
   "outputs": [
    {
     "data": {
      "text/html": [
       "<div>\n",
       "<style scoped>\n",
       "    .dataframe tbody tr th:only-of-type {\n",
       "        vertical-align: middle;\n",
       "    }\n",
       "\n",
       "    .dataframe tbody tr th {\n",
       "        vertical-align: top;\n",
       "    }\n",
       "\n",
       "    .dataframe thead th {\n",
       "        text-align: right;\n",
       "    }\n",
       "</style>\n",
       "<table border=\"1\" class=\"dataframe\">\n",
       "  <thead>\n",
       "    <tr style=\"text-align: right;\">\n",
       "      <th></th>\n",
       "      <th>Act_time</th>\n",
       "      <th>Actor</th>\n",
       "      <th>A_Acc</th>\n",
       "      <th>loc_x</th>\n",
       "      <th>loc_y</th>\n",
       "      <th>loc_z</th>\n",
       "      <th>etc_str1</th>\n",
       "      <th>etc_num2</th>\n",
       "    </tr>\n",
       "  </thead>\n",
       "  <tbody>\n",
       "    <tr>\n",
       "      <th>0</th>\n",
       "      <td>2010-04-09 00:00:02.310</td>\n",
       "      <td>376398</td>\n",
       "      <td>10534989</td>\n",
       "      <td>1686</td>\n",
       "      <td>1535</td>\n",
       "      <td>119</td>\n",
       "      <td>210.206.</td>\n",
       "      <td>10</td>\n",
       "    </tr>\n",
       "    <tr>\n",
       "      <th>1</th>\n",
       "      <td>2010-04-09 00:00:03.623</td>\n",
       "      <td>343471</td>\n",
       "      <td>8291880</td>\n",
       "      <td>2463</td>\n",
       "      <td>2062</td>\n",
       "      <td>578</td>\n",
       "      <td>116.36.1</td>\n",
       "      <td>50</td>\n",
       "    </tr>\n",
       "  </tbody>\n",
       "</table>\n",
       "</div>"
      ],
      "text/plain": [
       "                  Act_time   Actor     A_Acc  loc_x  loc_y  loc_z  etc_str1  \\\n",
       "0  2010-04-09 00:00:02.310  376398  10534989   1686   1535    119  210.206.   \n",
       "1  2010-04-09 00:00:03.623  343471   8291880   2463   2062    578  116.36.1   \n",
       "\n",
       "   etc_num2  \n",
       "0        10  \n",
       "1        50  "
      ]
     },
     "execution_count": 24,
     "metadata": {},
     "output_type": "execute_result"
    }
   ],
   "source": [
    "pi_df.head(2)"
   ]
  },
  {
   "cell_type": "code",
   "execution_count": 26,
   "metadata": {},
   "outputs": [
    {
     "name": "stdout",
     "output_type": "stream",
     "text": [
      "<class 'pandas.core.frame.DataFrame'>\n",
      "RangeIndex: 5687619 entries, 0 to 5687618\n",
      "Data columns (total 8 columns):\n",
      "Act_time    object\n",
      "Actor       int64\n",
      "A_Acc       int64\n",
      "loc_x       int64\n",
      "loc_y       int64\n",
      "loc_z       int64\n",
      "etc_str1    object\n",
      "etc_num2    int64\n",
      "dtypes: int64(6), object(2)\n",
      "memory usage: 347.1+ MB\n"
     ]
    }
   ],
   "source": [
    "# The Act_time is Login time, so is taken as an object.\n",
    "# etc_str1 looks like its part of IP address. So its taken as object\n",
    "pi_df.info()"
   ]
  },
  {
   "cell_type": "code",
   "execution_count": 27,
   "metadata": {},
   "outputs": [
    {
     "data": {
      "text/plain": [
       "Act_time    False\n",
       "Actor       False\n",
       "A_Acc       False\n",
       "loc_x       False\n",
       "loc_y       False\n",
       "loc_z       False\n",
       "etc_str1    False\n",
       "etc_num2    False\n",
       "dtype: bool"
      ]
     },
     "execution_count": 27,
     "metadata": {},
     "output_type": "execute_result"
    }
   ],
   "source": [
    "# We do not have any null values\n",
    "pi_df.isnull().any()"
   ]
  },
  {
   "cell_type": "code",
   "execution_count": 28,
   "metadata": {},
   "outputs": [
    {
     "data": {
      "text/plain": [
       "Act_time    False\n",
       "Actor       False\n",
       "A_Acc       False\n",
       "loc_x       False\n",
       "loc_y       False\n",
       "loc_z       False\n",
       "etc_str1    False\n",
       "etc_num2    False\n",
       "dtype: bool"
      ]
     },
     "execution_count": 28,
     "metadata": {},
     "output_type": "execute_result"
    }
   ],
   "source": [
    "# We do not have NA values as well.\n",
    "pi_df.isna().any()"
   ]
  },
  {
   "cell_type": "markdown",
   "metadata": {},
   "source": [
    "# From the above two, we can see that the dataset does not have any missing values."
   ]
  },
  {
   "cell_type": "code",
   "execution_count": 29,
   "metadata": {},
   "outputs": [],
   "source": [
    "# Lets find if a player (Actor) has multiple accounts. This is to determine if we can just choose Actor to uniquely\n",
    "# identify a player or Actor + A_Acc as the combination to uniuely identify a player."
   ]
  },
  {
   "cell_type": "code",
   "execution_count": 30,
   "metadata": {},
   "outputs": [
    {
     "data": {
      "text/plain": [
       "1"
      ]
     },
     "execution_count": 30,
     "metadata": {},
     "output_type": "execute_result"
    }
   ],
   "source": [
    "# Below is an example to check the length of A_Acc that is associated with an Actor. The length of 1 means that an\n",
    "# Actor is associated with one account only.\n",
    "len(pi_df[pi_df.Actor == 372311]['A_Acc'].unique())"
   ]
  },
  {
   "cell_type": "code",
   "execution_count": 31,
   "metadata": {},
   "outputs": [],
   "source": [
    "# We will perform the same validation on all Actors. \n",
    "actor_account_grp_by = pi_df[['Actor', 'A_Acc']].groupby(by=['A_Acc'])"
   ]
  },
  {
   "cell_type": "code",
   "execution_count": 32,
   "metadata": {},
   "outputs": [],
   "source": [
    "a = actor_account_grp_by['Actor'].nunique()\n",
    "#for grp_name, grp in actor_account_grp_by.groups():\n",
    "#    if len(np.unique(grp['A_Acc'])) > 1:\n",
    "#        print(grp_name)"
   ]
  },
  {
   "cell_type": "code",
   "execution_count": 33,
   "metadata": {},
   "outputs": [
    {
     "data": {
      "text/plain": [
       "A_Acc\n",
       "4698     2\n",
       "15272    4\n",
       "Name: Actor, dtype: int64"
      ]
     },
     "execution_count": 33,
     "metadata": {},
     "output_type": "execute_result"
    }
   ],
   "source": [
    "a.head(2)"
   ]
  },
  {
   "cell_type": "code",
   "execution_count": 34,
   "metadata": {},
   "outputs": [
    {
     "data": {
      "text/html": [
       "<div>\n",
       "<style scoped>\n",
       "    .dataframe tbody tr th:only-of-type {\n",
       "        vertical-align: middle;\n",
       "    }\n",
       "\n",
       "    .dataframe tbody tr th {\n",
       "        vertical-align: top;\n",
       "    }\n",
       "\n",
       "    .dataframe thead th {\n",
       "        text-align: right;\n",
       "    }\n",
       "</style>\n",
       "<table border=\"1\" class=\"dataframe\">\n",
       "  <thead>\n",
       "    <tr style=\"text-align: right;\">\n",
       "      <th></th>\n",
       "      <th>Actor</th>\n",
       "      <th>A_Acc</th>\n",
       "    </tr>\n",
       "  </thead>\n",
       "  <tbody>\n",
       "    <tr>\n",
       "      <th>1662380</th>\n",
       "      <td>93092</td>\n",
       "      <td>4698</td>\n",
       "    </tr>\n",
       "    <tr>\n",
       "      <th>1662577</th>\n",
       "      <td>25761</td>\n",
       "      <td>4698</td>\n",
       "    </tr>\n",
       "    <tr>\n",
       "      <th>3946187</th>\n",
       "      <td>25761</td>\n",
       "      <td>4698</td>\n",
       "    </tr>\n",
       "  </tbody>\n",
       "</table>\n",
       "</div>"
      ],
      "text/plain": [
       "         Actor  A_Acc\n",
       "1662380  93092   4698\n",
       "1662577  25761   4698\n",
       "3946187  25761   4698"
      ]
     },
     "execution_count": 34,
     "metadata": {},
     "output_type": "execute_result"
    }
   ],
   "source": [
    "actor_account_grp_by.get_group(4698)"
   ]
  },
  {
   "cell_type": "markdown",
   "metadata": {},
   "source": [
    "# From the above, we can see that the account 4698 is not associated with one Actor. Hence, we will have to make use of Actor + A_Acc as a unique combination to identify a player."
   ]
  },
  {
   "cell_type": "code",
   "execution_count": 35,
   "metadata": {},
   "outputs": [],
   "source": [
    "# We will combine Actor and A_Acc and use that as primary key to identify a player"
   ]
  },
  {
   "cell_type": "code",
   "execution_count": 36,
   "metadata": {},
   "outputs": [],
   "source": [
    "pi_df['Player'] = pi_df['Actor'].astype(str) + '_'+ pi_df['A_Acc'].astype(str)"
   ]
  },
  {
   "cell_type": "code",
   "execution_count": 37,
   "metadata": {},
   "outputs": [
    {
     "data": {
      "text/html": [
       "<div>\n",
       "<style scoped>\n",
       "    .dataframe tbody tr th:only-of-type {\n",
       "        vertical-align: middle;\n",
       "    }\n",
       "\n",
       "    .dataframe tbody tr th {\n",
       "        vertical-align: top;\n",
       "    }\n",
       "\n",
       "    .dataframe thead th {\n",
       "        text-align: right;\n",
       "    }\n",
       "</style>\n",
       "<table border=\"1\" class=\"dataframe\">\n",
       "  <thead>\n",
       "    <tr style=\"text-align: right;\">\n",
       "      <th></th>\n",
       "      <th>Act_time</th>\n",
       "      <th>Actor</th>\n",
       "      <th>A_Acc</th>\n",
       "      <th>loc_x</th>\n",
       "      <th>loc_y</th>\n",
       "      <th>loc_z</th>\n",
       "      <th>etc_str1</th>\n",
       "      <th>etc_num2</th>\n",
       "      <th>Player</th>\n",
       "    </tr>\n",
       "  </thead>\n",
       "  <tbody>\n",
       "    <tr>\n",
       "      <th>0</th>\n",
       "      <td>2010-04-09 00:00:02.310</td>\n",
       "      <td>376398</td>\n",
       "      <td>10534989</td>\n",
       "      <td>1686</td>\n",
       "      <td>1535</td>\n",
       "      <td>119</td>\n",
       "      <td>210.206.</td>\n",
       "      <td>10</td>\n",
       "      <td>376398_10534989</td>\n",
       "    </tr>\n",
       "    <tr>\n",
       "      <th>1</th>\n",
       "      <td>2010-04-09 00:00:03.623</td>\n",
       "      <td>343471</td>\n",
       "      <td>8291880</td>\n",
       "      <td>2463</td>\n",
       "      <td>2062</td>\n",
       "      <td>578</td>\n",
       "      <td>116.36.1</td>\n",
       "      <td>50</td>\n",
       "      <td>343471_8291880</td>\n",
       "    </tr>\n",
       "  </tbody>\n",
       "</table>\n",
       "</div>"
      ],
      "text/plain": [
       "                  Act_time   Actor     A_Acc  loc_x  loc_y  loc_z  etc_str1  \\\n",
       "0  2010-04-09 00:00:02.310  376398  10534989   1686   1535    119  210.206.   \n",
       "1  2010-04-09 00:00:03.623  343471   8291880   2463   2062    578  116.36.1   \n",
       "\n",
       "   etc_num2           Player  \n",
       "0        10  376398_10534989  \n",
       "1        50   343471_8291880  "
      ]
     },
     "execution_count": 37,
     "metadata": {},
     "output_type": "execute_result"
    }
   ],
   "source": [
    "pi_df.head(2)"
   ]
  },
  {
   "cell_type": "code",
   "execution_count": 38,
   "metadata": {},
   "outputs": [
    {
     "name": "stdout",
     "output_type": "stream",
     "text": [
      "<class 'pandas.core.frame.DataFrame'>\n",
      "RangeIndex: 5687619 entries, 0 to 5687618\n",
      "Data columns (total 9 columns):\n",
      "Act_time    object\n",
      "Actor       int64\n",
      "A_Acc       int64\n",
      "loc_x       int64\n",
      "loc_y       int64\n",
      "loc_z       int64\n",
      "etc_str1    object\n",
      "etc_num2    int64\n",
      "Player      object\n",
      "dtypes: int64(6), object(3)\n",
      "memory usage: 390.5+ MB\n"
     ]
    }
   ],
   "source": [
    "pi_df.info()"
   ]
  },
  {
   "cell_type": "code",
   "execution_count": 39,
   "metadata": {},
   "outputs": [],
   "source": [
    "# Now we will add the Player Type column to the pi_df"
   ]
  },
  {
   "cell_type": "code",
   "execution_count": 41,
   "metadata": {},
   "outputs": [],
   "source": [
    "new_pi_df = pi_df.join(sid_df.set_index(\"Player\"), on=\"Player\")"
   ]
  },
  {
   "cell_type": "code",
   "execution_count": 96,
   "metadata": {},
   "outputs": [
    {
     "name": "stdout",
     "output_type": "stream",
     "text": [
      "<class 'pandas.core.frame.DataFrame'>\n",
      "RangeIndex: 5687619 entries, 0 to 5687618\n",
      "Data columns (total 11 columns):\n",
      "Act_time      object\n",
      "Actor         int64\n",
      "A_Acc         int64\n",
      "loc_x         int64\n",
      "loc_y         int64\n",
      "loc_z         int64\n",
      "etc_str1      object\n",
      "etc_num2      int64\n",
      "Player        object\n",
      "Type          object\n",
      "login_freq    float64\n",
      "dtypes: float64(1), int64(6), object(4)\n",
      "memory usage: 477.3+ MB\n"
     ]
    }
   ],
   "source": [
    "new_pi_df.info()\n",
    "#new_pi_df.head(2)"
   ]
  },
  {
   "cell_type": "code",
   "execution_count": 62,
   "metadata": {},
   "outputs": [
    {
     "data": {
      "text/plain": [
       "Act_time    243648\n",
       "Actor       243648\n",
       "A_Acc       243648\n",
       "loc_x       243648\n",
       "loc_y       243648\n",
       "loc_z       243648\n",
       "etc_str1    243648\n",
       "etc_num2    243648\n",
       "Player      243648\n",
       "Type             0\n",
       "dtype: int64"
      ]
     },
     "execution_count": 62,
     "metadata": {},
     "output_type": "execute_result"
    }
   ],
   "source": [
    "new_pi_df[(new_pi_df.Type != 'Human') & (new_pi_df.Type != 'Bot')].count()"
   ]
  },
  {
   "cell_type": "markdown",
   "metadata": {},
   "source": [
    "# We have lot of rows for which we dont have the classification. We might need to include the values from NetworkInteractionMeasures as well."
   ]
  },
  {
   "cell_type": "code",
   "execution_count": null,
   "metadata": {},
   "outputs": [],
   "source": []
  },
  {
   "cell_type": "markdown",
   "metadata": {},
   "source": [
    "# Analysing player login frequency"
   ]
  },
  {
   "cell_type": "code",
   "execution_count": 78,
   "metadata": {},
   "outputs": [],
   "source": [
    "player_login_freq_grpby = new_pi_df[['Player', 'Act_time']].groupby(by=['Player'])"
   ]
  },
  {
   "cell_type": "code",
   "execution_count": 86,
   "metadata": {},
   "outputs": [],
   "source": [
    "#player_login_freq_grpby.count().head(2)\n",
    "#tmp = player_login_freq_grpby.count().sort_values(by=['Act_time'],ascending=False)\n",
    "tmp = player_login_freq_grpby.count()"
   ]
  },
  {
   "cell_type": "code",
   "execution_count": 97,
   "metadata": {},
   "outputs": [
    {
     "name": "stdout",
     "output_type": "stream",
     "text": [
      "<class 'pandas.core.frame.DataFrame'>\n",
      "Index: 97354 entries, 10002_6129182 to 99996_7764469\n",
      "Data columns (total 1 columns):\n",
      "Act_time    97354 non-null int64\n",
      "dtypes: int64(1)\n",
      "memory usage: 4.0+ MB\n"
     ]
    },
    {
     "data": {
      "text/html": [
       "<div>\n",
       "<style scoped>\n",
       "    .dataframe tbody tr th:only-of-type {\n",
       "        vertical-align: middle;\n",
       "    }\n",
       "\n",
       "    .dataframe tbody tr th {\n",
       "        vertical-align: top;\n",
       "    }\n",
       "\n",
       "    .dataframe thead th {\n",
       "        text-align: right;\n",
       "    }\n",
       "</style>\n",
       "<table border=\"1\" class=\"dataframe\">\n",
       "  <thead>\n",
       "    <tr style=\"text-align: right;\">\n",
       "      <th></th>\n",
       "      <th>Act_time</th>\n",
       "    </tr>\n",
       "    <tr>\n",
       "      <th>Player</th>\n",
       "      <th></th>\n",
       "    </tr>\n",
       "  </thead>\n",
       "  <tbody>\n",
       "    <tr>\n",
       "      <th>10002_6129182</th>\n",
       "      <td>173</td>\n",
       "    </tr>\n",
       "    <tr>\n",
       "      <th>100035_7764486</th>\n",
       "      <td>1</td>\n",
       "    </tr>\n",
       "  </tbody>\n",
       "</table>\n",
       "</div>"
      ],
      "text/plain": [
       "                Act_time\n",
       "Player                  \n",
       "10002_6129182        173\n",
       "100035_7764486         1"
      ]
     },
     "execution_count": 97,
     "metadata": {},
     "output_type": "execute_result"
    }
   ],
   "source": [
    "tmp.info()\n",
    "tmp.index.name\n",
    "tmp.head(2)\n",
    "#new_pi_df['login_freq'] = tmp['Act_time']"
   ]
  },
  {
   "cell_type": "code",
   "execution_count": 100,
   "metadata": {},
   "outputs": [
    {
     "ename": "ValueError",
     "evalue": "columns overlap but no suffix specified: Index(['Act_time'], dtype='object')",
     "output_type": "error",
     "traceback": [
      "\u001b[0;31m---------------------------------------------------------------------------\u001b[0m",
      "\u001b[0;31mValueError\u001b[0m                                Traceback (most recent call last)",
      "\u001b[0;32m<ipython-input-100-ace5ca556f2a>\u001b[0m in \u001b[0;36m<module>\u001b[0;34m()\u001b[0m\n\u001b[0;32m----> 1\u001b[0;31m \u001b[0mnew1\u001b[0m \u001b[0;34m=\u001b[0m \u001b[0mnew_pi_df\u001b[0m\u001b[0;34m.\u001b[0m\u001b[0mjoin\u001b[0m\u001b[0;34m(\u001b[0m\u001b[0mtmp\u001b[0m\u001b[0;34m,\u001b[0m \u001b[0mon\u001b[0m\u001b[0;34m=\u001b[0m\u001b[0;34m\"Player\"\u001b[0m\u001b[0;34m)\u001b[0m\u001b[0;34m\u001b[0m\u001b[0m\n\u001b[0m",
      "\u001b[0;32m/anaconda3/lib/python3.6/site-packages/pandas/core/frame.py\u001b[0m in \u001b[0;36mjoin\u001b[0;34m(self, other, on, how, lsuffix, rsuffix, sort)\u001b[0m\n\u001b[1;32m   5314\u001b[0m         \u001b[0;31m# For SparseDataFrame's benefit\u001b[0m\u001b[0;34m\u001b[0m\u001b[0;34m\u001b[0m\u001b[0m\n\u001b[1;32m   5315\u001b[0m         return self._join_compat(other, on=on, how=how, lsuffix=lsuffix,\n\u001b[0;32m-> 5316\u001b[0;31m                                  rsuffix=rsuffix, sort=sort)\n\u001b[0m\u001b[1;32m   5317\u001b[0m \u001b[0;34m\u001b[0m\u001b[0m\n\u001b[1;32m   5318\u001b[0m     def _join_compat(self, other, on=None, how='left', lsuffix='', rsuffix='',\n",
      "\u001b[0;32m/anaconda3/lib/python3.6/site-packages/pandas/core/frame.py\u001b[0m in \u001b[0;36m_join_compat\u001b[0;34m(self, other, on, how, lsuffix, rsuffix, sort)\u001b[0m\n\u001b[1;32m   5329\u001b[0m             return merge(self, other, left_on=on, how=how,\n\u001b[1;32m   5330\u001b[0m                          \u001b[0mleft_index\u001b[0m\u001b[0;34m=\u001b[0m\u001b[0mon\u001b[0m \u001b[0;32mis\u001b[0m \u001b[0;32mNone\u001b[0m\u001b[0;34m,\u001b[0m \u001b[0mright_index\u001b[0m\u001b[0;34m=\u001b[0m\u001b[0;32mTrue\u001b[0m\u001b[0;34m,\u001b[0m\u001b[0;34m\u001b[0m\u001b[0m\n\u001b[0;32m-> 5331\u001b[0;31m                          suffixes=(lsuffix, rsuffix), sort=sort)\n\u001b[0m\u001b[1;32m   5332\u001b[0m         \u001b[0;32melse\u001b[0m\u001b[0;34m:\u001b[0m\u001b[0;34m\u001b[0m\u001b[0m\n\u001b[1;32m   5333\u001b[0m             \u001b[0;32mif\u001b[0m \u001b[0mon\u001b[0m \u001b[0;32mis\u001b[0m \u001b[0;32mnot\u001b[0m \u001b[0;32mNone\u001b[0m\u001b[0;34m:\u001b[0m\u001b[0;34m\u001b[0m\u001b[0m\n",
      "\u001b[0;32m/anaconda3/lib/python3.6/site-packages/pandas/core/reshape/merge.py\u001b[0m in \u001b[0;36mmerge\u001b[0;34m(left, right, how, on, left_on, right_on, left_index, right_index, sort, suffixes, copy, indicator, validate)\u001b[0m\n\u001b[1;32m     56\u001b[0m                          \u001b[0mcopy\u001b[0m\u001b[0;34m=\u001b[0m\u001b[0mcopy\u001b[0m\u001b[0;34m,\u001b[0m \u001b[0mindicator\u001b[0m\u001b[0;34m=\u001b[0m\u001b[0mindicator\u001b[0m\u001b[0;34m,\u001b[0m\u001b[0;34m\u001b[0m\u001b[0m\n\u001b[1;32m     57\u001b[0m                          validate=validate)\n\u001b[0;32m---> 58\u001b[0;31m     \u001b[0;32mreturn\u001b[0m \u001b[0mop\u001b[0m\u001b[0;34m.\u001b[0m\u001b[0mget_result\u001b[0m\u001b[0;34m(\u001b[0m\u001b[0;34m)\u001b[0m\u001b[0;34m\u001b[0m\u001b[0m\n\u001b[0m\u001b[1;32m     59\u001b[0m \u001b[0;34m\u001b[0m\u001b[0m\n\u001b[1;32m     60\u001b[0m \u001b[0;34m\u001b[0m\u001b[0m\n",
      "\u001b[0;32m/anaconda3/lib/python3.6/site-packages/pandas/core/reshape/merge.py\u001b[0m in \u001b[0;36mget_result\u001b[0;34m(self)\u001b[0m\n\u001b[1;32m    586\u001b[0m \u001b[0;34m\u001b[0m\u001b[0m\n\u001b[1;32m    587\u001b[0m         llabels, rlabels = items_overlap_with_suffix(ldata.items, lsuf,\n\u001b[0;32m--> 588\u001b[0;31m                                                      rdata.items, rsuf)\n\u001b[0m\u001b[1;32m    589\u001b[0m \u001b[0;34m\u001b[0m\u001b[0m\n\u001b[1;32m    590\u001b[0m         \u001b[0mlindexers\u001b[0m \u001b[0;34m=\u001b[0m \u001b[0;34m{\u001b[0m\u001b[0;36m1\u001b[0m\u001b[0;34m:\u001b[0m \u001b[0mleft_indexer\u001b[0m\u001b[0;34m}\u001b[0m \u001b[0;32mif\u001b[0m \u001b[0mleft_indexer\u001b[0m \u001b[0;32mis\u001b[0m \u001b[0;32mnot\u001b[0m \u001b[0;32mNone\u001b[0m \u001b[0;32melse\u001b[0m \u001b[0;34m{\u001b[0m\u001b[0;34m}\u001b[0m\u001b[0;34m\u001b[0m\u001b[0m\n",
      "\u001b[0;32m/anaconda3/lib/python3.6/site-packages/pandas/core/internals.py\u001b[0m in \u001b[0;36mitems_overlap_with_suffix\u001b[0;34m(left, lsuffix, right, rsuffix)\u001b[0m\n\u001b[1;32m   5024\u001b[0m         \u001b[0;32mif\u001b[0m \u001b[0;32mnot\u001b[0m \u001b[0mlsuffix\u001b[0m \u001b[0;32mand\u001b[0m \u001b[0;32mnot\u001b[0m \u001b[0mrsuffix\u001b[0m\u001b[0;34m:\u001b[0m\u001b[0;34m\u001b[0m\u001b[0m\n\u001b[1;32m   5025\u001b[0m             raise ValueError('columns overlap but no suffix specified: %s' %\n\u001b[0;32m-> 5026\u001b[0;31m                              to_rename)\n\u001b[0m\u001b[1;32m   5027\u001b[0m \u001b[0;34m\u001b[0m\u001b[0m\n\u001b[1;32m   5028\u001b[0m         \u001b[0;32mdef\u001b[0m \u001b[0mlrenamer\u001b[0m\u001b[0;34m(\u001b[0m\u001b[0mx\u001b[0m\u001b[0;34m)\u001b[0m\u001b[0;34m:\u001b[0m\u001b[0;34m\u001b[0m\u001b[0m\n",
      "\u001b[0;31mValueError\u001b[0m: columns overlap but no suffix specified: Index(['Act_time'], dtype='object')"
     ]
    }
   ],
   "source": [
    "new1 = new_pi_df.join(tmp, on=\"Player\")"
   ]
  },
  {
   "cell_type": "code",
   "execution_count": null,
   "metadata": {},
   "outputs": [],
   "source": []
  },
  {
   "cell_type": "code",
   "execution_count": null,
   "metadata": {},
   "outputs": [],
   "source": []
  },
  {
   "cell_type": "code",
   "execution_count": null,
   "metadata": {},
   "outputs": [],
   "source": []
  },
  {
   "cell_type": "code",
   "execution_count": null,
   "metadata": {},
   "outputs": [],
   "source": []
  },
  {
   "cell_type": "code",
   "execution_count": null,
   "metadata": {},
   "outputs": [],
   "source": []
  },
  {
   "cell_type": "markdown",
   "metadata": {},
   "source": [
    "# The below analysis assumes that column etc_str1 is  the first three octet of IP address. The column etc_num2 is the last octet of the IP address. We need to combine them into one and probably make a new column out of it.\n",
    "# However, on doing the below steps, this seems as incorrect assumption. The etc_str1 is the only column having the IP address information. The missing octets is the missing information and can not be projected to a value. The column etc_num2 is really the level to which the player goes to while playing the game. "
   ]
  },
  {
   "cell_type": "code",
   "execution_count": 73,
   "metadata": {},
   "outputs": [],
   "source": [
    "def get_ip_from_values(octet123, octet4):\n",
    "    ip = None\n",
    "    octet123 = str(octet123)\n",
    "    octet4 = str(octet4)\n",
    "    if octet123.endswith(\".\"):\n",
    "        octet123 = octet123[0:len(octet123)-1]\n",
    "    octet_list = octet123.split(\".\")\n",
    "    #print(octet_list)\n",
    "    if len(octet_list) == 3:\n",
    "        return octet_list[0] + \".\" + octet_list[1] + \".\" + octet_list[2] + \".\" + octet4\n",
    "    elif len(octet_list) == 2:\n",
    "        # This means that octet2 is missing, so assume 0 for octet 2.\n",
    "        return octet_list[0] + \".\" + octet_list[1] + \".0.\" + octet4\n",
    "    elif len(octet_list) == 1:\n",
    "        # This means that octet2 and octet 1 is missing, so assume 0 for octet 2 and octet 1.\n",
    "        return octet_list[0] + \".0.0.\" + octet4"
   ]
  },
  {
   "cell_type": "code",
   "execution_count": 74,
   "metadata": {},
   "outputs": [
    {
     "name": "stdout",
     "output_type": "stream",
     "text": [
      "1.2.3.4\n",
      "1.2.0.4\n",
      "1.0.0.4\n",
      "1.2.0.4\n",
      "1.2.3.4\n",
      "1.0.0.4\n"
     ]
    }
   ],
   "source": [
    "# Test out the function\n",
    "print(get_ip_from_values(\"1.2.3\", \"4\"))\n",
    "print(get_ip_from_values(\"1.2\", \"4\"))\n",
    "print(get_ip_from_values(\"1\", \"4\"))\n",
    "print(get_ip_from_values(\"1.2.\", 4))\n",
    "print(get_ip_from_values(\"1.2.3.\", 4))\n",
    "print(get_ip_from_values(\"1.\", 4))"
   ]
  },
  {
   "cell_type": "code",
   "execution_count": 75,
   "metadata": {},
   "outputs": [],
   "source": [
    "# Now we will combine the two columns into one"
   ]
  },
  {
   "cell_type": "code",
   "execution_count": 76,
   "metadata": {},
   "outputs": [],
   "source": [
    "#test = pd.DataFrame({'col1': ['1.2.3', '1.2', '1'], 'col2': [1,2,3]})"
   ]
  },
  {
   "cell_type": "code",
   "execution_count": 19,
   "metadata": {},
   "outputs": [],
   "source": [
    "# Here we are taking only the etc_str1 and etc_num2 columns. For each of the row(variable s in lambda fn), we\n",
    "# apply the get_ip_from_values and get the output IP\n",
    "pi_df[\"ip_address\"] = pi_df[['etc_str1', 'etc_num2']].apply(lambda s: get_ip_from_values(s[0], s[1]), axis=1)"
   ]
  },
  {
   "cell_type": "code",
   "execution_count": 77,
   "metadata": {},
   "outputs": [
    {
     "data": {
      "text/html": [
       "<div>\n",
       "<style scoped>\n",
       "    .dataframe tbody tr th:only-of-type {\n",
       "        vertical-align: middle;\n",
       "    }\n",
       "\n",
       "    .dataframe tbody tr th {\n",
       "        vertical-align: top;\n",
       "    }\n",
       "\n",
       "    .dataframe thead th {\n",
       "        text-align: right;\n",
       "    }\n",
       "</style>\n",
       "<table border=\"1\" class=\"dataframe\">\n",
       "  <thead>\n",
       "    <tr style=\"text-align: right;\">\n",
       "      <th></th>\n",
       "      <th>Act_time</th>\n",
       "      <th>Actor</th>\n",
       "      <th>A_Acc</th>\n",
       "      <th>loc_x</th>\n",
       "      <th>loc_y</th>\n",
       "      <th>loc_z</th>\n",
       "      <th>etc_str1</th>\n",
       "      <th>etc_num2</th>\n",
       "      <th>ip_address</th>\n",
       "      <th>Player</th>\n",
       "    </tr>\n",
       "  </thead>\n",
       "  <tbody>\n",
       "    <tr>\n",
       "      <th>0</th>\n",
       "      <td>2010-04-09 00:00:02.310</td>\n",
       "      <td>376398</td>\n",
       "      <td>10534989</td>\n",
       "      <td>1686</td>\n",
       "      <td>1535</td>\n",
       "      <td>119</td>\n",
       "      <td>210.206.</td>\n",
       "      <td>10</td>\n",
       "      <td>210.206.0.10</td>\n",
       "      <td>37639810534989</td>\n",
       "    </tr>\n",
       "    <tr>\n",
       "      <th>1</th>\n",
       "      <td>2010-04-09 00:00:03.623</td>\n",
       "      <td>343471</td>\n",
       "      <td>8291880</td>\n",
       "      <td>2463</td>\n",
       "      <td>2062</td>\n",
       "      <td>578</td>\n",
       "      <td>116.36.1</td>\n",
       "      <td>50</td>\n",
       "      <td>116.36.1.50</td>\n",
       "      <td>3434718291880</td>\n",
       "    </tr>\n",
       "    <tr>\n",
       "      <th>2</th>\n",
       "      <td>2010-04-09 00:00:04.187</td>\n",
       "      <td>338523</td>\n",
       "      <td>10091973</td>\n",
       "      <td>212</td>\n",
       "      <td>194</td>\n",
       "      <td>107</td>\n",
       "      <td>122.35.8</td>\n",
       "      <td>42</td>\n",
       "      <td>122.35.8.42</td>\n",
       "      <td>33852310091973</td>\n",
       "    </tr>\n",
       "    <tr>\n",
       "      <th>3</th>\n",
       "      <td>2010-04-09 00:00:04.187</td>\n",
       "      <td>424234</td>\n",
       "      <td>6602247</td>\n",
       "      <td>1714</td>\n",
       "      <td>1868</td>\n",
       "      <td>255</td>\n",
       "      <td>218.237.</td>\n",
       "      <td>27</td>\n",
       "      <td>218.237.0.27</td>\n",
       "      <td>4242346602247</td>\n",
       "    </tr>\n",
       "    <tr>\n",
       "      <th>4</th>\n",
       "      <td>2010-04-09 00:00:04.827</td>\n",
       "      <td>296513</td>\n",
       "      <td>9098427</td>\n",
       "      <td>1244</td>\n",
       "      <td>1562</td>\n",
       "      <td>214</td>\n",
       "      <td>119.192.</td>\n",
       "      <td>47</td>\n",
       "      <td>119.192.0.47</td>\n",
       "      <td>2965139098427</td>\n",
       "    </tr>\n",
       "  </tbody>\n",
       "</table>\n",
       "</div>"
      ],
      "text/plain": [
       "                  Act_time   Actor     A_Acc  loc_x  loc_y  loc_z  etc_str1  \\\n",
       "0  2010-04-09 00:00:02.310  376398  10534989   1686   1535    119  210.206.   \n",
       "1  2010-04-09 00:00:03.623  343471   8291880   2463   2062    578  116.36.1   \n",
       "2  2010-04-09 00:00:04.187  338523  10091973    212    194    107  122.35.8   \n",
       "3  2010-04-09 00:00:04.187  424234   6602247   1714   1868    255  218.237.   \n",
       "4  2010-04-09 00:00:04.827  296513   9098427   1244   1562    214  119.192.   \n",
       "\n",
       "   etc_num2    ip_address          Player  \n",
       "0        10  210.206.0.10  37639810534989  \n",
       "1        50   116.36.1.50   3434718291880  \n",
       "2        42   122.35.8.42  33852310091973  \n",
       "3        27  218.237.0.27   4242346602247  \n",
       "4        47  119.192.0.47   2965139098427  "
      ]
     },
     "execution_count": 77,
     "metadata": {},
     "output_type": "execute_result"
    }
   ],
   "source": [
    "pi_df.head(5)"
   ]
  },
  {
   "cell_type": "code",
   "execution_count": 78,
   "metadata": {},
   "outputs": [],
   "source": [
    "def validate_ip(ipaddress):\n",
    "    ipaddress = str(ipaddress)\n",
    "    octets = ipaddress.split(\".\")\n",
    "    try:\n",
    "        for octet in octets:\n",
    "            if int(octet) > 255:\n",
    "                return False\n",
    "        return True\n",
    "    except Exception:\n",
    "        #print(ipaddress)\n",
    "        return False"
   ]
  },
  {
   "cell_type": "code",
   "execution_count": 79,
   "metadata": {},
   "outputs": [
    {
     "name": "stdout",
     "output_type": "stream",
     "text": [
      "True\n"
     ]
    }
   ],
   "source": [
    "print(validate_ip('210.206.0.10'))"
   ]
  },
  {
   "cell_type": "code",
   "execution_count": 80,
   "metadata": {},
   "outputs": [],
   "source": [
    "invalid_ip_df = pi_df[pi_df.ip_address.isnull()]"
   ]
  },
  {
   "cell_type": "code",
   "execution_count": 81,
   "metadata": {},
   "outputs": [
    {
     "data": {
      "text/html": [
       "<div>\n",
       "<style scoped>\n",
       "    .dataframe tbody tr th:only-of-type {\n",
       "        vertical-align: middle;\n",
       "    }\n",
       "\n",
       "    .dataframe tbody tr th {\n",
       "        vertical-align: top;\n",
       "    }\n",
       "\n",
       "    .dataframe thead th {\n",
       "        text-align: right;\n",
       "    }\n",
       "</style>\n",
       "<table border=\"1\" class=\"dataframe\">\n",
       "  <thead>\n",
       "    <tr style=\"text-align: right;\">\n",
       "      <th></th>\n",
       "      <th>Act_time</th>\n",
       "      <th>Actor</th>\n",
       "      <th>A_Acc</th>\n",
       "      <th>loc_x</th>\n",
       "      <th>loc_y</th>\n",
       "      <th>loc_z</th>\n",
       "      <th>etc_str1</th>\n",
       "      <th>etc_num2</th>\n",
       "      <th>ip_address</th>\n",
       "      <th>Player</th>\n",
       "    </tr>\n",
       "  </thead>\n",
       "  <tbody>\n",
       "    <tr>\n",
       "      <th>989</th>\n",
       "      <td>2010-04-09 00:13:55.420</td>\n",
       "      <td>362935</td>\n",
       "      <td>10400260</td>\n",
       "      <td>1686</td>\n",
       "      <td>1535</td>\n",
       "      <td>119</td>\n",
       "      <td>59.3.5.3</td>\n",
       "      <td>10</td>\n",
       "      <td>None</td>\n",
       "      <td>36293510400260</td>\n",
       "    </tr>\n",
       "    <tr>\n",
       "      <th>1798</th>\n",
       "      <td>2010-04-09 00:27:51.043</td>\n",
       "      <td>362935</td>\n",
       "      <td>10400260</td>\n",
       "      <td>1686</td>\n",
       "      <td>1535</td>\n",
       "      <td>119</td>\n",
       "      <td>59.3.5.3</td>\n",
       "      <td>10</td>\n",
       "      <td>None</td>\n",
       "      <td>36293510400260</td>\n",
       "    </tr>\n",
       "    <tr>\n",
       "      <th>2671</th>\n",
       "      <td>2010-04-09 00:43:35.827</td>\n",
       "      <td>362935</td>\n",
       "      <td>10400260</td>\n",
       "      <td>1686</td>\n",
       "      <td>1535</td>\n",
       "      <td>119</td>\n",
       "      <td>59.3.5.3</td>\n",
       "      <td>10</td>\n",
       "      <td>None</td>\n",
       "      <td>36293510400260</td>\n",
       "    </tr>\n",
       "    <tr>\n",
       "      <th>3441</th>\n",
       "      <td>2010-04-09 00:57:45.013</td>\n",
       "      <td>362935</td>\n",
       "      <td>10400260</td>\n",
       "      <td>1686</td>\n",
       "      <td>1535</td>\n",
       "      <td>119</td>\n",
       "      <td>59.3.5.3</td>\n",
       "      <td>10</td>\n",
       "      <td>None</td>\n",
       "      <td>36293510400260</td>\n",
       "    </tr>\n",
       "    <tr>\n",
       "      <th>4226</th>\n",
       "      <td>2010-04-09 01:11:29.373</td>\n",
       "      <td>362935</td>\n",
       "      <td>10400260</td>\n",
       "      <td>1686</td>\n",
       "      <td>1535</td>\n",
       "      <td>119</td>\n",
       "      <td>59.3.5.3</td>\n",
       "      <td>10</td>\n",
       "      <td>None</td>\n",
       "      <td>36293510400260</td>\n",
       "    </tr>\n",
       "  </tbody>\n",
       "</table>\n",
       "</div>"
      ],
      "text/plain": [
       "                     Act_time   Actor     A_Acc  loc_x  loc_y  loc_z  \\\n",
       "989   2010-04-09 00:13:55.420  362935  10400260   1686   1535    119   \n",
       "1798  2010-04-09 00:27:51.043  362935  10400260   1686   1535    119   \n",
       "2671  2010-04-09 00:43:35.827  362935  10400260   1686   1535    119   \n",
       "3441  2010-04-09 00:57:45.013  362935  10400260   1686   1535    119   \n",
       "4226  2010-04-09 01:11:29.373  362935  10400260   1686   1535    119   \n",
       "\n",
       "      etc_str1  etc_num2 ip_address          Player  \n",
       "989   59.3.5.3        10       None  36293510400260  \n",
       "1798  59.3.5.3        10       None  36293510400260  \n",
       "2671  59.3.5.3        10       None  36293510400260  \n",
       "3441  59.3.5.3        10       None  36293510400260  \n",
       "4226  59.3.5.3        10       None  36293510400260  "
      ]
     },
     "execution_count": 81,
     "metadata": {},
     "output_type": "execute_result"
    }
   ],
   "source": [
    "invalid_ip_df.head(5)"
   ]
  },
  {
   "cell_type": "code",
   "execution_count": 82,
   "metadata": {},
   "outputs": [
    {
     "data": {
      "text/plain": [
       "40852210811282    12231\n",
       "43920811016837     8924\n",
       "36293510400260      540\n",
       "2250418871463       347\n",
       "2529348871463       228\n",
       "Name: Player, dtype: int64"
      ]
     },
     "execution_count": 82,
     "metadata": {},
     "output_type": "execute_result"
    }
   ],
   "source": [
    "invalid_ip_df.Player.value_counts().head(5)"
   ]
  },
  {
   "cell_type": "code",
   "execution_count": 26,
   "metadata": {},
   "outputs": [
    {
     "name": "stdout",
     "output_type": "stream",
     "text": [
      "<class 'pandas.core.frame.DataFrame'>\n",
      "Int64Index: 24518 entries, 989 to 5687468\n",
      "Data columns (total 9 columns):\n",
      "Act_time      24518 non-null object\n",
      "Actor         24518 non-null int64\n",
      "A_Acc         24518 non-null int64\n",
      "loc_x         24518 non-null int64\n",
      "loc_y         24518 non-null int64\n",
      "loc_z         24518 non-null int64\n",
      "etc_str1      24518 non-null object\n",
      "etc_num2      24518 non-null int64\n",
      "ip_address    0 non-null object\n",
      "dtypes: int64(6), object(3)\n",
      "memory usage: 1.9+ MB\n"
     ]
    }
   ],
   "source": [
    "invalid_ip_df.info()"
   ]
  },
  {
   "cell_type": "code",
   "execution_count": 83,
   "metadata": {},
   "outputs": [],
   "source": [
    "pi_df_player_ips_grpby = pi_df[['Player', 'ip_address']].groupby(by=['Player'])"
   ]
  },
  {
   "cell_type": "code",
   "execution_count": 63,
   "metadata": {},
   "outputs": [
    {
     "ename": "NameError",
     "evalue": "name 'pi_df_player_ips_grpby' is not defined",
     "output_type": "error",
     "traceback": [
      "\u001b[0;31m---------------------------------------------------------------------------\u001b[0m",
      "\u001b[0;31mNameError\u001b[0m                                 Traceback (most recent call last)",
      "\u001b[0;32m<ipython-input-63-71cc03ab2306>\u001b[0m in \u001b[0;36m<module>\u001b[0;34m()\u001b[0m\n\u001b[0;32m----> 1\u001b[0;31m \u001b[0mpi_df_player_ips_grpby\u001b[0m\u001b[0;34m.\u001b[0m\u001b[0mget_group\u001b[0m\u001b[0;34m(\u001b[0m\u001b[0;34m'20396130143'\u001b[0m\u001b[0;34m)\u001b[0m\u001b[0;34m[\u001b[0m\u001b[0;34m'ip_address'\u001b[0m\u001b[0;34m]\u001b[0m\u001b[0;34m.\u001b[0m\u001b[0munique\u001b[0m\u001b[0;34m(\u001b[0m\u001b[0;34m)\u001b[0m\u001b[0;34m\u001b[0m\u001b[0m\n\u001b[0m",
      "\u001b[0;31mNameError\u001b[0m: name 'pi_df_player_ips_grpby' is not defined"
     ]
    }
   ],
   "source": [
    "pi_df_player_ips_grpby.get_group('20396130143')['etc_str1'].unique()"
   ]
  },
  {
   "cell_type": "code",
   "execution_count": 122,
   "metadata": {},
   "outputs": [
    {
     "data": {
      "text/plain": [
       "Player        9\n",
       "ip_address    9\n",
       "dtype: int64"
      ]
     },
     "execution_count": 122,
     "metadata": {},
     "output_type": "execute_result"
    }
   ],
   "source": [
    "pi_df_player_ips_grpby.get_group('22385811587').count()\n",
    "#invalid_ip_df[invalid_ip_df['Actor'] == 1047]"
   ]
  },
  {
   "cell_type": "code",
   "execution_count": 73,
   "metadata": {},
   "outputs": [
    {
     "name": "stdout",
     "output_type": "stream",
     "text": [
      "73293 25120 28157\n"
     ]
    }
   ],
   "source": [
    "tmp = pi_df[pi_df.Player == '1049_6275719']\n",
    "print(np.sum(tmp.loc_x), np.sum(tmp.loc_y), np.sum(tmp.loc_z),)\n"
   ]
  },
  {
   "cell_type": "code",
   "execution_count": null,
   "metadata": {},
   "outputs": [],
   "source": [
    "# 20396130143   --- Logged in only once.    Total play time:   10827\n",
    "# 26386298485 -- three entries over 2 days.  Total play time : 12353   "
   ]
  },
  {
   "cell_type": "code",
   "execution_count": null,
   "metadata": {},
   "outputs": [],
   "source": [
    "pi_df[pi_df.]"
   ]
  },
  {
   "cell_type": "markdown",
   "metadata": {},
   "source": [
    "# Finding Players login frequency"
   ]
  },
  {
   "cell_type": "code",
   "execution_count": 50,
   "metadata": {},
   "outputs": [
    {
     "data": {
      "text/plain": [
       "55"
      ]
     },
     "execution_count": 50,
     "metadata": {},
     "output_type": "execute_result"
    }
   ],
   "source": []
  },
  {
   "cell_type": "code",
   "execution_count": 54,
   "metadata": {},
   "outputs": [
    {
     "data": {
      "text/html": [
       "<div>\n",
       "<style scoped>\n",
       "    .dataframe tbody tr th:only-of-type {\n",
       "        vertical-align: middle;\n",
       "    }\n",
       "\n",
       "    .dataframe tbody tr th {\n",
       "        vertical-align: top;\n",
       "    }\n",
       "\n",
       "    .dataframe thead th {\n",
       "        text-align: right;\n",
       "    }\n",
       "</style>\n",
       "<table border=\"1\" class=\"dataframe\">\n",
       "  <thead>\n",
       "    <tr style=\"text-align: right;\">\n",
       "      <th></th>\n",
       "      <th>Act_time</th>\n",
       "      <th>Actor</th>\n",
       "      <th>A_Acc</th>\n",
       "      <th>loc_x</th>\n",
       "      <th>loc_y</th>\n",
       "      <th>loc_z</th>\n",
       "      <th>etc_str1</th>\n",
       "      <th>etc_num2</th>\n",
       "      <th>ip_address</th>\n",
       "    </tr>\n",
       "  </thead>\n",
       "  <tbody>\n",
       "  </tbody>\n",
       "</table>\n",
       "</div>"
      ],
      "text/plain": [
       "Empty DataFrame\n",
       "Columns: [Act_time, Actor, A_Acc, loc_x, loc_y, loc_z, etc_str1, etc_num2, ip_address]\n",
       "Index: []"
      ]
     },
     "execution_count": 54,
     "metadata": {},
     "output_type": "execute_result"
    }
   ],
   "source": []
  },
  {
   "cell_type": "code",
   "execution_count": 126,
   "metadata": {},
   "outputs": [],
   "source": []
  },
  {
   "cell_type": "code",
   "execution_count": 133,
   "metadata": {},
   "outputs": [],
   "source": []
  },
  {
   "cell_type": "code",
   "execution_count": 136,
   "metadata": {},
   "outputs": [
    {
     "data": {
      "text/plain": [
       "dtype('int64')"
      ]
     },
     "execution_count": 136,
     "metadata": {},
     "output_type": "execute_result"
    }
   ],
   "source": []
  },
  {
   "cell_type": "code",
   "execution_count": 110,
   "metadata": {},
   "outputs": [],
   "source": [
    "# First, group by Actor\n",
    "actor_login_time_grp_by = pi_df[['Actor', 'A_Acc', 'Act_time']].groupby(by=['Actor', 'A_Acc'])"
   ]
  },
  {
   "cell_type": "code",
   "execution_count": 111,
   "metadata": {},
   "outputs": [
    {
     "data": {
      "text/html": [
       "<div>\n",
       "<style scoped>\n",
       "    .dataframe tbody tr th:only-of-type {\n",
       "        vertical-align: middle;\n",
       "    }\n",
       "\n",
       "    .dataframe tbody tr th {\n",
       "        vertical-align: top;\n",
       "    }\n",
       "\n",
       "    .dataframe thead th {\n",
       "        text-align: right;\n",
       "    }\n",
       "</style>\n",
       "<table border=\"1\" class=\"dataframe\">\n",
       "  <thead>\n",
       "    <tr style=\"text-align: right;\">\n",
       "      <th></th>\n",
       "      <th></th>\n",
       "      <th>Act_time</th>\n",
       "    </tr>\n",
       "    <tr>\n",
       "      <th>Actor</th>\n",
       "      <th>A_Acc</th>\n",
       "      <th></th>\n",
       "    </tr>\n",
       "  </thead>\n",
       "  <tbody>\n",
       "    <tr>\n",
       "      <th>372311</th>\n",
       "      <th>10501244</th>\n",
       "      <td>15247</td>\n",
       "    </tr>\n",
       "    <tr>\n",
       "      <th>374318</th>\n",
       "      <th>10501244</th>\n",
       "      <td>15242</td>\n",
       "    </tr>\n",
       "    <tr>\n",
       "      <th>374321</th>\n",
       "      <th>10501244</th>\n",
       "      <td>15242</td>\n",
       "    </tr>\n",
       "    <tr>\n",
       "      <th>374319</th>\n",
       "      <th>10501244</th>\n",
       "      <td>15238</td>\n",
       "    </tr>\n",
       "    <tr>\n",
       "      <th>374322</th>\n",
       "      <th>10501244</th>\n",
       "      <td>15237</td>\n",
       "    </tr>\n",
       "    <tr>\n",
       "      <th>408522</th>\n",
       "      <th>10811282</th>\n",
       "      <td>13032</td>\n",
       "    </tr>\n",
       "    <tr>\n",
       "      <th>318771</th>\n",
       "      <th>9883148</th>\n",
       "      <td>12708</td>\n",
       "    </tr>\n",
       "    <tr>\n",
       "      <th>376398</th>\n",
       "      <th>10534989</th>\n",
       "      <td>12628</td>\n",
       "    </tr>\n",
       "    <tr>\n",
       "      <th>424111</th>\n",
       "      <th>10960451</th>\n",
       "      <td>12494</td>\n",
       "    </tr>\n",
       "    <tr>\n",
       "      <th>403485</th>\n",
       "      <th>10765729</th>\n",
       "      <td>12460</td>\n",
       "    </tr>\n",
       "    <tr>\n",
       "      <th>369400</th>\n",
       "      <th>10454837</th>\n",
       "      <td>12388</td>\n",
       "    </tr>\n",
       "    <tr>\n",
       "      <th>343174</th>\n",
       "      <th>10164007</th>\n",
       "      <td>12379</td>\n",
       "    </tr>\n",
       "    <tr>\n",
       "      <th>336667</th>\n",
       "      <th>10079341</th>\n",
       "      <td>12351</td>\n",
       "    </tr>\n",
       "    <tr>\n",
       "      <th>402097</th>\n",
       "      <th>10735644</th>\n",
       "      <td>12331</td>\n",
       "    </tr>\n",
       "    <tr>\n",
       "      <th>342000</th>\n",
       "      <th>10163897</th>\n",
       "      <td>12277</td>\n",
       "    </tr>\n",
       "    <tr>\n",
       "      <th>383092</th>\n",
       "      <th>10589584</th>\n",
       "      <td>12126</td>\n",
       "    </tr>\n",
       "    <tr>\n",
       "      <th>390971</th>\n",
       "      <th>10665903</th>\n",
       "      <td>12112</td>\n",
       "    </tr>\n",
       "    <tr>\n",
       "      <th>368290</th>\n",
       "      <th>10112212</th>\n",
       "      <td>12111</td>\n",
       "    </tr>\n",
       "    <tr>\n",
       "      <th>394830</th>\n",
       "      <th>10670649</th>\n",
       "      <td>12074</td>\n",
       "    </tr>\n",
       "    <tr>\n",
       "      <th>340454</th>\n",
       "      <th>10104228</th>\n",
       "      <td>11906</td>\n",
       "    </tr>\n",
       "    <tr>\n",
       "      <th>407921</th>\n",
       "      <th>10816606</th>\n",
       "      <td>11898</td>\n",
       "    </tr>\n",
       "    <tr>\n",
       "      <th>332881</th>\n",
       "      <th>10069457</th>\n",
       "      <td>11672</td>\n",
       "    </tr>\n",
       "    <tr>\n",
       "      <th>321874</th>\n",
       "      <th>9935050</th>\n",
       "      <td>11613</td>\n",
       "    </tr>\n",
       "    <tr>\n",
       "      <th>374171</th>\n",
       "      <th>10482033</th>\n",
       "      <td>11438</td>\n",
       "    </tr>\n",
       "    <tr>\n",
       "      <th>335057</th>\n",
       "      <th>10079325</th>\n",
       "      <td>11316</td>\n",
       "    </tr>\n",
       "    <tr>\n",
       "      <th>317648</th>\n",
       "      <th>9830376</th>\n",
       "      <td>11307</td>\n",
       "    </tr>\n",
       "    <tr>\n",
       "      <th>426315</th>\n",
       "      <th>10967738</th>\n",
       "      <td>10893</td>\n",
       "    </tr>\n",
       "    <tr>\n",
       "      <th>364623</th>\n",
       "      <th>10188071</th>\n",
       "      <td>10883</td>\n",
       "    </tr>\n",
       "    <tr>\n",
       "      <th>390061</th>\n",
       "      <th>10549593</th>\n",
       "      <td>10784</td>\n",
       "    </tr>\n",
       "    <tr>\n",
       "      <th>296509</th>\n",
       "      <th>9222937</th>\n",
       "      <td>10708</td>\n",
       "    </tr>\n",
       "    <tr>\n",
       "      <th>...</th>\n",
       "      <th>...</th>\n",
       "      <td>...</td>\n",
       "    </tr>\n",
       "    <tr>\n",
       "      <th>432905</th>\n",
       "      <th>11040574</th>\n",
       "      <td>1</td>\n",
       "    </tr>\n",
       "    <tr>\n",
       "      <th>122298</th>\n",
       "      <th>7938648</th>\n",
       "      <td>1</td>\n",
       "    </tr>\n",
       "    <tr>\n",
       "      <th>268181</th>\n",
       "      <th>9340249</th>\n",
       "      <td>1</td>\n",
       "    </tr>\n",
       "    <tr>\n",
       "      <th>268178</th>\n",
       "      <th>9340249</th>\n",
       "      <td>1</td>\n",
       "    </tr>\n",
       "    <tr>\n",
       "      <th>122362</th>\n",
       "      <th>6475212</th>\n",
       "      <td>1</td>\n",
       "    </tr>\n",
       "    <tr>\n",
       "      <th>453512</th>\n",
       "      <th>6714411</th>\n",
       "      <td>1</td>\n",
       "    </tr>\n",
       "    <tr>\n",
       "      <th>121946</th>\n",
       "      <th>6474367</th>\n",
       "      <td>1</td>\n",
       "    </tr>\n",
       "    <tr>\n",
       "      <th>432847</th>\n",
       "      <th>10765657</th>\n",
       "      <td>1</td>\n",
       "    </tr>\n",
       "    <tr>\n",
       "      <th>432864</th>\n",
       "      <th>10613164</th>\n",
       "      <td>1</td>\n",
       "    </tr>\n",
       "    <tr>\n",
       "      <th>432848</th>\n",
       "      <th>10194766</th>\n",
       "      <td>1</td>\n",
       "    </tr>\n",
       "    <tr>\n",
       "      <th>121609</th>\n",
       "      <th>6311860</th>\n",
       "      <td>1</td>\n",
       "    </tr>\n",
       "    <tr>\n",
       "      <th>453545</th>\n",
       "      <th>10661148</th>\n",
       "      <td>1</td>\n",
       "    </tr>\n",
       "    <tr>\n",
       "      <th>432859</th>\n",
       "      <th>11040619</th>\n",
       "      <td>1</td>\n",
       "    </tr>\n",
       "    <tr>\n",
       "      <th>432860</th>\n",
       "      <th>11040619</th>\n",
       "      <td>1</td>\n",
       "    </tr>\n",
       "    <tr>\n",
       "      <th>432861</th>\n",
       "      <th>7334363</th>\n",
       "      <td>1</td>\n",
       "    </tr>\n",
       "    <tr>\n",
       "      <th>432863</th>\n",
       "      <th>6944802</th>\n",
       "      <td>1</td>\n",
       "    </tr>\n",
       "    <tr>\n",
       "      <th>121630</th>\n",
       "      <th>6777333</th>\n",
       "      <td>1</td>\n",
       "    </tr>\n",
       "    <tr>\n",
       "      <th>121633</th>\n",
       "      <th>6634581</th>\n",
       "      <td>1</td>\n",
       "    </tr>\n",
       "    <tr>\n",
       "      <th>453532</th>\n",
       "      <th>10661148</th>\n",
       "      <td>1</td>\n",
       "    </tr>\n",
       "    <tr>\n",
       "      <th>453517</th>\n",
       "      <th>6396927</th>\n",
       "      <td>1</td>\n",
       "    </tr>\n",
       "    <tr>\n",
       "      <th>268460</th>\n",
       "      <th>6854510</th>\n",
       "      <td>1</td>\n",
       "    </tr>\n",
       "    <tr>\n",
       "      <th>268398</th>\n",
       "      <th>8667321</th>\n",
       "      <td>1</td>\n",
       "    </tr>\n",
       "    <tr>\n",
       "      <th>121785</th>\n",
       "      <th>7067344</th>\n",
       "      <td>1</td>\n",
       "    </tr>\n",
       "    <tr>\n",
       "      <th>121820</th>\n",
       "      <th>7680355</th>\n",
       "      <td>1</td>\n",
       "    </tr>\n",
       "    <tr>\n",
       "      <th>432875</th>\n",
       "      <th>6155653</th>\n",
       "      <td>1</td>\n",
       "    </tr>\n",
       "    <tr>\n",
       "      <th>268387</th>\n",
       "      <th>8576179</th>\n",
       "      <td>1</td>\n",
       "    </tr>\n",
       "    <tr>\n",
       "      <th>453522</th>\n",
       "      <th>9187940</th>\n",
       "      <td>1</td>\n",
       "    </tr>\n",
       "    <tr>\n",
       "      <th>432877</th>\n",
       "      <th>6493522</th>\n",
       "      <td>1</td>\n",
       "    </tr>\n",
       "    <tr>\n",
       "      <th>121897</th>\n",
       "      <th>7935406</th>\n",
       "      <td>1</td>\n",
       "    </tr>\n",
       "    <tr>\n",
       "      <th>473023</th>\n",
       "      <th>4628157</th>\n",
       "      <td>1</td>\n",
       "    </tr>\n",
       "  </tbody>\n",
       "</table>\n",
       "<p>97354 rows × 1 columns</p>\n",
       "</div>"
      ],
      "text/plain": [
       "                 Act_time\n",
       "Actor  A_Acc             \n",
       "372311 10501244     15247\n",
       "374318 10501244     15242\n",
       "374321 10501244     15242\n",
       "374319 10501244     15238\n",
       "374322 10501244     15237\n",
       "408522 10811282     13032\n",
       "318771 9883148      12708\n",
       "376398 10534989     12628\n",
       "424111 10960451     12494\n",
       "403485 10765729     12460\n",
       "369400 10454837     12388\n",
       "343174 10164007     12379\n",
       "336667 10079341     12351\n",
       "402097 10735644     12331\n",
       "342000 10163897     12277\n",
       "383092 10589584     12126\n",
       "390971 10665903     12112\n",
       "368290 10112212     12111\n",
       "394830 10670649     12074\n",
       "340454 10104228     11906\n",
       "407921 10816606     11898\n",
       "332881 10069457     11672\n",
       "321874 9935050      11613\n",
       "374171 10482033     11438\n",
       "335057 10079325     11316\n",
       "317648 9830376      11307\n",
       "426315 10967738     10893\n",
       "364623 10188071     10883\n",
       "390061 10549593     10784\n",
       "296509 9222937      10708\n",
       "...                   ...\n",
       "432905 11040574         1\n",
       "122298 7938648          1\n",
       "268181 9340249          1\n",
       "268178 9340249          1\n",
       "122362 6475212          1\n",
       "453512 6714411          1\n",
       "121946 6474367          1\n",
       "432847 10765657         1\n",
       "432864 10613164         1\n",
       "432848 10194766         1\n",
       "121609 6311860          1\n",
       "453545 10661148         1\n",
       "432859 11040619         1\n",
       "432860 11040619         1\n",
       "432861 7334363          1\n",
       "432863 6944802          1\n",
       "121630 6777333          1\n",
       "121633 6634581          1\n",
       "453532 10661148         1\n",
       "453517 6396927          1\n",
       "268460 6854510          1\n",
       "268398 8667321          1\n",
       "121785 7067344          1\n",
       "121820 7680355          1\n",
       "432875 6155653          1\n",
       "268387 8576179          1\n",
       "453522 9187940          1\n",
       "432877 6493522          1\n",
       "121897 7935406          1\n",
       "473023 4628157          1\n",
       "\n",
       "[97354 rows x 1 columns]"
      ]
     },
     "execution_count": 111,
     "metadata": {},
     "output_type": "execute_result"
    }
   ],
   "source": [
    "actor_login_time_grp_by.count().sort_values(by='Act_time', ascending=False)"
   ]
  },
  {
   "cell_type": "code",
   "execution_count": null,
   "metadata": {},
   "outputs": [],
   "source": []
  }
 ],
 "metadata": {
  "kernelspec": {
   "display_name": "Python 3",
   "language": "python",
   "name": "python3"
  },
  "language_info": {
   "codemirror_mode": {
    "name": "ipython",
    "version": 3
   },
   "file_extension": ".py",
   "mimetype": "text/x-python",
   "name": "python",
   "nbconvert_exporter": "python",
   "pygments_lexer": "ipython3",
   "version": "3.6.4"
  }
 },
 "nbformat": 4,
 "nbformat_minor": 2
}
