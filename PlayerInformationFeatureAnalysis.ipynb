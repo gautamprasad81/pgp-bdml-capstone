{
 "cells": [
  {
   "cell_type": "code",
   "execution_count": 1,
   "metadata": {},
   "outputs": [],
   "source": [
    "import numpy as np\n",
    "import pandas as pd"
   ]
  },
  {
   "cell_type": "code",
   "execution_count": 2,
   "metadata": {},
   "outputs": [],
   "source": [
    "pi_df = pd.read_csv(\"PlayerInformationFeatures.csv\")"
   ]
  },
  {
   "cell_type": "code",
   "execution_count": 3,
   "metadata": {},
   "outputs": [
    {
     "data": {
      "text/html": [
       "<div>\n",
       "<style scoped>\n",
       "    .dataframe tbody tr th:only-of-type {\n",
       "        vertical-align: middle;\n",
       "    }\n",
       "\n",
       "    .dataframe tbody tr th {\n",
       "        vertical-align: top;\n",
       "    }\n",
       "\n",
       "    .dataframe thead th {\n",
       "        text-align: right;\n",
       "    }\n",
       "</style>\n",
       "<table border=\"1\" class=\"dataframe\">\n",
       "  <thead>\n",
       "    <tr style=\"text-align: right;\">\n",
       "      <th></th>\n",
       "      <th>Act_time</th>\n",
       "      <th>Actor</th>\n",
       "      <th>A_Acc</th>\n",
       "      <th>loc_x</th>\n",
       "      <th>loc_y</th>\n",
       "      <th>loc_z</th>\n",
       "      <th>etc_str1</th>\n",
       "      <th>etc_num2</th>\n",
       "    </tr>\n",
       "  </thead>\n",
       "  <tbody>\n",
       "    <tr>\n",
       "      <th>0</th>\n",
       "      <td>2010-04-09 00:00:02.310</td>\n",
       "      <td>376398</td>\n",
       "      <td>10534989</td>\n",
       "      <td>1686</td>\n",
       "      <td>1535</td>\n",
       "      <td>119</td>\n",
       "      <td>210.206.</td>\n",
       "      <td>10</td>\n",
       "    </tr>\n",
       "    <tr>\n",
       "      <th>1</th>\n",
       "      <td>2010-04-09 00:00:03.623</td>\n",
       "      <td>343471</td>\n",
       "      <td>8291880</td>\n",
       "      <td>2463</td>\n",
       "      <td>2062</td>\n",
       "      <td>578</td>\n",
       "      <td>116.36.1</td>\n",
       "      <td>50</td>\n",
       "    </tr>\n",
       "    <tr>\n",
       "      <th>2</th>\n",
       "      <td>2010-04-09 00:00:04.187</td>\n",
       "      <td>338523</td>\n",
       "      <td>10091973</td>\n",
       "      <td>212</td>\n",
       "      <td>194</td>\n",
       "      <td>107</td>\n",
       "      <td>122.35.8</td>\n",
       "      <td>42</td>\n",
       "    </tr>\n",
       "    <tr>\n",
       "      <th>3</th>\n",
       "      <td>2010-04-09 00:00:04.187</td>\n",
       "      <td>424234</td>\n",
       "      <td>6602247</td>\n",
       "      <td>1714</td>\n",
       "      <td>1868</td>\n",
       "      <td>255</td>\n",
       "      <td>218.237.</td>\n",
       "      <td>27</td>\n",
       "    </tr>\n",
       "    <tr>\n",
       "      <th>4</th>\n",
       "      <td>2010-04-09 00:00:04.827</td>\n",
       "      <td>296513</td>\n",
       "      <td>9098427</td>\n",
       "      <td>1244</td>\n",
       "      <td>1562</td>\n",
       "      <td>214</td>\n",
       "      <td>119.192.</td>\n",
       "      <td>47</td>\n",
       "    </tr>\n",
       "  </tbody>\n",
       "</table>\n",
       "</div>"
      ],
      "text/plain": [
       "                  Act_time   Actor     A_Acc  loc_x  loc_y  loc_z  etc_str1  \\\n",
       "0  2010-04-09 00:00:02.310  376398  10534989   1686   1535    119  210.206.   \n",
       "1  2010-04-09 00:00:03.623  343471   8291880   2463   2062    578  116.36.1   \n",
       "2  2010-04-09 00:00:04.187  338523  10091973    212    194    107  122.35.8   \n",
       "3  2010-04-09 00:00:04.187  424234   6602247   1714   1868    255  218.237.   \n",
       "4  2010-04-09 00:00:04.827  296513   9098427   1244   1562    214  119.192.   \n",
       "\n",
       "   etc_num2  \n",
       "0        10  \n",
       "1        50  \n",
       "2        42  \n",
       "3        27  \n",
       "4        47  "
      ]
     },
     "execution_count": 3,
     "metadata": {},
     "output_type": "execute_result"
    }
   ],
   "source": [
    "pi_df.head(5)"
   ]
  },
  {
   "cell_type": "code",
   "execution_count": 4,
   "metadata": {},
   "outputs": [
    {
     "name": "stdout",
     "output_type": "stream",
     "text": [
      "<class 'pandas.core.frame.DataFrame'>\n",
      "RangeIndex: 5687619 entries, 0 to 5687618\n",
      "Data columns (total 8 columns):\n",
      "Act_time    object\n",
      "Actor       int64\n",
      "A_Acc       int64\n",
      "loc_x       int64\n",
      "loc_y       int64\n",
      "loc_z       int64\n",
      "etc_str1    object\n",
      "etc_num2    int64\n",
      "dtypes: int64(6), object(2)\n",
      "memory usage: 347.1+ MB\n"
     ]
    }
   ],
   "source": [
    "pi_df.info()"
   ]
  },
  {
   "cell_type": "code",
   "execution_count": 6,
   "metadata": {},
   "outputs": [
    {
     "data": {
      "text/plain": [
       "Act_time    False\n",
       "Actor       False\n",
       "A_Acc       False\n",
       "loc_x       False\n",
       "loc_y       False\n",
       "loc_z       False\n",
       "etc_str1    False\n",
       "etc_num2    False\n",
       "dtype: bool"
      ]
     },
     "execution_count": 6,
     "metadata": {},
     "output_type": "execute_result"
    }
   ],
   "source": [
    "# We do not have any null values\n",
    "pi_df.isnull().any()"
   ]
  },
  {
   "cell_type": "code",
   "execution_count": 7,
   "metadata": {},
   "outputs": [
    {
     "data": {
      "text/plain": [
       "Act_time    False\n",
       "Actor       False\n",
       "A_Acc       False\n",
       "loc_x       False\n",
       "loc_y       False\n",
       "loc_z       False\n",
       "etc_str1    False\n",
       "etc_num2    False\n",
       "dtype: bool"
      ]
     },
     "execution_count": 7,
     "metadata": {},
     "output_type": "execute_result"
    }
   ],
   "source": [
    "pi_df.isna().any()"
   ]
  },
  {
   "cell_type": "code",
   "execution_count": 8,
   "metadata": {},
   "outputs": [],
   "source": [
    "# From the above two, we can see that the dataset does not have any missing values."
   ]
  },
  {
   "cell_type": "code",
   "execution_count": 9,
   "metadata": {},
   "outputs": [],
   "source": [
    "# The column etc_str1 is really the first three octet of IP address. The column etc_num2 is the last octet\n",
    "# of the IP address. We need to combine them into one and probably make a new column out of it."
   ]
  },
  {
   "cell_type": "code",
   "execution_count": 52,
   "metadata": {},
   "outputs": [],
   "source": [
    "def get_ip_from_values(octet123, octet4):\n",
    "    ip = None\n",
    "    octet123 = str(octet123)\n",
    "    octet4 = str(octet4)\n",
    "    if octet123.endswith(\".\"):\n",
    "        octet123 = octet123[0:len(octet123)-1]\n",
    "    octet_list = octet123.split(\".\")\n",
    "    #print(octet_list)\n",
    "    if len(octet_list) == 3:\n",
    "        return octet_list[0] + \".\" + octet_list[1] + \".\" + octet_list[2] + \".\" + octet4\n",
    "    elif len(octet_list) == 2:\n",
    "        # This means that octet2 is missing, so assume 0 for octet 2.\n",
    "        return octet_list[0] + \".\" + octet_list[1] + \".0.\" + octet4\n",
    "    elif len(octet_list) == 1:\n",
    "        # This means that octet2 and octet 1 is missing, so assume 0 for octet 2 and octet 1.\n",
    "        return octet_list[0] + \".0.0.\" + octet4"
   ]
  },
  {
   "cell_type": "code",
   "execution_count": 53,
   "metadata": {},
   "outputs": [
    {
     "name": "stdout",
     "output_type": "stream",
     "text": [
      "1.2.3.4\n",
      "1.2.0.4\n",
      "1.0.0.4\n",
      "1.2.0.4\n",
      "1.2.3.4\n",
      "1.0.0.4\n"
     ]
    }
   ],
   "source": [
    "# Test out the function\n",
    "print(get_ip_from_values(\"1.2.3\", \"4\"))\n",
    "print(get_ip_from_values(\"1.2\", \"4\"))\n",
    "print(get_ip_from_values(\"1\", \"4\"))\n",
    "print(get_ip_from_values(\"1.2.\", 4))\n",
    "print(get_ip_from_values(\"1.2.3.\", 4))\n",
    "print(get_ip_from_values(\"1.\", 4))"
   ]
  },
  {
   "cell_type": "code",
   "execution_count": null,
   "metadata": {},
   "outputs": [],
   "source": [
    "# Now we will combine the two columns into one"
   ]
  },
  {
   "cell_type": "code",
   "execution_count": 34,
   "metadata": {},
   "outputs": [],
   "source": [
    "#test = pd.DataFrame({'col1': ['1.2.3', '1.2', '1'], 'col2': [1,2,3]})"
   ]
  },
  {
   "cell_type": "code",
   "execution_count": 54,
   "metadata": {},
   "outputs": [],
   "source": [
    "# Here we are taking only the etc_str1 and etc_num2 columns. For each of the row(variable s in lambda fn), we\n",
    "# apply the get_ip_from_values and get the output IP\n",
    "pi_df[\"ip_address\"] = pi_df[['etc_str1', 'etc_num2']].apply(lambda s: get_ip_from_values(s[0], s[1]), axis=1)"
   ]
  },
  {
   "cell_type": "code",
   "execution_count": 55,
   "metadata": {},
   "outputs": [
    {
     "data": {
      "text/html": [
       "<div>\n",
       "<style scoped>\n",
       "    .dataframe tbody tr th:only-of-type {\n",
       "        vertical-align: middle;\n",
       "    }\n",
       "\n",
       "    .dataframe tbody tr th {\n",
       "        vertical-align: top;\n",
       "    }\n",
       "\n",
       "    .dataframe thead th {\n",
       "        text-align: right;\n",
       "    }\n",
       "</style>\n",
       "<table border=\"1\" class=\"dataframe\">\n",
       "  <thead>\n",
       "    <tr style=\"text-align: right;\">\n",
       "      <th></th>\n",
       "      <th>Act_time</th>\n",
       "      <th>Actor</th>\n",
       "      <th>A_Acc</th>\n",
       "      <th>loc_x</th>\n",
       "      <th>loc_y</th>\n",
       "      <th>loc_z</th>\n",
       "      <th>etc_str1</th>\n",
       "      <th>etc_num2</th>\n",
       "      <th>ip_address</th>\n",
       "    </tr>\n",
       "  </thead>\n",
       "  <tbody>\n",
       "    <tr>\n",
       "      <th>0</th>\n",
       "      <td>2010-04-09 00:00:02.310</td>\n",
       "      <td>376398</td>\n",
       "      <td>10534989</td>\n",
       "      <td>1686</td>\n",
       "      <td>1535</td>\n",
       "      <td>119</td>\n",
       "      <td>210.206.</td>\n",
       "      <td>10</td>\n",
       "      <td>210.206.0.10</td>\n",
       "    </tr>\n",
       "    <tr>\n",
       "      <th>1</th>\n",
       "      <td>2010-04-09 00:00:03.623</td>\n",
       "      <td>343471</td>\n",
       "      <td>8291880</td>\n",
       "      <td>2463</td>\n",
       "      <td>2062</td>\n",
       "      <td>578</td>\n",
       "      <td>116.36.1</td>\n",
       "      <td>50</td>\n",
       "      <td>116.36.1.50</td>\n",
       "    </tr>\n",
       "    <tr>\n",
       "      <th>2</th>\n",
       "      <td>2010-04-09 00:00:04.187</td>\n",
       "      <td>338523</td>\n",
       "      <td>10091973</td>\n",
       "      <td>212</td>\n",
       "      <td>194</td>\n",
       "      <td>107</td>\n",
       "      <td>122.35.8</td>\n",
       "      <td>42</td>\n",
       "      <td>122.35.8.42</td>\n",
       "    </tr>\n",
       "    <tr>\n",
       "      <th>3</th>\n",
       "      <td>2010-04-09 00:00:04.187</td>\n",
       "      <td>424234</td>\n",
       "      <td>6602247</td>\n",
       "      <td>1714</td>\n",
       "      <td>1868</td>\n",
       "      <td>255</td>\n",
       "      <td>218.237.</td>\n",
       "      <td>27</td>\n",
       "      <td>218.237.0.27</td>\n",
       "    </tr>\n",
       "    <tr>\n",
       "      <th>4</th>\n",
       "      <td>2010-04-09 00:00:04.827</td>\n",
       "      <td>296513</td>\n",
       "      <td>9098427</td>\n",
       "      <td>1244</td>\n",
       "      <td>1562</td>\n",
       "      <td>214</td>\n",
       "      <td>119.192.</td>\n",
       "      <td>47</td>\n",
       "      <td>119.192.0.47</td>\n",
       "    </tr>\n",
       "  </tbody>\n",
       "</table>\n",
       "</div>"
      ],
      "text/plain": [
       "                  Act_time   Actor     A_Acc  loc_x  loc_y  loc_z  etc_str1  \\\n",
       "0  2010-04-09 00:00:02.310  376398  10534989   1686   1535    119  210.206.   \n",
       "1  2010-04-09 00:00:03.623  343471   8291880   2463   2062    578  116.36.1   \n",
       "2  2010-04-09 00:00:04.187  338523  10091973    212    194    107  122.35.8   \n",
       "3  2010-04-09 00:00:04.187  424234   6602247   1714   1868    255  218.237.   \n",
       "4  2010-04-09 00:00:04.827  296513   9098427   1244   1562    214  119.192.   \n",
       "\n",
       "   etc_num2    ip_address  \n",
       "0        10  210.206.0.10  \n",
       "1        50   116.36.1.50  \n",
       "2        42   122.35.8.42  \n",
       "3        27  218.237.0.27  \n",
       "4        47  119.192.0.47  "
      ]
     },
     "execution_count": 55,
     "metadata": {},
     "output_type": "execute_result"
    }
   ],
   "source": [
    "pi_df.head(5)"
   ]
  },
  {
   "cell_type": "code",
   "execution_count": 68,
   "metadata": {},
   "outputs": [],
   "source": [
    "def validate_ip(ipaddress):\n",
    "    ipaddress = str(ipaddress)\n",
    "    octets = ipaddress.split(\".\")\n",
    "    try:\n",
    "        for octet in octets:\n",
    "            if int(octet) > 255:\n",
    "                return False\n",
    "        return True\n",
    "    except Exception:\n",
    "        #print(ipaddress)\n",
    "        return False"
   ]
  },
  {
   "cell_type": "code",
   "execution_count": 71,
   "metadata": {},
   "outputs": [
    {
     "name": "stdout",
     "output_type": "stream",
     "text": [
      "True\n"
     ]
    }
   ],
   "source": [
    "print(validate_ip('210.206.0.10'))"
   ]
  },
  {
   "cell_type": "code",
   "execution_count": 75,
   "metadata": {},
   "outputs": [],
   "source": [
    "invalid_ip_df = pi_df[pi_df.ip_address.isnull()]"
   ]
  },
  {
   "cell_type": "code",
   "execution_count": 77,
   "metadata": {},
   "outputs": [
    {
     "data": {
      "text/plain": [
       "408522    12231\n",
       "439208     8924\n",
       "362935      540\n",
       "225041      347\n",
       "252934      228\n",
       "442068      209\n",
       "368708      173\n",
       "427679      136\n",
       "427674      127\n",
       "427672      122\n",
       "340481      121\n",
       "427677      119\n",
       "4396        115\n",
       "5802        113\n",
       "98207        86\n",
       "409066       86\n",
       "194759       86\n",
       "290168       79\n",
       "440269       72\n",
       "446535       66\n",
       "437740       28\n",
       "422980       28\n",
       "468378       27\n",
       "162605       24\n",
       "29300        24\n",
       "418569       19\n",
       "130133       18\n",
       "169993       18\n",
       "441434       18\n",
       "441165       17\n",
       "          ...  \n",
       "129991        1\n",
       "347041        1\n",
       "444913        1\n",
       "393704        1\n",
       "170331        1\n",
       "85886         1\n",
       "462630        1\n",
       "384796        1\n",
       "379374        1\n",
       "211280        1\n",
       "342000        1\n",
       "22261         1\n",
       "407966        1\n",
       "98825         1\n",
       "407356        1\n",
       "273310        1\n",
       "438973        1\n",
       "401839        1\n",
       "297290        1\n",
       "100506        1\n",
       "59446         1\n",
       "427722        1\n",
       "366219        1\n",
       "447776        1\n",
       "203705        1\n",
       "207279        1\n",
       "348176        1\n",
       "444289        1\n",
       "142988        1\n",
       "101833        1\n",
       "Name: Actor, Length: 192, dtype: int64"
      ]
     },
     "execution_count": 77,
     "metadata": {},
     "output_type": "execute_result"
    }
   ],
   "source": [
    "invalid_ip_df.Actor.value_counts()"
   ]
  },
  {
   "cell_type": "code",
   "execution_count": null,
   "metadata": {},
   "outputs": [],
   "source": []
  }
 ],
 "metadata": {
  "kernelspec": {
   "display_name": "Python 3",
   "language": "python",
   "name": "python3"
  },
  "language_info": {
   "codemirror_mode": {
    "name": "ipython",
    "version": 3
   },
   "file_extension": ".py",
   "mimetype": "text/x-python",
   "name": "python",
   "nbconvert_exporter": "python",
   "pygments_lexer": "ipython3",
   "version": "3.6.4"
  }
 },
 "nbformat": 4,
 "nbformat_minor": 2
}
