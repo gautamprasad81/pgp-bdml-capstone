{
 "cells": [
  {
   "cell_type": "code",
   "execution_count": 158,
   "metadata": {},
   "outputs": [],
   "source": [
    "import pandas as pd\n",
    "import numpy as np"
   ]
  },
  {
   "cell_type": "code",
   "execution_count": 159,
   "metadata": {},
   "outputs": [],
   "source": [
    "nm_df = pd.read_csv(\"NetworkMeasuresFeatures.csv\")"
   ]
  },
  {
   "cell_type": "code",
   "execution_count": 160,
   "metadata": {},
   "outputs": [
    {
     "name": "stdout",
     "output_type": "stream",
     "text": [
      "<class 'pandas.core.frame.DataFrame'>\n",
      "RangeIndex: 49739 entries, 0 to 49738\n",
      "Columns: 105 entries, Actor to Type\n",
      "dtypes: float64(42), int64(62), object(1)\n",
      "memory usage: 39.8+ MB\n"
     ]
    }
   ],
   "source": [
    "nm_df.info()"
   ]
  },
  {
   "cell_type": "code",
   "execution_count": 161,
   "metadata": {},
   "outputs": [],
   "source": [
    "# Renaming columns in readable format to understand what each column represents.\n",
    "col_names = ['Actor', 'A_Acc',\n",
    "             'PartyPlay_InDegree', 'PartyPlay_OutDegree', 'PartyPlay_Degree',\n",
    "             'PartyPlay_WeightedDegree', 'PartyPlay_WeightedInDegree', 'PartyPlay_WeightedOutDegree',\n",
    "             'PartyPlay_Eccentricity', 'PartyPlay_ClosenessCentrality', 'PartyPlay_BetweennessCentrality',\n",
    "             'PartyPlay_Authority', 'PartyPlay_Hub', 'PartyPlay_ModularityClass', 'PartyPlay_Pagerank',\n",
    "             'PartyPlay_ComponentId', 'PartyPlay_StrConnId', 'PartyPlay_ClusteringCoefficient', 'PartyPlay_Eigenvector',\n",
    "             'Friendship_InDegree', 'Friendship_OutDegree', 'Friendship_Degree',\n",
    "             'Friendship_WeightedDegree', 'Friendship_WeightedInDegree', 'Friendship_WeightedOutDegree',\n",
    "             'Friendship_Eccentricity', 'Friendship_ClosenessCentrality', 'Friendship_BetweennessCentrality',\n",
    "             'Friendship_Authority', 'Friendship_Hub', 'Friendship_ModularityClass', 'Friendship_Pagerank',\n",
    "             'Friendship_ComponentId', 'Friendship_StrConnId', 'Friendship_ClusteringCoefficient', 'Friendship_Eigenvector',\n",
    "             'Trade_InDegree', 'Trade_OutDegree', 'Trade_Degree',\n",
    "             'Trade_WeightedDegree', 'Trade_WeightedInDegree', 'Trade_WeightedOutDegree',\n",
    "             'Trade_Eccentricity', 'Trade_ClosenessCentrality', 'Trade_BetweennessCentrality',\n",
    "             'Trade_Authority', 'Trade_Hub', 'Trade_ModularityClass', 'Trade_Pagerank',\n",
    "             'Trade_ComponentId', 'Trade_StrConnId', 'Trade_ClusteringCoefficient', 'Trade_Eigenvector',\n",
    "             'Whisper_InDegree', 'Whisper_OutDegree', 'Whisper_Degree',\n",
    "             'Whisper_WeightedDegree', 'Whisper_WeightedInDegree', 'Whisper_WeightedOutDegree',\n",
    "             'Whisper_Eccentricity', 'Whisper_ClosenessCentrality', 'Whisper_BetweennessCentrality',\n",
    "             'Whisper_Authority', 'Whisper_Hub', 'Whisper_ModularityClass', 'Whisper_Pagerank',\n",
    "             'Whisper_ComponentId', 'Whisper_StrConnId', 'Whisper_ClusteringCoefficient', 'Whisper_Eigenvector',\n",
    "             'Mail_InDegree', 'Mail_OutDegree', 'Mail_Degree',\n",
    "             'Mail_WeightedDegree', 'Mail_WeightedInDegree', 'Mail_WeightedOutDegree',\n",
    "             'Mail_Eccentricity', 'Mail_ClosenessCentrality', 'Mail_BetweennessCentrality',\n",
    "             'Mail_Authority', 'Mail_Hub', 'Mail_ModularityClass', 'Mail_Pagerank',\n",
    "             'Mail_ComponentId', 'Mail_StrConnId', 'Mail_ClusteringCoefficient', 'Mail_Eigenvector',\n",
    "             'Shop_InDegree', 'Shop_OutDegree', 'Shop_Degree',\n",
    "             'Shop_WeightedDegree', 'Shop_WeightedInDegree', 'Shop_WeightedOutDegree',\n",
    "             'Shop_Eccentricity', 'Shop_ClosenessCentrality', 'Shop_BetweennessCentrality',\n",
    "             'Shop_Authority', 'Shop_Hub', 'Shop_ModularityClass', 'Shop_Pagerank',\n",
    "             'Shop_ComponentId', 'Shop_StrConnId', 'Shop_ClusteringCoefficient', 'Shop_Eigenvector',\n",
    "             'Type'\n",
    "            ]"
   ]
  },
  {
   "cell_type": "code",
   "execution_count": 162,
   "metadata": {},
   "outputs": [],
   "source": [
    "nm_df.columns = col_names"
   ]
  },
  {
   "cell_type": "code",
   "execution_count": 163,
   "metadata": {},
   "outputs": [],
   "source": [
    "party_df = nm_df[['Actor', 'A_Acc',\n",
    "                  'PartyPlay_InDegree', 'PartyPlay_OutDegree', 'PartyPlay_Degree',\n",
    "                  'PartyPlay_WeightedDegree', 'PartyPlay_WeightedInDegree', 'PartyPlay_WeightedOutDegree',\n",
    "                  'PartyPlay_Eccentricity', 'PartyPlay_ClosenessCentrality', 'PartyPlay_BetweennessCentrality',\n",
    "                  'PartyPlay_Authority', 'PartyPlay_Hub', 'PartyPlay_ModularityClass', 'PartyPlay_Pagerank',\n",
    "                  'PartyPlay_ComponentId', 'PartyPlay_StrConnId', 'PartyPlay_ClusteringCoefficient',\n",
    "                  'PartyPlay_Eigenvector', 'Type']]"
   ]
  },
  {
   "cell_type": "code",
   "execution_count": 164,
   "metadata": {},
   "outputs": [
    {
     "data": {
      "text/plain": [
       "49739"
      ]
     },
     "execution_count": 164,
     "metadata": {},
     "output_type": "execute_result"
    }
   ],
   "source": [
    "len(party_df)"
   ]
  },
  {
   "cell_type": "code",
   "execution_count": 165,
   "metadata": {},
   "outputs": [
    {
     "name": "stdout",
     "output_type": "stream",
     "text": [
      "Avg degree for Bot:  6.959620877694105\n",
      "Avg degree for Human:  24.318624069272307\n"
     ]
    }
   ],
   "source": [
    "print(\"Avg degree for Bot: \", np.average(party_df[party_df.Type == 'Bot'].PartyPlay_InDegree))\n",
    "print(\"Avg degree for Human: \", np.average(party_df[party_df.Type == 'Human'].PartyPlay_InDegree))"
   ]
  },
  {
   "cell_type": "code",
   "execution_count": 166,
   "metadata": {},
   "outputs": [
    {
     "name": "stdout",
     "output_type": "stream",
     "text": [
      "Avg Weighted degree for Bot:  16.50960789405349\n",
      "Avg Weighted degree for Human:  47.25249185241573\n"
     ]
    }
   ],
   "source": [
    "print(\"Avg Weighted degree for Bot: \", np.average(party_df[party_df.Type == 'Bot'].PartyPlay_WeightedInDegree))\n",
    "print(\"Avg Weighted degree for Human: \", np.average(party_df[party_df.Type == 'Human'].PartyPlay_WeightedInDegree))"
   ]
  },
  {
   "cell_type": "code",
   "execution_count": 167,
   "metadata": {},
   "outputs": [],
   "source": [
    "import matplotlib\n",
    "import matplotlib.pyplot as plt\n",
    "%matplotlib inline"
   ]
  },
  {
   "cell_type": "code",
   "execution_count": 168,
   "metadata": {},
   "outputs": [
    {
     "data": {
      "text/plain": [
       "Actor                              False\n",
       "A_Acc                              False\n",
       "PartyPlay_InDegree                 False\n",
       "PartyPlay_OutDegree                False\n",
       "PartyPlay_Degree                   False\n",
       "PartyPlay_WeightedDegree           False\n",
       "PartyPlay_WeightedInDegree         False\n",
       "PartyPlay_WeightedOutDegree        False\n",
       "PartyPlay_Eccentricity             False\n",
       "PartyPlay_ClosenessCentrality      False\n",
       "PartyPlay_BetweennessCentrality    False\n",
       "PartyPlay_Authority                False\n",
       "PartyPlay_Hub                      False\n",
       "PartyPlay_ModularityClass          False\n",
       "PartyPlay_Pagerank                 False\n",
       "PartyPlay_ComponentId              False\n",
       "PartyPlay_StrConnId                False\n",
       "PartyPlay_ClusteringCoefficient    False\n",
       "PartyPlay_Eigenvector              False\n",
       "Type                               False\n",
       "dtype: bool"
      ]
     },
     "execution_count": 168,
     "metadata": {},
     "output_type": "execute_result"
    }
   ],
   "source": [
    "party_df.isna().any()"
   ]
  },
  {
   "cell_type": "code",
   "execution_count": 169,
   "metadata": {},
   "outputs": [
    {
     "data": {
      "text/html": [
       "<div>\n",
       "<style scoped>\n",
       "    .dataframe tbody tr th:only-of-type {\n",
       "        vertical-align: middle;\n",
       "    }\n",
       "\n",
       "    .dataframe tbody tr th {\n",
       "        vertical-align: top;\n",
       "    }\n",
       "\n",
       "    .dataframe thead th {\n",
       "        text-align: right;\n",
       "    }\n",
       "</style>\n",
       "<table border=\"1\" class=\"dataframe\">\n",
       "  <thead>\n",
       "    <tr style=\"text-align: right;\">\n",
       "      <th></th>\n",
       "      <th>count</th>\n",
       "      <th>mean</th>\n",
       "      <th>std</th>\n",
       "      <th>min</th>\n",
       "      <th>25%</th>\n",
       "      <th>50%</th>\n",
       "      <th>75%</th>\n",
       "      <th>max</th>\n",
       "    </tr>\n",
       "  </thead>\n",
       "  <tbody>\n",
       "    <tr>\n",
       "      <th>Actor</th>\n",
       "      <td>49739.0</td>\n",
       "      <td>3.449409e+05</td>\n",
       "      <td>1.276346e+05</td>\n",
       "      <td>1047.0</td>\n",
       "      <td>2.721540e+05</td>\n",
       "      <td>4.005830e+05</td>\n",
       "      <td>4.422005e+05</td>\n",
       "      <td>4.728980e+05</td>\n",
       "    </tr>\n",
       "    <tr>\n",
       "      <th>A_Acc</th>\n",
       "      <td>49739.0</td>\n",
       "      <td>8.483737e+06</td>\n",
       "      <td>1.963675e+06</td>\n",
       "      <td>0.0</td>\n",
       "      <td>6.878566e+06</td>\n",
       "      <td>8.290550e+06</td>\n",
       "      <td>1.043333e+07</td>\n",
       "      <td>1.136939e+07</td>\n",
       "    </tr>\n",
       "    <tr>\n",
       "      <th>PartyPlay_InDegree</th>\n",
       "      <td>49739.0</td>\n",
       "      <td>2.163061e+01</td>\n",
       "      <td>5.117865e+01</td>\n",
       "      <td>0.0</td>\n",
       "      <td>0.000000e+00</td>\n",
       "      <td>2.000000e+00</td>\n",
       "      <td>1.700000e+01</td>\n",
       "      <td>8.760000e+02</td>\n",
       "    </tr>\n",
       "    <tr>\n",
       "      <th>PartyPlay_OutDegree</th>\n",
       "      <td>49739.0</td>\n",
       "      <td>2.157468e+01</td>\n",
       "      <td>3.724549e+01</td>\n",
       "      <td>0.0</td>\n",
       "      <td>1.000000e+00</td>\n",
       "      <td>4.000000e+00</td>\n",
       "      <td>2.600000e+01</td>\n",
       "      <td>4.070000e+02</td>\n",
       "    </tr>\n",
       "    <tr>\n",
       "      <th>PartyPlay_Degree</th>\n",
       "      <td>49739.0</td>\n",
       "      <td>4.320529e+01</td>\n",
       "      <td>8.080822e+01</td>\n",
       "      <td>0.0</td>\n",
       "      <td>1.000000e+00</td>\n",
       "      <td>7.000000e+00</td>\n",
       "      <td>4.800000e+01</td>\n",
       "      <td>1.172000e+03</td>\n",
       "    </tr>\n",
       "    <tr>\n",
       "      <th>PartyPlay_WeightedDegree</th>\n",
       "      <td>49739.0</td>\n",
       "      <td>8.488438e+01</td>\n",
       "      <td>1.735374e+02</td>\n",
       "      <td>0.0</td>\n",
       "      <td>1.000000e+00</td>\n",
       "      <td>1.200000e+01</td>\n",
       "      <td>8.600000e+01</td>\n",
       "      <td>3.162000e+03</td>\n",
       "    </tr>\n",
       "    <tr>\n",
       "      <th>PartyPlay_WeightedInDegree</th>\n",
       "      <td>49739.0</td>\n",
       "      <td>4.249201e+01</td>\n",
       "      <td>1.155329e+02</td>\n",
       "      <td>0.0</td>\n",
       "      <td>0.000000e+00</td>\n",
       "      <td>3.000000e+00</td>\n",
       "      <td>2.700000e+01</td>\n",
       "      <td>2.870000e+03</td>\n",
       "    </tr>\n",
       "    <tr>\n",
       "      <th>PartyPlay_WeightedOutDegree</th>\n",
       "      <td>49739.0</td>\n",
       "      <td>4.239237e+01</td>\n",
       "      <td>7.696921e+01</td>\n",
       "      <td>0.0</td>\n",
       "      <td>1.000000e+00</td>\n",
       "      <td>7.000000e+00</td>\n",
       "      <td>4.800000e+01</td>\n",
       "      <td>2.049000e+03</td>\n",
       "    </tr>\n",
       "    <tr>\n",
       "      <th>PartyPlay_Eccentricity</th>\n",
       "      <td>49739.0</td>\n",
       "      <td>6.595448e+00</td>\n",
       "      <td>4.117395e+00</td>\n",
       "      <td>0.0</td>\n",
       "      <td>1.000000e+00</td>\n",
       "      <td>9.000000e+00</td>\n",
       "      <td>9.000000e+00</td>\n",
       "      <td>1.500000e+01</td>\n",
       "    </tr>\n",
       "    <tr>\n",
       "      <th>PartyPlay_ClosenessCentrality</th>\n",
       "      <td>49739.0</td>\n",
       "      <td>2.759024e+00</td>\n",
       "      <td>1.739948e+00</td>\n",
       "      <td>0.0</td>\n",
       "      <td>1.000000e+00</td>\n",
       "      <td>3.418170e+00</td>\n",
       "      <td>3.922234e+00</td>\n",
       "      <td>9.866211e+00</td>\n",
       "    </tr>\n",
       "    <tr>\n",
       "      <th>PartyPlay_BetweennessCentrality</th>\n",
       "      <td>49739.0</td>\n",
       "      <td>3.741199e+04</td>\n",
       "      <td>9.799012e+04</td>\n",
       "      <td>0.0</td>\n",
       "      <td>0.000000e+00</td>\n",
       "      <td>5.996401e+02</td>\n",
       "      <td>3.104689e+04</td>\n",
       "      <td>2.012128e+06</td>\n",
       "    </tr>\n",
       "    <tr>\n",
       "      <th>PartyPlay_Authority</th>\n",
       "      <td>49739.0</td>\n",
       "      <td>1.993563e-05</td>\n",
       "      <td>4.591668e-05</td>\n",
       "      <td>0.0</td>\n",
       "      <td>0.000000e+00</td>\n",
       "      <td>2.683778e-06</td>\n",
       "      <td>1.610270e-05</td>\n",
       "      <td>7.845579e-04</td>\n",
       "    </tr>\n",
       "    <tr>\n",
       "      <th>PartyPlay_Hub</th>\n",
       "      <td>49739.0</td>\n",
       "      <td>1.994657e-05</td>\n",
       "      <td>4.628107e-05</td>\n",
       "      <td>0.0</td>\n",
       "      <td>9.166592e-07</td>\n",
       "      <td>2.749978e-06</td>\n",
       "      <td>1.558320e-05</td>\n",
       "      <td>7.956602e-04</td>\n",
       "    </tr>\n",
       "    <tr>\n",
       "      <th>PartyPlay_ModularityClass</th>\n",
       "      <td>49739.0</td>\n",
       "      <td>6.980595e+01</td>\n",
       "      <td>2.224415e+02</td>\n",
       "      <td>0.0</td>\n",
       "      <td>3.000000e+00</td>\n",
       "      <td>1.000000e+01</td>\n",
       "      <td>5.700000e+01</td>\n",
       "      <td>1.704000e+03</td>\n",
       "    </tr>\n",
       "    <tr>\n",
       "      <th>PartyPlay_Pagerank</th>\n",
       "      <td>49739.0</td>\n",
       "      <td>1.934508e-05</td>\n",
       "      <td>3.382595e-05</td>\n",
       "      <td>0.0</td>\n",
       "      <td>3.695258e-06</td>\n",
       "      <td>6.709304e-06</td>\n",
       "      <td>2.042785e-05</td>\n",
       "      <td>6.866620e-04</td>\n",
       "    </tr>\n",
       "    <tr>\n",
       "      <th>PartyPlay_ComponentId</th>\n",
       "      <td>49739.0</td>\n",
       "      <td>2.272462e+01</td>\n",
       "      <td>1.365806e+02</td>\n",
       "      <td>0.0</td>\n",
       "      <td>0.000000e+00</td>\n",
       "      <td>0.000000e+00</td>\n",
       "      <td>1.000000e+00</td>\n",
       "      <td>1.335000e+03</td>\n",
       "    </tr>\n",
       "    <tr>\n",
       "      <th>PartyPlay_StrConnId</th>\n",
       "      <td>49739.0</td>\n",
       "      <td>3.035042e+03</td>\n",
       "      <td>3.819826e+03</td>\n",
       "      <td>0.0</td>\n",
       "      <td>1.331000e+03</td>\n",
       "      <td>1.331000e+03</td>\n",
       "      <td>2.649000e+03</td>\n",
       "      <td>1.666700e+04</td>\n",
       "    </tr>\n",
       "    <tr>\n",
       "      <th>PartyPlay_ClusteringCoefficient</th>\n",
       "      <td>49739.0</td>\n",
       "      <td>6.101940e-02</td>\n",
       "      <td>1.317599e-01</td>\n",
       "      <td>0.0</td>\n",
       "      <td>0.000000e+00</td>\n",
       "      <td>2.981163e-02</td>\n",
       "      <td>5.565314e-02</td>\n",
       "      <td>1.000000e+00</td>\n",
       "    </tr>\n",
       "    <tr>\n",
       "      <th>PartyPlay_Eigenvector</th>\n",
       "      <td>49739.0</td>\n",
       "      <td>1.682368e-02</td>\n",
       "      <td>4.747889e-02</td>\n",
       "      <td>0.0</td>\n",
       "      <td>0.000000e+00</td>\n",
       "      <td>5.969337e-04</td>\n",
       "      <td>8.954448e-03</td>\n",
       "      <td>1.000000e+00</td>\n",
       "    </tr>\n",
       "  </tbody>\n",
       "</table>\n",
       "</div>"
      ],
      "text/plain": [
       "                                   count          mean           std     min  \\\n",
       "Actor                            49739.0  3.449409e+05  1.276346e+05  1047.0   \n",
       "A_Acc                            49739.0  8.483737e+06  1.963675e+06     0.0   \n",
       "PartyPlay_InDegree               49739.0  2.163061e+01  5.117865e+01     0.0   \n",
       "PartyPlay_OutDegree              49739.0  2.157468e+01  3.724549e+01     0.0   \n",
       "PartyPlay_Degree                 49739.0  4.320529e+01  8.080822e+01     0.0   \n",
       "PartyPlay_WeightedDegree         49739.0  8.488438e+01  1.735374e+02     0.0   \n",
       "PartyPlay_WeightedInDegree       49739.0  4.249201e+01  1.155329e+02     0.0   \n",
       "PartyPlay_WeightedOutDegree      49739.0  4.239237e+01  7.696921e+01     0.0   \n",
       "PartyPlay_Eccentricity           49739.0  6.595448e+00  4.117395e+00     0.0   \n",
       "PartyPlay_ClosenessCentrality    49739.0  2.759024e+00  1.739948e+00     0.0   \n",
       "PartyPlay_BetweennessCentrality  49739.0  3.741199e+04  9.799012e+04     0.0   \n",
       "PartyPlay_Authority              49739.0  1.993563e-05  4.591668e-05     0.0   \n",
       "PartyPlay_Hub                    49739.0  1.994657e-05  4.628107e-05     0.0   \n",
       "PartyPlay_ModularityClass        49739.0  6.980595e+01  2.224415e+02     0.0   \n",
       "PartyPlay_Pagerank               49739.0  1.934508e-05  3.382595e-05     0.0   \n",
       "PartyPlay_ComponentId            49739.0  2.272462e+01  1.365806e+02     0.0   \n",
       "PartyPlay_StrConnId              49739.0  3.035042e+03  3.819826e+03     0.0   \n",
       "PartyPlay_ClusteringCoefficient  49739.0  6.101940e-02  1.317599e-01     0.0   \n",
       "PartyPlay_Eigenvector            49739.0  1.682368e-02  4.747889e-02     0.0   \n",
       "\n",
       "                                          25%           50%           75%  \\\n",
       "Actor                            2.721540e+05  4.005830e+05  4.422005e+05   \n",
       "A_Acc                            6.878566e+06  8.290550e+06  1.043333e+07   \n",
       "PartyPlay_InDegree               0.000000e+00  2.000000e+00  1.700000e+01   \n",
       "PartyPlay_OutDegree              1.000000e+00  4.000000e+00  2.600000e+01   \n",
       "PartyPlay_Degree                 1.000000e+00  7.000000e+00  4.800000e+01   \n",
       "PartyPlay_WeightedDegree         1.000000e+00  1.200000e+01  8.600000e+01   \n",
       "PartyPlay_WeightedInDegree       0.000000e+00  3.000000e+00  2.700000e+01   \n",
       "PartyPlay_WeightedOutDegree      1.000000e+00  7.000000e+00  4.800000e+01   \n",
       "PartyPlay_Eccentricity           1.000000e+00  9.000000e+00  9.000000e+00   \n",
       "PartyPlay_ClosenessCentrality    1.000000e+00  3.418170e+00  3.922234e+00   \n",
       "PartyPlay_BetweennessCentrality  0.000000e+00  5.996401e+02  3.104689e+04   \n",
       "PartyPlay_Authority              0.000000e+00  2.683778e-06  1.610270e-05   \n",
       "PartyPlay_Hub                    9.166592e-07  2.749978e-06  1.558320e-05   \n",
       "PartyPlay_ModularityClass        3.000000e+00  1.000000e+01  5.700000e+01   \n",
       "PartyPlay_Pagerank               3.695258e-06  6.709304e-06  2.042785e-05   \n",
       "PartyPlay_ComponentId            0.000000e+00  0.000000e+00  1.000000e+00   \n",
       "PartyPlay_StrConnId              1.331000e+03  1.331000e+03  2.649000e+03   \n",
       "PartyPlay_ClusteringCoefficient  0.000000e+00  2.981163e-02  5.565314e-02   \n",
       "PartyPlay_Eigenvector            0.000000e+00  5.969337e-04  8.954448e-03   \n",
       "\n",
       "                                          max  \n",
       "Actor                            4.728980e+05  \n",
       "A_Acc                            1.136939e+07  \n",
       "PartyPlay_InDegree               8.760000e+02  \n",
       "PartyPlay_OutDegree              4.070000e+02  \n",
       "PartyPlay_Degree                 1.172000e+03  \n",
       "PartyPlay_WeightedDegree         3.162000e+03  \n",
       "PartyPlay_WeightedInDegree       2.870000e+03  \n",
       "PartyPlay_WeightedOutDegree      2.049000e+03  \n",
       "PartyPlay_Eccentricity           1.500000e+01  \n",
       "PartyPlay_ClosenessCentrality    9.866211e+00  \n",
       "PartyPlay_BetweennessCentrality  2.012128e+06  \n",
       "PartyPlay_Authority              7.845579e-04  \n",
       "PartyPlay_Hub                    7.956602e-04  \n",
       "PartyPlay_ModularityClass        1.704000e+03  \n",
       "PartyPlay_Pagerank               6.866620e-04  \n",
       "PartyPlay_ComponentId            1.335000e+03  \n",
       "PartyPlay_StrConnId              1.666700e+04  \n",
       "PartyPlay_ClusteringCoefficient  1.000000e+00  \n",
       "PartyPlay_Eigenvector            1.000000e+00  "
      ]
     },
     "execution_count": 169,
     "metadata": {},
     "output_type": "execute_result"
    }
   ],
   "source": [
    "party_df.describe().T"
   ]
  },
  {
   "cell_type": "code",
   "execution_count": 170,
   "metadata": {},
   "outputs": [],
   "source": [
    "# From the above, following observations are made.\n",
    "# Degree centrality: Most of the values of Degree feature are 0 as the 25% percentile is at 1 and mean is at 43. \n",
    "# This means that the distribution is right skewed. \n",
    "# The same distribution can be found for betweenness centrality as well.\n"
   ]
  },
  {
   "cell_type": "code",
   "execution_count": 171,
   "metadata": {},
   "outputs": [
    {
     "name": "stderr",
     "output_type": "stream",
     "text": [
      "/anaconda3/lib/python3.6/site-packages/pandas/core/generic.py:3643: SettingWithCopyWarning: \n",
      "A value is trying to be set on a copy of a slice from a DataFrame.\n",
      "Try using .loc[row_indexer,col_indexer] = value instead\n",
      "\n",
      "See the caveats in the documentation: http://pandas.pydata.org/pandas-docs/stable/indexing.html#indexing-view-versus-copy\n",
      "  self[name] = value\n"
     ]
    }
   ],
   "source": [
    "party_df.Type = party_df.Type.astype('category')"
   ]
  },
  {
   "cell_type": "code",
   "execution_count": 172,
   "metadata": {},
   "outputs": [
    {
     "data": {
      "text/plain": [
       "<matplotlib.collections.PathCollection at 0x1a2f98f470>"
      ]
     },
     "execution_count": 172,
     "metadata": {},
     "output_type": "execute_result"
    },
    {
     "data": {
      "image/png": "[encoded data removed]",
      "text/plain": [
       "<matplotlib.figure.Figure at 0x1154f3a58>"
      ]
     },
     "metadata": {},
     "output_type": "display_data"
    }
   ],
   "source": [
    "plt.scatter(party_df.PartyPlay_Degree, party_df.Type)"
   ]
  },
  {
   "cell_type": "code",
   "execution_count": 173,
   "metadata": {},
   "outputs": [
    {
     "name": "stderr",
     "output_type": "stream",
     "text": [
      "/anaconda3/lib/python3.6/site-packages/scipy/stats/stats.py:1713: FutureWarning: Using a non-tuple sequence for multidimensional indexing is deprecated; use `arr[tuple(seq)]` instead of `arr[seq]`. In the future this will be interpreted as an array index, `arr[np.array(seq)]`, which will result either in an error or a different result.\n",
      "  return np.add.reduce(sorted[indexer] * weights, axis=axis) / sumval\n"
     ]
    },
    {
     "data": {
      "text/plain": [
       "<matplotlib.axes._subplots.AxesSubplot at 0x1a2f9abe10>"
      ]
     },
     "execution_count": 173,
     "metadata": {},
     "output_type": "execute_result"
    },
    {
     "data": {
      "image/png": "[encoded data removed]",
      "text/plain": [
       "<matplotlib.figure.Figure at 0x1a2b767978>"
      ]
     },
     "metadata": {},
     "output_type": "display_data"
    }
   ],
   "source": [
    "import seaborn as sns\n",
    "sns.distplot(party_df.PartyPlay_Degree, hist=False, kde=True)\n"
   ]
  },
  {
   "cell_type": "code",
   "execution_count": 174,
   "metadata": {},
   "outputs": [],
   "source": [
    "# There are obviously high number of values close to 0,1 range. We will try to break down this into clusters\n",
    "# and see if we can individually analyze the clusters.\n",
    "\n",
    "# We will try to see if there are any clusters for degree and betweenness centrality features, because most of the\n",
    "# values are 0 and 25% of values is less than 1, and max value are very high. So the idea is to see if there\n",
    "# are any clusters in the data and if could boxplot each cluster separately.\n",
    "\n"
   ]
  },
  {
   "cell_type": "code",
   "execution_count": 175,
   "metadata": {},
   "outputs": [
    {
     "name": "stdout",
     "output_type": "stream",
     "text": [
      "<class 'pandas.core.frame.DataFrame'>\n",
      "RangeIndex: 49739 entries, 0 to 49738\n",
      "Data columns (total 20 columns):\n",
      "Actor                              49739 non-null int64\n",
      "A_Acc                              49739 non-null int64\n",
      "PartyPlay_InDegree                 49739 non-null int64\n",
      "PartyPlay_OutDegree                49739 non-null int64\n",
      "PartyPlay_Degree                   49739 non-null int64\n",
      "PartyPlay_WeightedDegree           49739 non-null int64\n",
      "PartyPlay_WeightedInDegree         49739 non-null int64\n",
      "PartyPlay_WeightedOutDegree        49739 non-null int64\n",
      "PartyPlay_Eccentricity             49739 non-null int64\n",
      "PartyPlay_ClosenessCentrality      49739 non-null float64\n",
      "PartyPlay_BetweennessCentrality    49739 non-null float64\n",
      "PartyPlay_Authority                49739 non-null float64\n",
      "PartyPlay_Hub                      49739 non-null float64\n",
      "PartyPlay_ModularityClass          49739 non-null int64\n",
      "PartyPlay_Pagerank                 49739 non-null float64\n",
      "PartyPlay_ComponentId              49739 non-null int64\n",
      "PartyPlay_StrConnId                49739 non-null int64\n",
      "PartyPlay_ClusteringCoefficient    49739 non-null float64\n",
      "PartyPlay_Eigenvector              49739 non-null float64\n",
      "Type                               49739 non-null category\n",
      "dtypes: category(1), float64(7), int64(12)\n",
      "memory usage: 7.3 MB\n"
     ]
    }
   ],
   "source": [
    "party_df.info()"
   ]
  },
  {
   "cell_type": "code",
   "execution_count": 176,
   "metadata": {},
   "outputs": [
    {
     "name": "stderr",
     "output_type": "stream",
     "text": [
      "/anaconda3/lib/python3.6/site-packages/ipykernel_launcher.py:1: UserWarning: Pandas doesn't allow columns to be created via a new attribute name - see https://pandas.pydata.org/pandas-docs/stable/indexing.html#attribute-access\n",
      "  \"\"\"Entry point for launching an IPython kernel.\n"
     ]
    }
   ],
   "source": [
    "party_df.TypeNum = party_df.Type.cat.codes"
   ]
  },
  {
   "cell_type": "code",
   "execution_count": 177,
   "metadata": {},
   "outputs": [],
   "source": [
    "from scipy.stats import zscore\n",
    "party_df_degree_z = party_df[['PartyPlay_Degree']]\n",
    "#party_df_degree_z.PartyPlay_Degree = ((party_df.PartyPlay_Degree - party_df.PartyPlay_Degree.mean()) /\n",
    "#                                      (party_df.PartyPlay_Degree.std()))\n",
    "party_df_degree_z = party_df_degree_z.apply(zscore)"
   ]
  },
  {
   "cell_type": "code",
   "execution_count": 178,
   "metadata": {},
   "outputs": [],
   "source": [
    "from sklearn.cluster import KMeans"
   ]
  },
  {
   "cell_type": "code",
   "execution_count": 179,
   "metadata": {},
   "outputs": [
    {
     "data": {
      "text/html": [
       "<div>\n",
       "<style scoped>\n",
       "    .dataframe tbody tr th:only-of-type {\n",
       "        vertical-align: middle;\n",
       "    }\n",
       "\n",
       "    .dataframe tbody tr th {\n",
       "        vertical-align: top;\n",
       "    }\n",
       "\n",
       "    .dataframe thead th {\n",
       "        text-align: right;\n",
       "    }\n",
       "</style>\n",
       "<table border=\"1\" class=\"dataframe\">\n",
       "  <thead>\n",
       "    <tr style=\"text-align: right;\">\n",
       "      <th></th>\n",
       "      <th>cluster_errors</th>\n",
       "      <th>num_clusters</th>\n",
       "    </tr>\n",
       "  </thead>\n",
       "  <tbody>\n",
       "    <tr>\n",
       "      <th>0</th>\n",
       "      <td>15722.391756</td>\n",
       "      <td>2</td>\n",
       "    </tr>\n",
       "    <tr>\n",
       "      <th>1</th>\n",
       "      <td>7599.432501</td>\n",
       "      <td>3</td>\n",
       "    </tr>\n",
       "    <tr>\n",
       "      <th>2</th>\n",
       "      <td>4545.704296</td>\n",
       "      <td>4</td>\n",
       "    </tr>\n",
       "    <tr>\n",
       "      <th>3</th>\n",
       "      <td>2951.092728</td>\n",
       "      <td>5</td>\n",
       "    </tr>\n",
       "    <tr>\n",
       "      <th>4</th>\n",
       "      <td>2112.861248</td>\n",
       "      <td>6</td>\n",
       "    </tr>\n",
       "    <tr>\n",
       "      <th>5</th>\n",
       "      <td>1594.603653</td>\n",
       "      <td>7</td>\n",
       "    </tr>\n",
       "    <tr>\n",
       "      <th>6</th>\n",
       "      <td>1218.512336</td>\n",
       "      <td>8</td>\n",
       "    </tr>\n",
       "    <tr>\n",
       "      <th>7</th>\n",
       "      <td>961.932965</td>\n",
       "      <td>9</td>\n",
       "    </tr>\n",
       "    <tr>\n",
       "      <th>8</th>\n",
       "      <td>804.475893</td>\n",
       "      <td>10</td>\n",
       "    </tr>\n",
       "    <tr>\n",
       "      <th>9</th>\n",
       "      <td>663.942197</td>\n",
       "      <td>11</td>\n",
       "    </tr>\n",
       "    <tr>\n",
       "      <th>10</th>\n",
       "      <td>561.949683</td>\n",
       "      <td>12</td>\n",
       "    </tr>\n",
       "    <tr>\n",
       "      <th>11</th>\n",
       "      <td>489.017102</td>\n",
       "      <td>13</td>\n",
       "    </tr>\n",
       "    <tr>\n",
       "      <th>12</th>\n",
       "      <td>420.320612</td>\n",
       "      <td>14</td>\n",
       "    </tr>\n",
       "    <tr>\n",
       "      <th>13</th>\n",
       "      <td>367.471167</td>\n",
       "      <td>15</td>\n",
       "    </tr>\n",
       "    <tr>\n",
       "      <th>14</th>\n",
       "      <td>318.815677</td>\n",
       "      <td>16</td>\n",
       "    </tr>\n",
       "    <tr>\n",
       "      <th>15</th>\n",
       "      <td>283.939183</td>\n",
       "      <td>17</td>\n",
       "    </tr>\n",
       "    <tr>\n",
       "      <th>16</th>\n",
       "      <td>258.167096</td>\n",
       "      <td>18</td>\n",
       "    </tr>\n",
       "    <tr>\n",
       "      <th>17</th>\n",
       "      <td>232.070283</td>\n",
       "      <td>19</td>\n",
       "    </tr>\n",
       "  </tbody>\n",
       "</table>\n",
       "</div>"
      ],
      "text/plain": [
       "    cluster_errors  num_clusters\n",
       "0     15722.391756             2\n",
       "1      7599.432501             3\n",
       "2      4545.704296             4\n",
       "3      2951.092728             5\n",
       "4      2112.861248             6\n",
       "5      1594.603653             7\n",
       "6      1218.512336             8\n",
       "7       961.932965             9\n",
       "8       804.475893            10\n",
       "9       663.942197            11\n",
       "10      561.949683            12\n",
       "11      489.017102            13\n",
       "12      420.320612            14\n",
       "13      367.471167            15\n",
       "14      318.815677            16\n",
       "15      283.939183            17\n",
       "16      258.167096            18\n",
       "17      232.070283            19"
      ]
     },
     "execution_count": 179,
     "metadata": {},
     "output_type": "execute_result"
    }
   ],
   "source": [
    "cluster_range = range( 2, 20)\n",
    "cluster_errors = []\n",
    "for num_clusters in cluster_range:\n",
    "    clusters = KMeans(n_clusters=num_clusters, random_state=7, n_init=10)\n",
    "    clusters.fit(party_df_degree_z)\n",
    "    labels = clusters.labels_\n",
    "    centroids = clusters.cluster_centers_\n",
    "    cluster_errors.append(clusters.inertia_)\n",
    "clusters_df = pd.DataFrame( { \"num_clusters\":cluster_range, \"cluster_errors\": cluster_errors } )\n",
    "clusters_df"
   ]
  },
  {
   "cell_type": "code",
   "execution_count": 180,
   "metadata": {},
   "outputs": [
    {
     "data": {
      "text/plain": [
       "[<matplotlib.lines.Line2D at 0x11b788ac8>]"
      ]
     },
     "execution_count": 180,
     "metadata": {},
     "output_type": "execute_result"
    },
    {
     "data": {
      "image/png": "[encoded data removed]",
      "text/plain": [
       "<matplotlib.figure.Figure at 0x1a3005fb70>"
      ]
     },
     "metadata": {},
     "output_type": "display_data"
    }
   ],
   "source": [
    "plt.figure(figsize=(12,6))\n",
    "plt.plot( clusters_df.num_clusters, clusters_df.cluster_errors, marker = \"o\" )"
   ]
  },
  {
   "cell_type": "code",
   "execution_count": 77,
   "metadata": {},
   "outputs": [],
   "source": [
    "# From the above, it seems that we can take the number of clusters as 5 where we get the elbow.\n",
    "\n",
    "# For below, we will take num clusters to 20, so as to see the distribution of values clearly"
   ]
  },
  {
   "cell_type": "code",
   "execution_count": 181,
   "metadata": {},
   "outputs": [],
   "source": [
    "party_df_degree_z_clusters = KMeans(n_clusters=20, random_state=7, n_init=10)"
   ]
  },
  {
   "cell_type": "code",
   "execution_count": 182,
   "metadata": {},
   "outputs": [
    {
     "data": {
      "text/plain": [
       "KMeans(algorithm='auto', copy_x=True, init='k-means++', max_iter=300,\n",
       "    n_clusters=20, n_init=10, n_jobs=None, precompute_distances='auto',\n",
       "    random_state=7, tol=0.0001, verbose=0)"
      ]
     },
     "execution_count": 182,
     "metadata": {},
     "output_type": "execute_result"
    }
   ],
   "source": [
    "party_df_degree_z_clusters.fit(party_df_degree_z)"
   ]
  },
  {
   "cell_type": "code",
   "execution_count": 183,
   "metadata": {},
   "outputs": [],
   "source": [
    "predicted_clusters=party_df_degree_z_clusters.predict(party_df_degree_z)"
   ]
  },
  {
   "cell_type": "code",
   "execution_count": 184,
   "metadata": {},
   "outputs": [],
   "source": [
    "party_df_degree_z[\"GROUP\"] = predicted_clusters"
   ]
  },
  {
   "cell_type": "code",
   "execution_count": 185,
   "metadata": {},
   "outputs": [
    {
     "data": {
      "text/plain": [
       "array([[<matplotlib.axes._subplots.AxesSubplot object at 0x1a3004f278>,\n",
       "        <matplotlib.axes._subplots.AxesSubplot object at 0x1a32ccbeb8>,\n",
       "        <matplotlib.axes._subplots.AxesSubplot object at 0x1a2fae9eb8>,\n",
       "        <matplotlib.axes._subplots.AxesSubplot object at 0x1a38d2bf28>,\n",
       "        <matplotlib.axes._subplots.AxesSubplot object at 0x1190e1f28>],\n",
       "       [<matplotlib.axes._subplots.AxesSubplot object at 0x1190e1f60>,\n",
       "        <matplotlib.axes._subplots.AxesSubplot object at 0x1a2b925978>,\n",
       "        <matplotlib.axes._subplots.AxesSubplot object at 0x1a2f87ae48>,\n",
       "        <matplotlib.axes._subplots.AxesSubplot object at 0x1a38db13c8>,\n",
       "        <matplotlib.axes._subplots.AxesSubplot object at 0x1a2b9326d8>]],\n",
       "      dtype=object)"
      ]
     },
     "execution_count": 185,
     "metadata": {},
     "output_type": "execute_result"
    },
    {
     "data": {
      "image/png": "[encoded data removed]",
      "text/plain": [
       "<matplotlib.figure.Figure at 0x11b761fd0>"
      ]
     },
     "metadata": {},
     "output_type": "display_data"
    }
   ],
   "source": [
    "party_df_degree_z.boxplot(by = 'GROUP',  layout=(2,5), figsize=(15, 10))"
   ]
  },
  {
   "cell_type": "code",
   "execution_count": 186,
   "metadata": {},
   "outputs": [],
   "source": [
    "party_df_degree_z['Type'] = party_df.Type"
   ]
  },
  {
   "cell_type": "code",
   "execution_count": 187,
   "metadata": {},
   "outputs": [
    {
     "data": {
      "text/plain": [
       "Index(['PartyPlay_Degree', 'GROUP', 'Type'], dtype='object')"
      ]
     },
     "execution_count": 187,
     "metadata": {},
     "output_type": "execute_result"
    }
   ],
   "source": [
    "party_df_degree_z.columns"
   ]
  },
  {
   "cell_type": "code",
   "execution_count": 189,
   "metadata": {},
   "outputs": [
    {
     "data": {
      "text/plain": [
       "array([<matplotlib.axes._subplots.AxesSubplot object at 0x1a28848ef0>,\n",
       "       <matplotlib.axes._subplots.AxesSubplot object at 0x1a28767f60>,\n",
       "       <matplotlib.axes._subplots.AxesSubplot object at 0x1a2a1edeb8>,\n",
       "       <matplotlib.axes._subplots.AxesSubplot object at 0x1a2a225f98>],\n",
       "      dtype=object)"
      ]
     },
     "execution_count": 189,
     "metadata": {},
     "output_type": "execute_result"
    },
    {
     "data": {
      "image/png": "[encoded data removed]",
      "text/plain": [
       "<matplotlib.figure.Figure at 0x1a28856eb8>"
      ]
     },
     "metadata": {},
     "output_type": "display_data"
    }
   ],
   "source": [
    "# We are seeing lot of values as outliers in every group. This is because that the cluster errors were high\n",
    "# even when we had clusters of 20. The data is very much distributed and we probably need higher value of clustering\n",
    "# to get the cluster errors to a low number and see  then the all the data will fall in boxplot of individual clusters.\n",
    "\n",
    "\n",
    "party_df_degree_z.boxplot(by = ['GROUP', 'Type'],  layout=(4,1), figsize=(15, 15))"
   ]
  },
  {
   "cell_type": "code",
   "execution_count": 190,
   "metadata": {},
   "outputs": [],
   "source": [
    "# From the above figure,we can clearly see that for higher Z value of partyplay_degree, Humans have more values than\n",
    "# Bots. This can be clearly seen for boxplots of clusters for the value 7+. \n",
    "# This was also confirmed when we took the average number of degree where Human had on an average 3-4 times\n",
    "# higher value than Bots. \n",
    "# The above confirms the theory that Human players have more friends than game bots as human distribution\n",
    "# is wider than game bots."
   ]
  },
  {
   "cell_type": "code",
   "execution_count": 191,
   "metadata": {},
   "outputs": [],
   "source": [
    "# We can follow the same procedure for other features as well i.e. Betweeness centrality etc."
   ]
  },
  {
   "cell_type": "code",
   "execution_count": 210,
   "metadata": {},
   "outputs": [
    {
     "data": {
      "text/plain": [
       "array([<matplotlib.axes._subplots.AxesSubplot object at 0x1a35185e48>,\n",
       "       <matplotlib.axes._subplots.AxesSubplot object at 0x1a35a5b9b0>,\n",
       "       <matplotlib.axes._subplots.AxesSubplot object at 0x1a3450b6a0>,\n",
       "       <matplotlib.axes._subplots.AxesSubplot object at 0x1a34b84b70>],\n",
       "      dtype=object)"
      ]
     },
     "execution_count": 210,
     "metadata": {},
     "output_type": "execute_result"
    },
    {
     "data": {
      "image/png": "[encoded data removed]",
      "text/plain": [
       "<matplotlib.figure.Figure at 0x1a364d4710>"
      ]
     },
     "metadata": {},
     "output_type": "display_data"
    }
   ],
   "source": [
    "party_df_between_z = party_df[['PartyPlay_BetweennessCentrality']]\n",
    "party_df_between_z = party_df_between_z.apply(zscore)\n",
    "party_df_between_z_clusters = KMeans(n_clusters=10, random_state=7, n_init=10)\n",
    "party_df_between_z_clusters.fit(party_df_between_z)\n",
    "predicted_clusters=party_df_between_z_clusters.predict(party_df_between_z)\n",
    "party_df_between_z[\"GROUP\"] = predicted_clusters\n",
    "party_df_between_z['Type'] = party_df.Type\n",
    "party_df_between_z.boxplot(by = ['GROUP', 'Type'],  layout=(4,1), figsize=(15, 15))"
   ]
  },
  {
   "cell_type": "code",
   "execution_count": 201,
   "metadata": {},
   "outputs": [],
   "source": [
    "# W.r.t. betweenness centrality, the box plots of the distributions are similar for most of the clusters.\n",
    "# However, here again, for higer z score i.e. z score of 15+, we could see that Humans have more distribution\n",
    "# than Bots. This means for party_play, many human nodes act as shortest path between two nodes compared to Bots.\n",
    "\n",
    "# We can also see that we could get the box plots with very few outliers with 10 clusters only. This was not the\n",
    "# case for degree feature where we had to take 20 clusters to get the correct fit of the data in boxplots."
   ]
  },
  {
   "cell_type": "code",
   "execution_count": 209,
   "metadata": {},
   "outputs": [
    {
     "data": {
      "text/plain": [
       "array([<matplotlib.axes._subplots.AxesSubplot object at 0x1a364735f8>,\n",
       "       <matplotlib.axes._subplots.AxesSubplot object at 0x1a36a0f2e8>,\n",
       "       <matplotlib.axes._subplots.AxesSubplot object at 0x1a36a40240>,\n",
       "       <matplotlib.axes._subplots.AxesSubplot object at 0x1a365cf2b0>],\n",
       "      dtype=object)"
      ]
     },
     "execution_count": 209,
     "metadata": {},
     "output_type": "execute_result"
    },
    {
     "data": {
      "image/png": "[encoded data removed]",
      "text/plain": [
       "<matplotlib.figure.Figure at 0x1a364804a8>"
      ]
     },
     "metadata": {},
     "output_type": "display_data"
    }
   ],
   "source": [
    "party_df_close_z = party_df[['PartyPlay_ClosenessCentrality']]\n",
    "party_df_close_z = party_df_close_z.apply(zscore)\n",
    "party_df_close_z_clusters = KMeans(n_clusters=20, random_state=7, n_init=10)\n",
    "party_df_close_z_clusters.fit(party_df_close_z)\n",
    "predicted_clusters=party_df_close_z_clusters.predict(party_df_close_z)\n",
    "party_df_close_z[\"GROUP\"] = predicted_clusters\n",
    "party_df_close_z['Type'] = party_df.Type\n",
    "party_df_close_z.boxplot(by = ['GROUP', 'Type'],  layout=(4,1), figsize=(15, 15))"
   ]
  },
  {
   "cell_type": "code",
   "execution_count": 211,
   "metadata": {},
   "outputs": [],
   "source": [
    "# We can see the same trend as in above cases. For higher value of Closeness, the distribution of Human is wider\n",
    "# than Bots. In this case, the zscore value is 3+. "
   ]
  },
  {
   "cell_type": "code",
   "execution_count": 219,
   "metadata": {},
   "outputs": [
    {
     "data": {
      "text/plain": [
       "array([<matplotlib.axes._subplots.AxesSubplot object at 0x1a381b00f0>,\n",
       "       <matplotlib.axes._subplots.AxesSubplot object at 0x1a382632e8>,\n",
       "       <matplotlib.axes._subplots.AxesSubplot object at 0x1a382902e8>,\n",
       "       <matplotlib.axes._subplots.AxesSubplot object at 0x1a38167358>],\n",
       "      dtype=object)"
      ]
     },
     "execution_count": 219,
     "metadata": {},
     "output_type": "execute_result"
    },
    {
     "data": {
      "image/png": "[encoded data removed]",
      "text/plain": [
       "<matplotlib.figure.Figure at 0x1a381b8898>"
      ]
     },
     "metadata": {},
     "output_type": "display_data"
    }
   ],
   "source": [
    "party_df_eigen_z = party_df[['PartyPlay_Eigenvector']]\n",
    "party_df_eigen_z = party_df_eigen_z.apply(zscore)\n",
    "party_df_eigen_z_clusters = KMeans(n_clusters=18, random_state=7, n_init=10)\n",
    "party_df_eigen_z_clusters.fit(party_df_eigen_z)\n",
    "predicted_clusters=party_df_eigen_z_clusters.predict(party_df_eigen_z)\n",
    "party_df_eigen_z[\"GROUP\"] = predicted_clusters\n",
    "party_df_eigen_z['Type'] = party_df.Type\n",
    "party_df_eigen_z.boxplot(by = ['GROUP', 'Type'],  layout=(4,1), figsize=(15, 15))"
   ]
  },
  {
   "cell_type": "code",
   "execution_count": 220,
   "metadata": {},
   "outputs": [],
   "source": [
    "# We can see the same trend for eigenvector as in above cases. \n",
    "# For higher value of Eigenvector, the distribution of Human is wider than Bots. In this case, the zscore value is 12+. \n",
    "# This mean that Human have more connected nodes of high values that Bots."
   ]
  },
  {
   "cell_type": "code",
   "execution_count": 244,
   "metadata": {},
   "outputs": [
    {
     "data": {
      "text/plain": [
       "array([<matplotlib.axes._subplots.AxesSubplot object at 0x1a43ab7278>,\n",
       "       <matplotlib.axes._subplots.AxesSubplot object at 0x1a43af9c18>,\n",
       "       <matplotlib.axes._subplots.AxesSubplot object at 0x1a43ce20b8>,\n",
       "       <matplotlib.axes._subplots.AxesSubplot object at 0x1a43c775f8>,\n",
       "       <matplotlib.axes._subplots.AxesSubplot object at 0x1a43d355f8>,\n",
       "       <matplotlib.axes._subplots.AxesSubplot object at 0x1a43d35630>,\n",
       "       <matplotlib.axes._subplots.AxesSubplot object at 0x1a43d9a898>,\n",
       "       <matplotlib.axes._subplots.AxesSubplot object at 0x1a43dd3898>],\n",
       "      dtype=object)"
      ]
     },
     "execution_count": 244,
     "metadata": {},
     "output_type": "execute_result"
    },
    {
     "data": {
      "image/png": "[encoded data removed]",
      "text/plain": [
       "<matplotlib.figure.Figure at 0x1a435f0710>"
      ]
     },
     "metadata": {},
     "output_type": "display_data"
    }
   ],
   "source": [
    "#party_df_cc = party_df[['PartyPlay_ClusteringCoefficient', 'Type']]\n",
    "#party_df_cc.boxplot(by=['Type'])\n",
    "party_df_cc_z = party_df[['PartyPlay_ClusteringCoefficient']]\n",
    "party_df_cc_z = party_df_cc_z.apply(zscore)\n",
    "\n",
    "# We are trying to see the clusters for the higher values here, since for lower clusters, the box plots are similar\n",
    "party_df_cc_z = party_df_cc_z[party_df_cc_z.PartyPlay_ClusteringCoefficient > 6]\n",
    "party_df_cc_z_clusters = KMeans(n_clusters=3, random_state=7, n_init=10)\n",
    "party_df_cc_z_clusters.fit(party_df_cc_z)\n",
    "predicted_clusters = party_df_cc_z_clusters.predict(party_df_cc_z)\n",
    "party_df_cc_z[\"GROUP\"] = predicted_clusters\n",
    "party_df_cc_z['Type'] = party_df.Type\n",
    "party_df_cc_z.boxplot(by = ['GROUP', 'Type'],  layout=(8,1), figsize=(20, 20))"
   ]
  },
  {
   "cell_type": "code",
   "execution_count": 245,
   "metadata": {},
   "outputs": [],
   "source": [
    "# From the above, it seems that box plots are similar for humans and bots for clustering coefficient."
   ]
  },
  {
   "cell_type": "markdown",
   "metadata": {},
   "source": [
    "# From the above analysis for party_play feature, the distribution of betweenness centrality, closeness centrality, eigenvector value are similar i.e. for higher values the box plots of Human have higer distribution than Bots. This means that Humans are more active w.r.t. making friends and connections for party play group activity than Bots. The reason is that human users form a party with many and unspecified users, whereas game bots play with several specific other game bots."
   ]
  },
  {
   "cell_type": "code",
   "execution_count": null,
   "metadata": {},
   "outputs": [],
   "source": []
  }
 ],
 "metadata": {
  "kernelspec": {
   "display_name": "Python 3",
   "language": "python",
   "name": "python3"
  },
  "language_info": {
   "codemirror_mode": {
    "name": "ipython",
    "version": 3
   },
   "file_extension": ".py",
   "mimetype": "text/x-python",
   "name": "python",
   "nbconvert_exporter": "python",
   "pygments_lexer": "ipython3",
   "version": "3.6.4"
  }
 },
 "nbformat": 4,
 "nbformat_minor": 2
}
