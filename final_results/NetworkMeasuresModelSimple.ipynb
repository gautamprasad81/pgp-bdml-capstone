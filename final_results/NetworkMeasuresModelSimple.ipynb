{
 "cells": [
  {
   "cell_type": "code",
   "execution_count": 1,
   "metadata": {},
   "outputs": [],
   "source": [
    "import pandas as pd\n",
    "import numpy as np\n",
    "import matplotlib\n",
    "import matplotlib.pyplot as plt\n",
    "%matplotlib inline\n",
    "import seaborn as sns\n",
    "from sklearn import model_selection\n",
    "from sklearn.linear_model import LogisticRegression\n",
    "from sklearn.tree import DecisionTreeClassifier\n",
    "from sklearn.neighbors import KNeighborsClassifier\n",
    "from sklearn.discriminant_analysis import LinearDiscriminantAnalysis\n",
    "from sklearn.naive_bayes import GaussianNB\n",
    "from sklearn.svm import SVC\n",
    "from sklearn.ensemble import BaggingClassifier, AdaBoostClassifier, GradientBoostingClassifier, RandomForestClassifier\n",
    "from sklearn.model_selection import train_test_split\n",
    "from sklearn import metrics\n",
    "from sklearn.metrics import precision_score, recall_score, roc_curve, f1_score, classification_report, auc\n",
    "from sklearn.cluster import KMeans\n",
    "from scipy.stats import zscore\n",
    "from sklearn.preprocessing import StandardScaler\n",
    "from imblearn.under_sampling import ClusterCentroids\n",
    "from imblearn.over_sampling import SMOTE\n",
    "from imblearn.over_sampling import RandomOverSampler\n",
    "from imblearn.under_sampling import RandomUnderSampler"
   ]
  },
  {
   "cell_type": "code",
   "execution_count": 2,
   "metadata": {},
   "outputs": [],
   "source": [
    "nm_df = pd.read_csv(\"../NetworkMeasuresFeatures.csv\")"
   ]
  },
  {
   "cell_type": "code",
   "execution_count": 3,
   "metadata": {},
   "outputs": [
    {
     "name": "stdout",
     "output_type": "stream",
     "text": [
      "<class 'pandas.core.frame.DataFrame'>\n",
      "RangeIndex: 49739 entries, 0 to 49738\n",
      "Columns: 105 entries, Actor to Type\n",
      "dtypes: float64(42), int64(62), object(1)\n",
      "memory usage: 39.8+ MB\n"
     ]
    }
   ],
   "source": [
    "nm_df.info()"
   ]
  },
  {
   "cell_type": "code",
   "execution_count": 4,
   "metadata": {},
   "outputs": [],
   "source": [
    "# Change Type as Category\n",
    "nm_df.Type = nm_df.Type.astype('category')\n",
    "# Creating a numerical field for Type\n",
    "nm_df.Type.replace({'Human': 0, 'Bot': 1}, inplace=True)\n",
    "type_dict = {0 : 'Human', 1: 'Bot'}"
   ]
  },
  {
   "cell_type": "code",
   "execution_count": 5,
   "metadata": {},
   "outputs": [],
   "source": [
    "y_col = 'Type'"
   ]
  },
  {
   "cell_type": "code",
   "execution_count": 6,
   "metadata": {},
   "outputs": [],
   "source": [
    "nm_df_orig = nm_df.copy()"
   ]
  },
  {
   "cell_type": "code",
   "execution_count": 7,
   "metadata": {},
   "outputs": [],
   "source": [
    "# Renaming columns in readable format to understand what each column represents.\n",
    "col_names = ['Actor', 'A_Acc',\n",
    "             'PartyPlay_InDegree', 'PartyPlay_OutDegree', 'PartyPlay_Degree',\n",
    "             'PartyPlay_WeightedDegree', 'PartyPlay_WeightedInDegree', 'PartyPlay_WeightedOutDegree',\n",
    "             'PartyPlay_Eccentricity', 'PartyPlay_ClosenessCentrality', 'PartyPlay_BetweennessCentrality',\n",
    "             'PartyPlay_Authority', 'PartyPlay_Hub', 'PartyPlay_ModularityClass', 'PartyPlay_Pagerank',\n",
    "             'PartyPlay_ComponentId', 'PartyPlay_StrConnId', 'PartyPlay_ClusteringCoefficient', 'PartyPlay_Eigenvector',\n",
    "             'Friendship_InDegree', 'Friendship_OutDegree', 'Friendship_Degree',\n",
    "             'Friendship_WeightedDegree', 'Friendship_WeightedInDegree', 'Friendship_WeightedOutDegree',\n",
    "             'Friendship_Eccentricity', 'Friendship_ClosenessCentrality', 'Friendship_BetweennessCentrality',\n",
    "             'Friendship_Authority', 'Friendship_Hub', 'Friendship_ModularityClass', 'Friendship_Pagerank',\n",
    "             'Friendship_ComponentId', 'Friendship_StrConnId', 'Friendship_ClusteringCoefficient', 'Friendship_Eigenvector',\n",
    "             'Trade_InDegree', 'Trade_OutDegree', 'Trade_Degree',\n",
    "             'Trade_WeightedDegree', 'Trade_WeightedInDegree', 'Trade_WeightedOutDegree',\n",
    "             'Trade_Eccentricity', 'Trade_ClosenessCentrality', 'Trade_BetweennessCentrality',\n",
    "             'Trade_Authority', 'Trade_Hub', 'Trade_ModularityClass', 'Trade_Pagerank',\n",
    "             'Trade_ComponentId', 'Trade_StrConnId', 'Trade_ClusteringCoefficient', 'Trade_Eigenvector',\n",
    "             'Whisper_InDegree', 'Whisper_OutDegree', 'Whisper_Degree',\n",
    "             'Whisper_WeightedDegree', 'Whisper_WeightedInDegree', 'Whisper_WeightedOutDegree',\n",
    "             'Whisper_Eccentricity', 'Whisper_ClosenessCentrality', 'Whisper_BetweennessCentrality',\n",
    "             'Whisper_Authority', 'Whisper_Hub', 'Whisper_ModularityClass', 'Whisper_Pagerank',\n",
    "             'Whisper_ComponentId', 'Whisper_StrConnId', 'Whisper_ClusteringCoefficient', 'Whisper_Eigenvector',\n",
    "             'Mail_InDegree', 'Mail_OutDegree', 'Mail_Degree',\n",
    "             'Mail_WeightedDegree', 'Mail_WeightedInDegree', 'Mail_WeightedOutDegree',\n",
    "             'Mail_Eccentricity', 'Mail_ClosenessCentrality', 'Mail_BetweennessCentrality',\n",
    "             'Mail_Authority', 'Mail_Hub', 'Mail_ModularityClass', 'Mail_Pagerank',\n",
    "             'Mail_ComponentId', 'Mail_StrConnId', 'Mail_ClusteringCoefficient', 'Mail_Eigenvector',\n",
    "             'Shop_InDegree', 'Shop_OutDegree', 'Shop_Degree',\n",
    "             'Shop_WeightedDegree', 'Shop_WeightedInDegree', 'Shop_WeightedOutDegree',\n",
    "             'Shop_Eccentricity', 'Shop_ClosenessCentrality', 'Shop_BetweennessCentrality',\n",
    "             'Shop_Authority', 'Shop_Hub', 'Shop_ModularityClass', 'Shop_Pagerank',\n",
    "             'Shop_ComponentId', 'Shop_StrConnId', 'Shop_ClusteringCoefficient', 'Shop_Eigenvector',\n",
    "             'Type'\n",
    "            ]\n",
    "nm_df.columns = col_names\n",
    "nm_df_orig.columns = col_names"
   ]
  },
  {
   "cell_type": "code",
   "execution_count": 8,
   "metadata": {},
   "outputs": [
    {
     "name": "stderr",
     "output_type": "stream",
     "text": [
      "/anaconda3/lib/python3.6/site-packages/sklearn/preprocessing/data.py:617: DataConversionWarning: Data with input dtype int64, float64 were all converted to float64 by StandardScaler.\n",
      "  return self.partial_fit(X, y)\n",
      "/anaconda3/lib/python3.6/site-packages/sklearn/base.py:462: DataConversionWarning: Data with input dtype int64, float64 were all converted to float64 by StandardScaler.\n",
      "  return self.fit(X, **fit_params).transform(X)\n"
     ]
    }
   ],
   "source": [
    "# Standardizing all columns using StandardScaler\n",
    "\n",
    "X = nm_df[col_names]\n",
    "X.drop('Type', axis =1)\n",
    "sc = StandardScaler()\n",
    "X_std = sc.fit_transform(X)\n",
    "type(X_std)\n",
    "nm_df[col_names] = X_std.copy()\n",
    "#nm_df = X_std.copy()\n",
    "nm_df['Type'] = nm_df_orig['Type']"
   ]
  },
  {
   "cell_type": "code",
   "execution_count": 9,
   "metadata": {},
   "outputs": [
    {
     "name": "stdout",
     "output_type": "stream",
     "text": [
      "-0.32429318843903165\n",
      "17.0\n"
     ]
    }
   ],
   "source": [
    "print(nm_df.loc[1].PartyPlay_Degree)\n",
    "print(nm_df_orig.loc[1].PartyPlay_Degree)"
   ]
  },
  {
   "cell_type": "code",
   "execution_count": 10,
   "metadata": {},
   "outputs": [
    {
     "name": "stdout",
     "output_type": "stream",
     "text": [
      "<class 'pandas.core.frame.DataFrame'>\n",
      "RangeIndex: 49739 entries, 0 to 49738\n",
      "Columns: 105 entries, Actor to Type\n",
      "dtypes: float64(104), int64(1)\n",
      "memory usage: 39.8 MB\n"
     ]
    }
   ],
   "source": [
    "nm_df.info()"
   ]
  },
  {
   "cell_type": "code",
   "execution_count": 11,
   "metadata": {},
   "outputs": [
    {
     "data": {
      "text/plain": [
       "753    1\n",
       "757    1\n",
       "790    1\n",
       "806    1\n",
       "876    1\n",
       "Name: PartyPlay_InDegree, dtype: int64"
      ]
     },
     "execution_count": 11,
     "metadata": {},
     "output_type": "execute_result"
    }
   ],
   "source": [
    "nm_df_orig.PartyPlay_InDegree.value_counts().sort_index().tail(5)"
   ]
  },
  {
   "cell_type": "code",
   "execution_count": 12,
   "metadata": {},
   "outputs": [
    {
     "data": {
      "text/plain": [
       "7.510421     1\n",
       "8.350624     1\n",
       "6.709298     1\n",
       "10.226425    1\n",
       "5.517383     1\n",
       "Name: PartyPlay_InDegree, dtype: int64"
      ]
     },
     "execution_count": 12,
     "metadata": {},
     "output_type": "execute_result"
    }
   ],
   "source": [
    "nm_df.PartyPlay_InDegree.value_counts().sort_values().head(5)"
   ]
  },
  {
   "cell_type": "code",
   "execution_count": 14,
   "metadata": {},
   "outputs": [
    {
     "name": "stdout",
     "output_type": "stream",
     "text": [
      "----------------------------------------- \n",
      "\n",
      "Running model LR\n"
     ]
    },
    {
     "name": "stderr",
     "output_type": "stream",
     "text": [
      "/anaconda3/lib/python3.6/site-packages/sklearn/linear_model/logistic.py:432: FutureWarning: Default solver will be changed to 'lbfgs' in 0.22. Specify a solver to silence this warning.\n",
      "  FutureWarning)\n"
     ]
    },
    {
     "name": "stdout",
     "output_type": "stream",
     "text": [
      "Model score 1.0\n",
      "Confusion Matrix: \n",
      "[[12672     0]\n",
      " [    0  2250]]\n",
      "Overall precision of LR: 1.0\n",
      "Overall recall of LR: 1.0\n",
      "Overall F1 Score of LR: 1.0\n",
      "Classification Report: \n",
      "              precision    recall  f1-score   support\n",
      "\n",
      "           0       1.00      1.00      1.00     12672\n",
      "           1       1.00      1.00      1.00      2250\n",
      "\n",
      "   micro avg       1.00      1.00      1.00     14922\n",
      "   macro avg       1.00      1.00      1.00     14922\n",
      "weighted avg       1.00      1.00      1.00     14922\n",
      "\n",
      "AUC : 1.0 \n",
      "\n",
      "----------------------------------------- \n",
      "\n",
      "Running model LDA\n"
     ]
    },
    {
     "name": "stderr",
     "output_type": "stream",
     "text": [
      "/anaconda3/lib/python3.6/site-packages/sklearn/discriminant_analysis.py:388: UserWarning: Variables are collinear.\n",
      "  warnings.warn(\"Variables are collinear.\")\n"
     ]
    },
    {
     "name": "stdout",
     "output_type": "stream",
     "text": [
      "Model score 0.910802841442166\n",
      "Confusion Matrix: \n",
      "[[12348   324]\n",
      " [ 1007  1243]]\n",
      "Overall precision of LDA: 0.7932354818123803\n",
      "Overall recall of LDA: 0.5524444444444444\n",
      "Overall F1 Score of LDA: 0.6512968299711815\n",
      "Classification Report: \n",
      "              precision    recall  f1-score   support\n",
      "\n",
      "           0       0.92      0.97      0.95     12672\n",
      "           1       0.79      0.55      0.65      2250\n",
      "\n",
      "   micro avg       0.91      0.91      0.91     14922\n",
      "   macro avg       0.86      0.76      0.80     14922\n",
      "weighted avg       0.90      0.91      0.90     14922\n",
      "\n",
      "AUC : 0.7634381313131312 \n",
      "\n",
      "----------------------------------------- \n",
      "\n",
      "Running model KNN\n",
      "Model score 0.9408256265916097\n",
      "Confusion Matrix: \n",
      "[[12511   161]\n",
      " [  722  1528]]\n",
      "Overall precision of KNN: 0.9046773238602723\n",
      "Overall recall of KNN: 0.6791111111111111\n",
      "Overall F1 Score of KNN: 0.7758314292967757\n",
      "Classification Report: \n",
      "              precision    recall  f1-score   support\n",
      "\n",
      "           0       0.95      0.99      0.97     12672\n",
      "           1       0.90      0.68      0.78      2250\n",
      "\n",
      "   micro avg       0.94      0.94      0.94     14922\n",
      "   macro avg       0.93      0.83      0.87     14922\n",
      "weighted avg       0.94      0.94      0.94     14922\n",
      "\n",
      "AUC : 0.8332029671717172 \n",
      "\n",
      "----------------------------------------- \n",
      "\n",
      "Running model CART\n",
      "Model score 1.0\n",
      "Confusion Matrix: \n",
      "[[12672     0]\n",
      " [    0  2250]]\n",
      "Overall precision of CART: 1.0\n",
      "Overall recall of CART: 1.0\n",
      "Overall F1 Score of CART: 1.0\n",
      "Classification Report: \n",
      "              precision    recall  f1-score   support\n",
      "\n",
      "           0       1.00      1.00      1.00     12672\n",
      "           1       1.00      1.00      1.00      2250\n",
      "\n",
      "   micro avg       1.00      1.00      1.00     14922\n",
      "   macro avg       1.00      1.00      1.00     14922\n",
      "weighted avg       1.00      1.00      1.00     14922\n",
      "\n",
      "AUC : 1.0 \n",
      "\n",
      "----------------------------------------- \n",
      "\n",
      "Running model NB\n",
      "Model score 1.0\n",
      "Confusion Matrix: \n",
      "[[12672     0]\n",
      " [    0  2250]]\n",
      "Overall precision of NB: 1.0\n",
      "Overall recall of NB: 1.0\n",
      "Overall F1 Score of NB: 1.0\n",
      "Classification Report: \n",
      "              precision    recall  f1-score   support\n",
      "\n",
      "           0       1.00      1.00      1.00     12672\n",
      "           1       1.00      1.00      1.00      2250\n",
      "\n",
      "   micro avg       1.00      1.00      1.00     14922\n",
      "   macro avg       1.00      1.00      1.00     14922\n",
      "weighted avg       1.00      1.00      1.00     14922\n",
      "\n",
      "AUC : 1.0 \n",
      "\n",
      "----------------------------------------- \n",
      "\n",
      "Running model SVM\n"
     ]
    },
    {
     "name": "stderr",
     "output_type": "stream",
     "text": [
      "/anaconda3/lib/python3.6/site-packages/sklearn/svm/base.py:196: FutureWarning: The default value of gamma will change from 'auto' to 'scale' in version 0.22 to account better for unscaled features. Set gamma explicitly to 'auto' or 'scale' to avoid this warning.\n",
      "  \"avoid this warning.\", FutureWarning)\n"
     ]
    },
    {
     "name": "stdout",
     "output_type": "stream",
     "text": [
      "Model score 0.9937005763302507\n",
      "Confusion Matrix: \n",
      "[[12665     7]\n",
      " [   87  2163]]\n",
      "Overall precision of SVM: 0.9967741935483871\n",
      "Overall recall of SVM: 0.9613333333333334\n",
      "Overall F1 Score of SVM: 0.9787330316742081\n",
      "Classification Report: \n",
      "              precision    recall  f1-score   support\n",
      "\n",
      "           0       0.99      1.00      1.00     12672\n",
      "           1       1.00      0.96      0.98      2250\n",
      "\n",
      "   micro avg       0.99      0.99      0.99     14922\n",
      "   macro avg       0.99      0.98      0.99     14922\n",
      "weighted avg       0.99      0.99      0.99     14922\n",
      "\n",
      "AUC : 0.9803904671717172 \n",
      "\n"
     ]
    }
   ],
   "source": [
    "X = nm_df[col_names]\n",
    "X.drop('Type', axis =1)\n",
    "y = nm_df['Type']\n",
    "X_train_3, X_test_3, y_train_3, y_test_3 = train_test_split(X, y, test_size=0.3, random_state=7)\n",
    "results = []\n",
    "model_names = []\n",
    "models = []\n",
    "models.append(('LR', LogisticRegression()))\n",
    "models.append(('LDA', LinearDiscriminantAnalysis()))\n",
    "models.append(('KNN', KNeighborsClassifier()))\n",
    "models.append(('CART', DecisionTreeClassifier()))\n",
    "models.append(('NB', GaussianNB()))\n",
    "models.append(('SVM', SVC()))\n",
    "auc_metrics = []\n",
    "for model_name, model in models:\n",
    "    print(\"----------------------------------------- \\n\")\n",
    "    print(\"Running model %s\" % model_name)\n",
    "    model.fit(X_train_3, y_train_3)\n",
    "    y_predict_3 = model.predict(X_test_3)\n",
    "    score = model.score(X_test_3, y_test_3)\n",
    "    print(\"Model score %s\" % score)\n",
    "    print(\"Confusion Matrix: \")\n",
    "    print(metrics.confusion_matrix(y_test_3, y_predict_3))\n",
    "    print(\"Overall precision of %s: %s\" % (model_name, precision_score(y_test_3, y_predict_3)))\n",
    "    print(\"Overall recall of %s: %s\" % (model_name, recall_score(y_test_3, y_predict_3)))\n",
    "    print(\"Overall F1 Score of %s: %s\" % (model_name, f1_score(y_test_3, y_predict_3)))\n",
    "    print(\"Classification Report: \")\n",
    "    print(classification_report(y_test_3, y_predict_3, [0, 1]))\n",
    "    fpr, tpr, threshold = roc_curve(y_test_3, y_predict_3)\n",
    "    roc_auc = auc(fpr, tpr)\n",
    "    auc_metrics.append((model_name, fpr, tpr, roc_auc))\n",
    "    print(\"AUC : %s \\n\" % roc_auc)"
   ]
  },
  {
   "cell_type": "code",
   "execution_count": 15,
   "metadata": {},
   "outputs": [
    {
     "data": {
      "image/png": "[encoded data removed]",
      "text/plain": [
       "<matplotlib.figure.Figure at 0x1a1a5686d8>"
      ]
     },
     "metadata": {},
     "output_type": "display_data"
    }
   ],
   "source": [
    "# Plot ROC curve\n",
    "plt.clf()\n",
    "for model_name, fpr, tpr, roc_auc in auc_metrics:\n",
    "    plt.plot(fpr, tpr, label='ROC curve for %s (area = %0.2f)' % (model_name, roc_auc))\n",
    "plt.plot([0, 1], [0, 1], 'k--')\n",
    "plt.xlim([0.0, 1.0])\n",
    "plt.ylim([0.0, 1.0])\n",
    "plt.xlabel('False Positive Rate')\n",
    "plt.ylabel('True Positive Rate')\n",
    "plt.title('Receiverrating characteristic example')\n",
    "plt.legend(loc=\"lower right\")\n",
    "plt.show()"
   ]
  },
  {
   "cell_type": "code",
   "execution_count": null,
   "metadata": {},
   "outputs": [],
   "source": []
  }
 ],
 "metadata": {
  "kernelspec": {
   "display_name": "Python 3",
   "language": "python",
   "name": "python3"
  },
  "language_info": {
   "codemirror_mode": {
    "name": "ipython",
    "version": 3
   },
   "file_extension": ".py",
   "mimetype": "text/x-python",
   "name": "python",
   "nbconvert_exporter": "python",
   "pygments_lexer": "ipython3",
   "version": "3.6.4"
  }
 },
 "nbformat": 4,
 "nbformat_minor": 2
}
