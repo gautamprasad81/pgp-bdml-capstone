{
 "cells": [
  {
   "cell_type": "code",
   "execution_count": 42,
   "metadata": {},
   "outputs": [],
   "source": [
    "import pandas as pd\n",
    "import numpy as np\n",
    "import matplotlib\n",
    "import matplotlib.pyplot as plt\n",
    "%matplotlib inline\n",
    "import seaborn as sns\n",
    "from sklearn import model_selection\n",
    "from sklearn.linear_model import LogisticRegression\n",
    "from sklearn.tree import DecisionTreeClassifier\n",
    "from sklearn.neighbors import KNeighborsClassifier\n",
    "from sklearn.discriminant_analysis import LinearDiscriminantAnalysis\n",
    "from sklearn.naive_bayes import GaussianNB\n",
    "from sklearn.svm import SVC\n",
    "from sklearn.ensemble import BaggingClassifier, AdaBoostClassifier, GradientBoostingClassifier, RandomForestClassifier\n",
    "from sklearn.model_selection import train_test_split\n",
    "from sklearn import metrics\n",
    "from sklearn.metrics import precision_score, recall_score, roc_curve, f1_score, classification_report, auc\n",
    "from sklearn.cluster import KMeans\n",
    "from scipy.stats import zscore\n",
    "from sklearn.preprocessing import StandardScaler\n",
    "from imblearn.under_sampling import ClusterCentroids\n",
    "from imblearn.over_sampling import SMOTE\n",
    "from imblearn.over_sampling import RandomOverSampler\n",
    "from imblearn.under_sampling import RandomUnderSampler"
   ]
  },
  {
   "cell_type": "code",
   "execution_count": 43,
   "metadata": {},
   "outputs": [],
   "source": [
    "nm_df = pd.read_csv(\"../NetworkMeasuresFeatures.csv\")"
   ]
  },
  {
   "cell_type": "code",
   "execution_count": 44,
   "metadata": {},
   "outputs": [],
   "source": [
    "nm_df_orig = nm_df.copy()"
   ]
  },
  {
   "cell_type": "code",
   "execution_count": 45,
   "metadata": {},
   "outputs": [],
   "source": [
    "# Renaming columns in readable format to understand what each column represents.\n",
    "nm_df = nm_df_orig.copy()\n",
    "col_names = ['Actor', 'A_Acc',\n",
    "             'PartyPlay_InDegree', 'PartyPlay_OutDegree', 'PartyPlay_Degree',\n",
    "             'PartyPlay_WeightedDegree', 'PartyPlay_WeightedInDegree', 'PartyPlay_WeightedOutDegree',\n",
    "             'PartyPlay_Eccentricity', 'PartyPlay_ClosenessCentrality', 'PartyPlay_BetweennessCentrality',\n",
    "             'PartyPlay_Authority', 'PartyPlay_Hub', 'PartyPlay_ModularityClass', 'PartyPlay_Pagerank',\n",
    "             'PartyPlay_ComponentId', 'PartyPlay_StrConnId', 'PartyPlay_ClusteringCoefficient', 'PartyPlay_Eigenvector',\n",
    "             'Friendship_InDegree', 'Friendship_OutDegree', 'Friendship_Degree',\n",
    "             'Friendship_WeightedDegree', 'Friendship_WeightedInDegree', 'Friendship_WeightedOutDegree',\n",
    "             'Friendship_Eccentricity', 'Friendship_ClosenessCentrality', 'Friendship_BetweennessCentrality',\n",
    "             'Friendship_Authority', 'Friendship_Hub', 'Friendship_ModularityClass', 'Friendship_Pagerank',\n",
    "             'Friendship_ComponentId', 'Friendship_StrConnId', 'Friendship_ClusteringCoefficient', 'Friendship_Eigenvector',\n",
    "             'Trade_InDegree', 'Trade_OutDegree', 'Trade_Degree',\n",
    "             'Trade_WeightedDegree', 'Trade_WeightedInDegree', 'Trade_WeightedOutDegree',\n",
    "             'Trade_Eccentricity', 'Trade_ClosenessCentrality', 'Trade_BetweennessCentrality',\n",
    "             'Trade_Authority', 'Trade_Hub', 'Trade_ModularityClass', 'Trade_Pagerank',\n",
    "             'Trade_ComponentId', 'Trade_StrConnId', 'Trade_ClusteringCoefficient', 'Trade_Eigenvector',\n",
    "             'Whisper_InDegree', 'Whisper_OutDegree', 'Whisper_Degree',\n",
    "             'Whisper_WeightedDegree', 'Whisper_WeightedInDegree', 'Whisper_WeightedOutDegree',\n",
    "             'Whisper_Eccentricity', 'Whisper_ClosenessCentrality', 'Whisper_BetweennessCentrality',\n",
    "             'Whisper_Authority', 'Whisper_Hub', 'Whisper_ModularityClass', 'Whisper_Pagerank',\n",
    "             'Whisper_ComponentId', 'Whisper_StrConnId', 'Whisper_ClusteringCoefficient', 'Whisper_Eigenvector',\n",
    "             'Mail_InDegree', 'Mail_OutDegree', 'Mail_Degree',\n",
    "             'Mail_WeightedDegree', 'Mail_WeightedInDegree', 'Mail_WeightedOutDegree',\n",
    "             'Mail_Eccentricity', 'Mail_ClosenessCentrality', 'Mail_BetweennessCentrality',\n",
    "             'Mail_Authority', 'Mail_Hub', 'Mail_ModularityClass', 'Mail_Pagerank',\n",
    "             'Mail_ComponentId', 'Mail_StrConnId', 'Mail_ClusteringCoefficient', 'Mail_Eigenvector',\n",
    "             'Shop_InDegree', 'Shop_OutDegree', 'Shop_Degree',\n",
    "             'Shop_WeightedDegree', 'Shop_WeightedInDegree', 'Shop_WeightedOutDegree',\n",
    "             'Shop_Eccentricity', 'Shop_ClosenessCentrality', 'Shop_BetweennessCentrality',\n",
    "             'Shop_Authority', 'Shop_Hub', 'Shop_ModularityClass', 'Shop_Pagerank',\n",
    "             'Shop_ComponentId', 'Shop_StrConnId', 'Shop_ClusteringCoefficient', 'Shop_Eigenvector',\n",
    "             'Type'\n",
    "            ]\n",
    "nm_df.columns = col_names\n",
    "nm_df_orig.columns = col_names"
   ]
  },
  {
   "cell_type": "code",
   "execution_count": 46,
   "metadata": {},
   "outputs": [],
   "source": [
    "# Change Type as Category\n",
    "nm_df.Type = nm_df.Type.astype('category')"
   ]
  },
  {
   "cell_type": "code",
   "execution_count": 47,
   "metadata": {},
   "outputs": [],
   "source": [
    "# Creating a numerical field for Type\n",
    "nm_df.Type.replace({'Human': 0, 'Bot': 1}, inplace=True)"
   ]
  },
  {
   "cell_type": "code",
   "execution_count": 48,
   "metadata": {},
   "outputs": [],
   "source": [
    "type_dict = {0 : 'Human', 1: 'Bot'}"
   ]
  },
  {
   "cell_type": "code",
   "execution_count": 49,
   "metadata": {},
   "outputs": [],
   "source": [
    "# Creating different datasets based on the Group activity\n",
    "party_df = nm_df[[\n",
    "                  'PartyPlay_InDegree', 'PartyPlay_OutDegree', 'PartyPlay_Degree',\n",
    "                  'PartyPlay_WeightedDegree', 'PartyPlay_WeightedInDegree', 'PartyPlay_WeightedOutDegree',\n",
    "                  'PartyPlay_Eccentricity', 'PartyPlay_ClosenessCentrality', 'PartyPlay_BetweennessCentrality',\n",
    "                  'PartyPlay_Authority', 'PartyPlay_Hub', 'PartyPlay_ModularityClass', 'PartyPlay_Pagerank',\n",
    "                  'PartyPlay_ComponentId', 'PartyPlay_StrConnId', 'PartyPlay_ClusteringCoefficient',\n",
    "                  'PartyPlay_Eigenvector', 'Type']].copy()\n",
    "friendship_df = nm_df[['Friendship_InDegree', 'Friendship_OutDegree', 'Friendship_Degree',\n",
    "                       'Friendship_WeightedDegree', 'Friendship_WeightedInDegree', 'Friendship_WeightedOutDegree',\n",
    "                       'Friendship_Eccentricity', 'Friendship_ClosenessCentrality', 'Friendship_BetweennessCentrality',\n",
    "                       'Friendship_Authority', 'Friendship_Hub', 'Friendship_ModularityClass', 'Friendship_Pagerank',\n",
    "                       'Friendship_ComponentId', 'Friendship_StrConnId', 'Friendship_ClusteringCoefficient', 'Friendship_Eigenvector',\n",
    "                       'Type']].copy()\n",
    "trade_df = nm_df[[\n",
    "    'Trade_InDegree', 'Trade_OutDegree', 'Trade_Degree',\n",
    "    'Trade_WeightedDegree', 'Trade_WeightedInDegree', 'Trade_WeightedOutDegree',\n",
    "    'Trade_Eccentricity', 'Trade_ClosenessCentrality', 'Trade_BetweennessCentrality',\n",
    "    'Trade_Authority', 'Trade_Hub', 'Trade_ModularityClass', 'Trade_Pagerank',\n",
    "    'Trade_ComponentId', 'Trade_StrConnId', 'Trade_ClusteringCoefficient', 'Trade_Eigenvector',\n",
    "    'Type']].copy()\n",
    "shop_df = nm_df[[\n",
    "             'Shop_InDegree', 'Shop_OutDegree', 'Shop_Degree',\n",
    "             'Shop_WeightedDegree', 'Shop_WeightedInDegree', 'Shop_WeightedOutDegree',\n",
    "             'Shop_Eccentricity', 'Shop_ClosenessCentrality', 'Shop_BetweennessCentrality',\n",
    "             'Shop_Authority', 'Shop_Hub', 'Shop_ModularityClass', 'Shop_Pagerank',\n",
    "             'Shop_ComponentId', 'Shop_StrConnId', 'Shop_ClusteringCoefficient', 'Shop_Eigenvector',\n",
    "             'Type']].copy()\n",
    "whisper_df = nm_df[[\n",
    "    'Whisper_InDegree', 'Whisper_OutDegree', 'Whisper_Degree',\n",
    "    'Whisper_WeightedDegree', 'Whisper_WeightedInDegree', 'Whisper_WeightedOutDegree',\n",
    "    'Whisper_Eccentricity', 'Whisper_ClosenessCentrality', 'Whisper_BetweennessCentrality',\n",
    "    'Whisper_Authority', 'Whisper_Hub', 'Whisper_ModularityClass', 'Whisper_Pagerank',\n",
    "    'Whisper_ComponentId', 'Whisper_StrConnId', 'Whisper_ClusteringCoefficient', 'Whisper_Eigenvector',\n",
    "    'Type' ]].copy()\n",
    "mail_df = nm_df[[\n",
    "    'Mail_InDegree', 'Mail_OutDegree', 'Mail_Degree',\n",
    "    'Mail_WeightedDegree', 'Mail_WeightedInDegree', 'Mail_WeightedOutDegree',\n",
    "    'Mail_Eccentricity', 'Mail_ClosenessCentrality', 'Mail_BetweennessCentrality',\n",
    "    'Mail_Authority', 'Mail_Hub', 'Mail_ModularityClass', 'Mail_Pagerank',\n",
    "    'Mail_ComponentId', 'Mail_StrConnId', 'Mail_ClusteringCoefficient', 'Mail_Eigenvector',\n",
    "    'Type']].copy()\n"
   ]
  },
  {
   "cell_type": "code",
   "execution_count": 50,
   "metadata": {},
   "outputs": [
    {
     "name": "stdout",
     "output_type": "stream",
     "text": [
      "['PartyPlay_InDegree', 'PartyPlay_OutDegree', 'PartyPlay_Degree', 'PartyPlay_WeightedDegree', 'PartyPlay_WeightedInDegree', 'PartyPlay_WeightedOutDegree', 'PartyPlay_Eccentricity', 'PartyPlay_ClosenessCentrality', 'PartyPlay_BetweennessCentrality', 'PartyPlay_Authority', 'PartyPlay_Hub', 'PartyPlay_ModularityClass', 'PartyPlay_Pagerank', 'PartyPlay_ComponentId', 'PartyPlay_StrConnId', 'PartyPlay_ClusteringCoefficient', 'PartyPlay_Eigenvector', 'Type']\n"
     ]
    }
   ],
   "source": [
    "# Getting the list of cols that we want to visulaize in pairplot. This will exclude the Actor and A_Acc cols\n",
    "cols = party_df.columns.tolist()\n",
    "#cols.remove('Actor'); cols.remove('A_Acc')\n",
    "print(cols)"
   ]
  },
  {
   "cell_type": "code",
   "execution_count": 51,
   "metadata": {},
   "outputs": [],
   "source": [
    "models = []\n",
    "models.append((\"LR\", LogisticRegression()))\n",
    "#models.append((\"LDA\", LinearDiscriminantAnalysis()))\n",
    "#models.append((\"KNN\", KNeighborsClassifier()))\n",
    "#models.append((\"Tree\", DecisionTreeClassifier()))\n",
    "#models.append((\"NB\", GaussianNB()))\n",
    "#models.append((\"SVC\", SVC()))"
   ]
  },
  {
   "cell_type": "code",
   "execution_count": 52,
   "metadata": {},
   "outputs": [],
   "source": [
    "cols_to_take = [\n",
    "    'Actor', 'A_Acc',         \n",
    "    'PartyPlay_InDegree', 'PartyPlay_OutDegree', 'PartyPlay_WeightedInDegree', 'PartyPlay_WeightedOutDegree',\n",
    "    'PartyPlay_ClusteringCoefficient',\n",
    "    'Friendship_InDegree', 'Friendship_OutDegree', 'Friendship_WeightedInDegree', 'Friendship_WeightedOutDegree',\n",
    "    'Friendship_ClusteringCoefficient',\n",
    "    'Trade_InDegree', 'Trade_OutDegree', 'Trade_WeightedInDegree', 'Trade_WeightedOutDegree',\n",
    "    'Trade_ClusteringCoefficient',\n",
    "    'Mail_InDegree', 'Mail_OutDegree', 'Mail_WeightedInDegree', 'Mail_WeightedOutDegree',\n",
    "    'Mail_ClusteringCoefficient',\n",
    "    'Shop_InDegree', 'Shop_OutDegree', 'Shop_WeightedInDegree', 'Shop_WeightedOutDegree',\n",
    "    'Shop_ClusteringCoefficient', \n",
    "    'Whisper_InDegree', 'Whisper_OutDegree', 'Whisper_WeightedInDegree', 'Whisper_WeightedOutDegree',\n",
    "    'Whisper_ClusteringCoefficient',\n",
    "    'PartyPlay_Degree', 'PartyPlay_WeightedDegree', \n",
    "    'Friendship_Degree', 'Friendship_WeightedDegree', \n",
    "    'Trade_Degree', 'Trade_WeightedDegree', \n",
    "    'Shop_Degree', 'Shop_WeightedDegree', \n",
    "    'Mail_Degree', 'Mail_WeightedDegree', \n",
    "    'Type']"
   ]
  },
  {
   "cell_type": "code",
   "execution_count": 53,
   "metadata": {},
   "outputs": [],
   "source": [
    "# Standardizing the below columns to make the values comparable"
   ]
  },
  {
   "cell_type": "code",
   "execution_count": 54,
   "metadata": {},
   "outputs": [],
   "source": [
    "cols_to_zscore = {\n",
    "    'party_play': ['PartyPlay_BetweennessCentrality', 'PartyPlay_ClosenessCentrality', \n",
    "    'PartyPlay_Eigenvector', 'PartyPlay_Eccentricity', 'PartyPlay_Authority', 'PartyPlay_Hub', 'PartyPlay_Pagerank'],\n",
    "    'friendship': ['Friendship_BetweennessCentrality', 'Friendship_ClosenessCentrality', \n",
    "    'Friendship_Eigenvector', 'Friendship_Eccentricity', 'Friendship_Authority', 'Friendship_Hub', 'Friendship_Pagerank'],\n",
    "    'trade': ['Trade_BetweennessCentrality',  'Trade_ClosenessCentrality',\n",
    "    'Trade_Eigenvector', 'Trade_Eccentricity', 'Trade_Authority', 'Trade_Hub', 'Trade_Pagerank'],\n",
    "    'shop': ['Shop_BetweennessCentrality', 'Shop_ClosenessCentrality',\n",
    "    'Shop_Eigenvector', 'Shop_Eccentricity', 'Shop_Authority', 'Shop_Hub', 'Shop_Pagerank'],\n",
    "    'mail': ['Mail_BetweennessCentrality', 'Mail_ClosenessCentrality', \n",
    "    'Mail_Eigenvector', 'Mail_Eccentricity', 'Mail_Authority', 'Mail_Hub', 'Mail_Pagerank'],\n",
    "    'whisper': ['Whisper_BetweennessCentrality', 'Whisper_ClosenessCentrality', \n",
    "    'Whisper_Eigenvector', 'Whisper_Eccentricity', 'Whisper_Authority', 'Whisper_Hub', 'Whisper_Pagerank']\n",
    "}"
   ]
  },
  {
   "cell_type": "code",
   "execution_count": 55,
   "metadata": {},
   "outputs": [],
   "source": [
    "grp_act_df = {\n",
    "    'party_play': party_df,\n",
    "    'friendship': friendship_df,\n",
    "    'trade': trade_df,\n",
    "    'shop': shop_df,\n",
    "    'mail': mail_df,\n",
    "    'whisper': whisper_df\n",
    "}"
   ]
  },
  {
   "cell_type": "code",
   "execution_count": 56,
   "metadata": {},
   "outputs": [],
   "source": [
    "# For each act_df, apply zscore to the cols listed in cols_to_zscore\n",
    "for act_name, act_df in grp_act_df.items():\n",
    "    act_cols_to_zscore = cols_to_zscore.get(act_name)\n",
    "    act_df[act_cols_to_zscore] = act_df[act_cols_to_zscore].apply(zscore)"
   ]
  },
  {
   "cell_type": "markdown",
   "metadata": {},
   "source": [
    "# Pairplot analysis"
   ]
  },
  {
   "cell_type": "code",
   "execution_count": 57,
   "metadata": {},
   "outputs": [],
   "source": [
    "# Checkpoint \n",
    "nm_df_zscored = nm_df.copy()"
   ]
  },
  {
   "cell_type": "code",
   "execution_count": 58,
   "metadata": {},
   "outputs": [],
   "source": [
    "# We will log transform the data for all the columns that have high peak and long thick tail"
   ]
  },
  {
   "cell_type": "code",
   "execution_count": 59,
   "metadata": {},
   "outputs": [],
   "source": [
    "X_cols_to_log_transform = [\n",
    "    'PartyPlay_InDegree', 'PartyPlay_OutDegree', 'PartyPlay_WeightedInDegree', 'PartyPlay_WeightedOutDegree',\n",
    "    'Friendship_InDegree', 'Friendship_OutDegree', 'Friendship_WeightedInDegree', 'Friendship_WeightedOutDegree',\n",
    "    'Trade_InDegree', 'Trade_OutDegree', 'Trade_WeightedInDegree', 'Trade_WeightedOutDegree',\n",
    "    'Mail_InDegree', 'Mail_OutDegree', 'Mail_WeightedInDegree', 'Mail_WeightedOutDegree',\n",
    "    'Shop_InDegree', 'Shop_OutDegree', 'Shop_WeightedInDegree', 'Shop_WeightedOutDegree',\n",
    "    'Whisper_InDegree', 'Whisper_OutDegree', 'Whisper_WeightedInDegree', 'Whisper_WeightedOutDegree',\n",
    "    'PartyPlay_Degree', 'PartyPlay_WeightedDegree', 'PartyPlay_BetweennessCentrality', \n",
    "    'Friendship_Degree', 'Friendship_WeightedDegree', 'Friendship_BetweennessCentrality',\n",
    "    'Trade_Degree', 'Trade_WeightedDegree', 'Trade_BetweennessCentrality',\n",
    "    'Shop_Degree', 'Shop_WeightedDegree', 'Shop_BetweennessCentrality',\n",
    "    'Mail_Degree', 'Mail_WeightedDegree', 'Mail_BetweennessCentrality',\n",
    "    'Whisper_Degree', 'Whisper_WeightedDegree', 'Whisper_BetweennessCentrality']"
   ]
  },
  {
   "cell_type": "code",
   "execution_count": 60,
   "metadata": {},
   "outputs": [],
   "source": [
    "nm_df = nm_df_zscored.copy()"
   ]
  },
  {
   "cell_type": "code",
   "execution_count": null,
   "metadata": {},
   "outputs": [],
   "source": []
  },
  {
   "cell_type": "code",
   "execution_count": 61,
   "metadata": {},
   "outputs": [],
   "source": [
    "from scipy import stats as scipy_stats\n",
    "from scipy.special import boxcox1p\n",
    "from sklearn.preprocessing import PowerTransformer\n",
    "\n",
    "nm_df_z_t_1 = nm_df_zscored.copy()\n",
    "'''\n",
    "transformer = PowerTransformer(method='yeo-johnson')\n",
    "X = nm_df_z_t_1[X_cols_to_log_transform]\n",
    "nm_df_z_t_1[X_cols_to_log_transform] = transformer.fit_transform(X)\n",
    "'''\n",
    "for col in X_cols_to_log_transform:\n",
    "    #print(\"Transforming %s\" % col)\n",
    "    # The boxcox transformation with value of 0 does log transformation\n",
    "    nm_df_z_t_1[col] = pd.Series(boxcox1p(nm_df_z_t_1[col].values, 0))\n",
    "    nm_df_z_t_1[col] = pd.Series(boxcox1p(nm_df_z_t_1[col].values, 0))\n",
    "    \n",
    "    "
   ]
  },
  {
   "cell_type": "code",
   "execution_count": 62,
   "metadata": {},
   "outputs": [
    {
     "data": {
      "text/plain": [
       "753    1\n",
       "757    1\n",
       "790    1\n",
       "806    1\n",
       "876    1\n",
       "Name: PartyPlay_InDegree, dtype: int64"
      ]
     },
     "execution_count": 62,
     "metadata": {},
     "output_type": "execute_result"
    }
   ],
   "source": [
    "nm_df_orig.PartyPlay_InDegree.value_counts().sort_index().tail(5)"
   ]
  },
  {
   "cell_type": "code",
   "execution_count": 63,
   "metadata": {},
   "outputs": [
    {
     "data": {
      "text/plain": [
       "1.935416    1\n",
       "1.925406    1\n",
       "1.999933    1\n",
       "1.918560    1\n",
       "1.966898    1\n",
       "Name: PartyPlay_InDegree, dtype: int64"
      ]
     },
     "execution_count": 63,
     "metadata": {},
     "output_type": "execute_result"
    }
   ],
   "source": [
    "# Lets see how the scaled value of above now looks like\n",
    "nm_df_z_t_1.PartyPlay_InDegree.value_counts().sort_values().head(5)\n",
    "# We have scaled down from 876 to value of 2"
   ]
  },
  {
   "cell_type": "code",
   "execution_count": 64,
   "metadata": {},
   "outputs": [],
   "source": [
    "# Checkpoint 2\n",
    "nm_df = nm_df_z_t_1.copy()"
   ]
  },
  {
   "cell_type": "code",
   "execution_count": 65,
   "metadata": {},
   "outputs": [
    {
     "data": {
      "text/plain": [
       "Actor                               False\n",
       "A_Acc                               False\n",
       "PartyPlay_InDegree                  False\n",
       "PartyPlay_OutDegree                 False\n",
       "PartyPlay_Degree                    False\n",
       "PartyPlay_WeightedDegree            False\n",
       "PartyPlay_WeightedInDegree          False\n",
       "PartyPlay_WeightedOutDegree         False\n",
       "PartyPlay_Eccentricity              False\n",
       "PartyPlay_ClosenessCentrality       False\n",
       "PartyPlay_BetweennessCentrality     False\n",
       "PartyPlay_Authority                 False\n",
       "PartyPlay_Hub                       False\n",
       "PartyPlay_ModularityClass           False\n",
       "PartyPlay_Pagerank                  False\n",
       "PartyPlay_ComponentId               False\n",
       "PartyPlay_StrConnId                 False\n",
       "PartyPlay_ClusteringCoefficient     False\n",
       "PartyPlay_Eigenvector               False\n",
       "Friendship_InDegree                 False\n",
       "Friendship_OutDegree                False\n",
       "Friendship_Degree                   False\n",
       "Friendship_WeightedDegree           False\n",
       "Friendship_WeightedInDegree         False\n",
       "Friendship_WeightedOutDegree        False\n",
       "Friendship_Eccentricity             False\n",
       "Friendship_ClosenessCentrality      False\n",
       "Friendship_BetweennessCentrality    False\n",
       "Friendship_Authority                False\n",
       "Friendship_Hub                      False\n",
       "                                    ...  \n",
       "Mail_WeightedOutDegree              False\n",
       "Mail_Eccentricity                   False\n",
       "Mail_ClosenessCentrality            False\n",
       "Mail_BetweennessCentrality          False\n",
       "Mail_Authority                      False\n",
       "Mail_Hub                            False\n",
       "Mail_ModularityClass                False\n",
       "Mail_Pagerank                       False\n",
       "Mail_ComponentId                    False\n",
       "Mail_StrConnId                      False\n",
       "Mail_ClusteringCoefficient          False\n",
       "Mail_Eigenvector                    False\n",
       "Shop_InDegree                       False\n",
       "Shop_OutDegree                      False\n",
       "Shop_Degree                         False\n",
       "Shop_WeightedDegree                 False\n",
       "Shop_WeightedInDegree               False\n",
       "Shop_WeightedOutDegree              False\n",
       "Shop_Eccentricity                   False\n",
       "Shop_ClosenessCentrality            False\n",
       "Shop_BetweennessCentrality          False\n",
       "Shop_Authority                      False\n",
       "Shop_Hub                            False\n",
       "Shop_ModularityClass                False\n",
       "Shop_Pagerank                       False\n",
       "Shop_ComponentId                    False\n",
       "Shop_StrConnId                      False\n",
       "Shop_ClusteringCoefficient          False\n",
       "Shop_Eigenvector                    False\n",
       "Type                                False\n",
       "Length: 105, dtype: bool"
      ]
     },
     "execution_count": 65,
     "metadata": {},
     "output_type": "execute_result"
    }
   ],
   "source": [
    "nm_df.isna().any()"
   ]
  },
  {
   "cell_type": "code",
   "execution_count": 66,
   "metadata": {},
   "outputs": [],
   "source": [
    "# Creating different datasets based on the Group activity\n",
    "party_df_1 = nm_df[[\n",
    "                  'PartyPlay_InDegree', 'PartyPlay_OutDegree', 'PartyPlay_Degree',\n",
    "                  'PartyPlay_WeightedDegree', 'PartyPlay_WeightedInDegree', 'PartyPlay_WeightedOutDegree',\n",
    "                  'PartyPlay_Eccentricity', 'PartyPlay_ClosenessCentrality', 'PartyPlay_BetweennessCentrality',\n",
    "                  'PartyPlay_Authority', 'PartyPlay_Hub', 'PartyPlay_ModularityClass', 'PartyPlay_Pagerank',\n",
    "                  'PartyPlay_ComponentId', 'PartyPlay_StrConnId', 'PartyPlay_ClusteringCoefficient',\n",
    "                  'PartyPlay_Eigenvector', 'Type']].copy()\n",
    "friendship_df_1 = nm_df[['Friendship_InDegree', 'Friendship_OutDegree', 'Friendship_Degree',\n",
    "                       'Friendship_WeightedDegree', 'Friendship_WeightedInDegree', 'Friendship_WeightedOutDegree',\n",
    "                       'Friendship_Eccentricity', 'Friendship_ClosenessCentrality', 'Friendship_BetweennessCentrality',\n",
    "                       'Friendship_Authority', 'Friendship_Hub', 'Friendship_ModularityClass', 'Friendship_Pagerank',\n",
    "                       'Friendship_ComponentId', 'Friendship_StrConnId', 'Friendship_ClusteringCoefficient', 'Friendship_Eigenvector',\n",
    "                       'Type']].copy()\n",
    "trade_df_1 = nm_df[[\n",
    "    'Trade_InDegree', 'Trade_OutDegree', 'Trade_Degree',\n",
    "    'Trade_WeightedDegree', 'Trade_WeightedInDegree', 'Trade_WeightedOutDegree',\n",
    "    'Trade_Eccentricity', 'Trade_ClosenessCentrality', 'Trade_BetweennessCentrality',\n",
    "    'Trade_Authority', 'Trade_Hub', 'Trade_ModularityClass', 'Trade_Pagerank',\n",
    "    'Trade_ComponentId', 'Trade_StrConnId', 'Trade_ClusteringCoefficient', 'Trade_Eigenvector',\n",
    "    'Type']].copy()\n",
    "shop_df_1 = nm_df[[\n",
    "             'Shop_InDegree', 'Shop_OutDegree', 'Shop_Degree',\n",
    "             'Shop_WeightedDegree', 'Shop_WeightedInDegree', 'Shop_WeightedOutDegree',\n",
    "             'Shop_Eccentricity', 'Shop_ClosenessCentrality', 'Shop_BetweennessCentrality',\n",
    "             'Shop_Authority', 'Shop_Hub', 'Shop_ModularityClass', 'Shop_Pagerank',\n",
    "             'Shop_ComponentId', 'Shop_StrConnId', 'Shop_ClusteringCoefficient', 'Shop_Eigenvector',\n",
    "             'Type']].copy()\n",
    "whisper_df_1 = nm_df[[\n",
    "    'Whisper_InDegree', 'Whisper_OutDegree', 'Whisper_Degree',\n",
    "    'Whisper_WeightedDegree', 'Whisper_WeightedInDegree', 'Whisper_WeightedOutDegree',\n",
    "    'Whisper_Eccentricity', 'Whisper_ClosenessCentrality', 'Whisper_BetweennessCentrality',\n",
    "    'Whisper_Authority', 'Whisper_Hub', 'Whisper_ModularityClass', 'Whisper_Pagerank',\n",
    "    'Whisper_ComponentId', 'Whisper_StrConnId', 'Whisper_ClusteringCoefficient', 'Whisper_Eigenvector',\n",
    "    'Type' ]].copy()\n",
    "mail_df_1 = nm_df[[\n",
    "    'Mail_InDegree', 'Mail_OutDegree', 'Mail_Degree',\n",
    "    'Mail_WeightedDegree', 'Mail_WeightedInDegree', 'Mail_WeightedOutDegree',\n",
    "    'Mail_Eccentricity', 'Mail_ClosenessCentrality', 'Mail_BetweennessCentrality',\n",
    "    'Mail_Authority', 'Mail_Hub', 'Mail_ModularityClass', 'Mail_Pagerank',\n",
    "    'Mail_ComponentId', 'Mail_StrConnId', 'Mail_ClusteringCoefficient', 'Mail_Eigenvector',\n",
    "    'Type']].copy()\n"
   ]
  },
  {
   "cell_type": "code",
   "execution_count": null,
   "metadata": {},
   "outputs": [],
   "source": []
  },
  {
   "cell_type": "code",
   "execution_count": 67,
   "metadata": {},
   "outputs": [],
   "source": [
    "X = nm_df_z_t_1[col_names]\n",
    "X.drop('Type', axis =1)\n",
    "y = nm_df_z_t_1[y_col]"
   ]
  },
  {
   "cell_type": "code",
   "execution_count": 68,
   "metadata": {},
   "outputs": [],
   "source": [
    "X_train, X_test, y_train, y_test = train_test_split(X, y, test_size=0.3, random_state=7)"
   ]
  },
  {
   "cell_type": "code",
   "execution_count": 69,
   "metadata": {},
   "outputs": [
    {
     "name": "stdout",
     "output_type": "stream",
     "text": [
      "Running model LR\n"
     ]
    },
    {
     "name": "stderr",
     "output_type": "stream",
     "text": [
      "/anaconda3/lib/python3.6/site-packages/sklearn/linear_model/logistic.py:432: FutureWarning: Default solver will be changed to 'lbfgs' in 0.22. Specify a solver to silence this warning.\n",
      "  FutureWarning)\n",
      "/anaconda3/lib/python3.6/site-packages/sklearn/utils/validation.py:752: DataConversionWarning: A column-vector y was passed when a 1d array was expected. Please change the shape of y to (n_samples, ), for example using ravel().\n",
      "  y = column_or_1d(y, warn=True)\n"
     ]
    },
    {
     "name": "stdout",
     "output_type": "stream",
     "text": [
      "Confusion Matrix: \n",
      "[[12560   112]\n",
      " [ 2161    89]]\n",
      "Overall precision of LR: 0.4427860696517413\n",
      "Overall recall of LR: 0.03955555555555555\n",
      "Overall F1 Score of LR: 0.07262341901264789\n",
      "Classification Report: \n",
      "              precision    recall  f1-score   support\n",
      "\n",
      "           0       0.85      0.99      0.92     12672\n",
      "           1       0.44      0.04      0.07      2250\n",
      "\n",
      "   micro avg       0.85      0.85      0.85     14922\n",
      "   macro avg       0.65      0.52      0.49     14922\n",
      "weighted avg       0.79      0.85      0.79     14922\n",
      "\n"
     ]
    }
   ],
   "source": [
    "for model_name, model in models:\n",
    "    print(\"Running model %s\" % model_name)\n",
    "    model.fit(X_train, y_train)\n",
    "    y_predict = model.predict(X_test)\n",
    "    score = model.score(X_test, y_test)\n",
    "    print(\"Confusion Matrix: \")\n",
    "    print(metrics.confusion_matrix(y_test, y_predict))\n",
    "    print(\"Overall precision of %s: %s\" % (model_name, precision_score(y_test, y_predict)))\n",
    "    print(\"Overall recall of %s: %s\" % (model_name, recall_score(y_test, y_predict)))\n",
    "    print(\"Overall F1 Score of %s: %s\" % (model_name, f1_score(y_test, y_predict)))\n",
    "    print(\"Classification Report: \")\n",
    "    print(classification_report(y_test, y_predict, [0, 1]))"
   ]
  },
  {
   "cell_type": "code",
   "execution_count": 70,
   "metadata": {},
   "outputs": [],
   "source": [
    "# We will cluster each of the cols in cols_to_zscore and assign a cluster number to each, replacing its original value\n",
    "# by its cluster number. This is to make the model better as it will then the model will not have to get build\n",
    "# on scatter values, but on values which represents its cluster, which are very less in number. We do this for\n",
    "# every such feature in cols_to_zscore on not just on the all the features taken as whole.\n",
    "k_means_cluster_num = 3"
   ]
  },
  {
   "cell_type": "code",
   "execution_count": 71,
   "metadata": {},
   "outputs": [],
   "source": [
    "# For each feature, get predicted cluster. Put the resultant cluster value of the feature against new nm_df dataframe\n",
    "nm_df_z_t_c = nm_df_z_t_1.copy()\n",
    "for act_name, act_df in grp_act_df.items():\n",
    "    act_cols = cols_to_zscore.get(act_name)\n",
    "    for act_col in act_cols:\n",
    "        tmp_df = pd.DataFrame({act_col: act_df[act_col].copy()})\n",
    "        clusters = KMeans(n_clusters=k_means_cluster_num, random_state=7, n_init=10)\n",
    "        clusters.fit(tmp_df)\n",
    "        predicted_clusters_array = clusters.predict(tmp_df)\n",
    "        nm_df_z_t_c[act_col] = predicted_clusters_array"
   ]
  },
  {
   "cell_type": "code",
   "execution_count": 73,
   "metadata": {},
   "outputs": [],
   "source": [
    "X = nm_df_z_t_c[col_names]\n",
    "X.drop('Type', axis =1)\n",
    "y = nm_df_z_t_c[y_col]\n",
    "X_train, X_test, y_train, y_test = train_test_split(X, y, test_size=0.3, random_state=7)"
   ]
  },
  {
   "cell_type": "code",
   "execution_count": 74,
   "metadata": {},
   "outputs": [],
   "source": [
    "models = []\n",
    "models.append((\"LR\", LogisticRegression()))\n"
   ]
  },
  {
   "cell_type": "code",
   "execution_count": 75,
   "metadata": {},
   "outputs": [
    {
     "name": "stdout",
     "output_type": "stream",
     "text": [
      "Running model LR\n"
     ]
    },
    {
     "name": "stderr",
     "output_type": "stream",
     "text": [
      "/anaconda3/lib/python3.6/site-packages/sklearn/linear_model/logistic.py:432: FutureWarning: Default solver will be changed to 'lbfgs' in 0.22. Specify a solver to silence this warning.\n",
      "  FutureWarning)\n",
      "/anaconda3/lib/python3.6/site-packages/sklearn/utils/validation.py:752: DataConversionWarning: A column-vector y was passed when a 1d array was expected. Please change the shape of y to (n_samples, ), for example using ravel().\n",
      "  y = column_or_1d(y, warn=True)\n"
     ]
    },
    {
     "name": "stdout",
     "output_type": "stream",
     "text": [
      "Model Score 0.8467363624179064 \n",
      "Confusion Matrix: \n",
      "[[12599    73]\n",
      " [ 2214    36]]\n",
      "Overall precision of LR: 0.3302752293577982\n",
      "Overall recall of LR: 0.016\n",
      "Overall F1 Score of LR: 0.030521407376006785\n",
      "Classification Report: \n",
      "              precision    recall  f1-score   support\n",
      "\n",
      "           0       0.85      0.99      0.92     12672\n",
      "           1       0.33      0.02      0.03      2250\n",
      "\n",
      "   micro avg       0.85      0.85      0.85     14922\n",
      "   macro avg       0.59      0.51      0.47     14922\n",
      "weighted avg       0.77      0.85      0.78     14922\n",
      "\n",
      "----------------------------------------------------- \n",
      "\n",
      "\n"
     ]
    }
   ],
   "source": [
    "for model_name, model in models:\n",
    "    print(\"Running model %s\" % model_name)\n",
    "    model.fit(X_train, y_train)\n",
    "    y_predict = model.predict(X_test)\n",
    "    score = model.score(X_test, y_test)\n",
    "    print(\"Model Score %s \" % score)\n",
    "    print(\"Confusion Matrix: \")\n",
    "    print(metrics.confusion_matrix(y_test, y_predict))\n",
    "    print(\"Overall precision of %s: %s\" % (model_name, precision_score(y_test, y_predict)))\n",
    "    print(\"Overall recall of %s: %s\" % (model_name, recall_score(y_test, y_predict)))\n",
    "    print(\"Overall F1 Score of %s: %s\" % (model_name, f1_score(y_test, y_predict)))\n",
    "    print(\"Classification Report: \")\n",
    "    print(classification_report(y_test, y_predict, [0, 1]))\n",
    "    print(\"----------------------------------------------------- \\n\\n\")"
   ]
  },
  {
   "cell_type": "code",
   "execution_count": 76,
   "metadata": {},
   "outputs": [
    {
     "name": "stderr",
     "output_type": "stream",
     "text": [
      "/anaconda3/lib/python3.6/site-packages/sklearn/preprocessing/data.py:617: DataConversionWarning: Data with input dtype int32, int64, float64 were all converted to float64 by StandardScaler.\n",
      "  return self.partial_fit(X, y)\n",
      "/anaconda3/lib/python3.6/site-packages/sklearn/base.py:462: DataConversionWarning: Data with input dtype int32, int64, float64 were all converted to float64 by StandardScaler.\n",
      "  return self.fit(X, **fit_params).transform(X)\n"
     ]
    },
    {
     "name": "stdout",
     "output_type": "stream",
     "text": [
      "105.00211106196478\n",
      "105\n"
     ]
    },
    {
     "data": {
      "image/png": "[encoded data removed]",
      "text/plain": [
       "<matplotlib.figure.Figure at 0x1a28774518>"
      ]
     },
     "metadata": {},
     "output_type": "display_data"
    }
   ],
   "source": [
    "#X = nm_df_z_t_c[X_cols]\n",
    "#y = nm_df_z_t_c[y_col]\n",
    "X = nm_df_z_t_c[col_names]\n",
    "X.drop('Type', axis =1)\n",
    "y = nm_df_z_t_c[y_col]\n",
    "X_train, X_test, y_train, y_test = train_test_split(X, y, test_size=0.3, random_state=7)\n",
    "\n",
    "sc = StandardScaler()\n",
    "X_std = sc.fit_transform(X)\n",
    "cov_matrix = np.cov(X_std.T)\n",
    "eigenvalues, eigenvectors = np.linalg.eig(cov_matrix)\n",
    "\n",
    "# Make a set of (eigenvalue, eigenvector) pairs\n",
    "eig_pairs = [(eigenvalues[index], eigenvectors[:,index]) for index in range(len(eigenvalues))]\n",
    "\n",
    "# Sort the (eigenvalue, eigenvector) pairs from highest to lowest with respect to eigenvalue\n",
    "eig_pairs.sort()\n",
    "\n",
    "eig_pairs.reverse()\n",
    "#print(eig_pairs)\n",
    "\n",
    "# Extract the descending ordered eigenvalues and eigenvectors\n",
    "eigvalues_sorted = [eig_pairs[index][0] for index in range(len(eigenvalues))]\n",
    "eigvectors_sorted = [eig_pairs[index][1] for index in range(len(eigenvalues))]\n",
    "\n",
    "tot = sum(eigenvalues)\n",
    "print(tot)\n",
    "var_explained = [(i / tot) for i in sorted(eigenvalues, reverse=True)]  # an array of variance explained by each \n",
    "# eigen vector... there will be 8 entries as there are 8 eigen vectors)\n",
    "cum_var_exp = np.cumsum(var_explained)  # an array of cumulative variance. There will be 8 entries with 8 th entry \n",
    "# cumulative reaching almost 100%\n",
    "print(len(eigenvalues))\n",
    "plt.bar(range(1,106), var_explained, alpha=0.5, align='center', label='individual explained variance')\n",
    "plt.step(range(1,106),cum_var_exp, where= 'mid', label='cumulative explained variance')\n",
    "plt.ylabel('Explained variance ratio')\n",
    "plt.xlabel('Principal components')\n",
    "plt.legend(loc = 'best')\n",
    "plt.show()"
   ]
  },
  {
   "cell_type": "code",
   "execution_count": 77,
   "metadata": {},
   "outputs": [],
   "source": [
    "# P_reduce represents reduced mathematical space....\n",
    "\n",
    "P_reduce = np.array(eigvectors_sorted[0:80])   # Reducing from 8 to 4 dimension space\n",
    "\n",
    "X_std_4D = np.dot(X_std,P_reduce.T)   # projecting original data into principal component dimensions\n",
    "\n",
    "Proj_data_df = pd.DataFrame(X_std_4D)  # converting array to dataframe for pairplot"
   ]
  },
  {
   "cell_type": "code",
   "execution_count": 82,
   "metadata": {},
   "outputs": [],
   "source": [
    "X_train_pca, X_test_pca, y_train_pca, y_test_pca = model_selection.train_test_split(Proj_data_df, y, test_size=0.3, random_state=7)"
   ]
  },
  {
   "cell_type": "code",
   "execution_count": 83,
   "metadata": {},
   "outputs": [
    {
     "name": "stdout",
     "output_type": "stream",
     "text": [
      "Running model LR\n"
     ]
    },
    {
     "name": "stderr",
     "output_type": "stream",
     "text": [
      "/anaconda3/lib/python3.6/site-packages/sklearn/linear_model/logistic.py:432: FutureWarning: Default solver will be changed to 'lbfgs' in 0.22. Specify a solver to silence this warning.\n",
      "  FutureWarning)\n",
      "/anaconda3/lib/python3.6/site-packages/sklearn/utils/validation.py:752: DataConversionWarning: A column-vector y was passed when a 1d array was expected. Please change the shape of y to (n_samples, ), for example using ravel().\n",
      "  y = column_or_1d(y, warn=True)\n"
     ]
    },
    {
     "name": "stdout",
     "output_type": "stream",
     "text": [
      "Model score 1.0\n",
      "Confusion Matrix: \n",
      "[[12672     0]\n",
      " [    0  2250]]\n",
      "Overall precision of LR: 1.0\n",
      "Overall recall of LR: 1.0\n",
      "Overall F1 Score of LR: 1.0\n",
      "Classification Report: \n",
      "              precision    recall  f1-score   support\n",
      "\n",
      "           0       1.00      1.00      1.00     12672\n",
      "           1       1.00      1.00      1.00      2250\n",
      "\n",
      "   micro avg       1.00      1.00      1.00     14922\n",
      "   macro avg       1.00      1.00      1.00     14922\n",
      "weighted avg       1.00      1.00      1.00     14922\n",
      "\n",
      "Running model LDA\n"
     ]
    },
    {
     "name": "stderr",
     "output_type": "stream",
     "text": [
      "/anaconda3/lib/python3.6/site-packages/sklearn/utils/validation.py:752: DataConversionWarning: A column-vector y was passed when a 1d array was expected. Please change the shape of y to (n_samples, ), for example using ravel().\n",
      "  y = column_or_1d(y, warn=True)\n"
     ]
    },
    {
     "name": "stdout",
     "output_type": "stream",
     "text": [
      "Model score 1.0\n",
      "Confusion Matrix: \n",
      "[[12672     0]\n",
      " [    0  2250]]\n",
      "Overall precision of LDA: 1.0\n",
      "Overall recall of LDA: 1.0\n",
      "Overall F1 Score of LDA: 1.0\n",
      "Classification Report: \n",
      "              precision    recall  f1-score   support\n",
      "\n",
      "           0       1.00      1.00      1.00     12672\n",
      "           1       1.00      1.00      1.00      2250\n",
      "\n",
      "   micro avg       1.00      1.00      1.00     14922\n",
      "   macro avg       1.00      1.00      1.00     14922\n",
      "weighted avg       1.00      1.00      1.00     14922\n",
      "\n",
      "Running model KNN\n"
     ]
    },
    {
     "name": "stderr",
     "output_type": "stream",
     "text": [
      "/anaconda3/lib/python3.6/site-packages/ipykernel_launcher.py:13: DataConversionWarning: A column-vector y was passed when a 1d array was expected. Please change the shape of y to (n_samples, ), for example using ravel().\n",
      "  del sys.path[0]\n"
     ]
    },
    {
     "name": "stdout",
     "output_type": "stream",
     "text": [
      "Model score 0.9624045034177724\n",
      "Confusion Matrix: \n",
      "[[12621    51]\n",
      " [  510  1740]]\n",
      "Overall precision of KNN: 0.9715242881072027\n",
      "Overall recall of KNN: 0.7733333333333333\n",
      "Overall F1 Score of KNN: 0.8611729769858946\n",
      "Classification Report: \n",
      "              precision    recall  f1-score   support\n",
      "\n",
      "           0       0.96      1.00      0.98     12672\n",
      "           1       0.97      0.77      0.86      2250\n",
      "\n",
      "   micro avg       0.96      0.96      0.96     14922\n",
      "   macro avg       0.97      0.88      0.92     14922\n",
      "weighted avg       0.96      0.96      0.96     14922\n",
      "\n",
      "Running model CART\n",
      "Model score 0.9778850020104544\n",
      "Confusion Matrix: \n",
      "[[12494   178]\n",
      " [  152  2098]]\n",
      "Overall precision of CART: 0.9217926186291739\n",
      "Overall recall of CART: 0.9324444444444444\n",
      "Overall F1 Score of CART: 0.9270879363676535\n",
      "Classification Report: \n",
      "              precision    recall  f1-score   support\n",
      "\n",
      "           0       0.99      0.99      0.99     12672\n",
      "           1       0.92      0.93      0.93      2250\n",
      "\n",
      "   micro avg       0.98      0.98      0.98     14922\n",
      "   macro avg       0.95      0.96      0.96     14922\n",
      "weighted avg       0.98      0.98      0.98     14922\n",
      "\n",
      "Running model NB\n",
      "Model score 0.9587856855649377\n",
      "Confusion Matrix: \n",
      "[[12357   315]\n",
      " [  300  1950]]\n",
      "Overall precision of NB: 0.8609271523178808\n",
      "Overall recall of NB: 0.8666666666666667\n",
      "Overall F1 Score of NB: 0.8637873754152824\n",
      "Classification Report: \n",
      "              precision    recall  f1-score   support\n",
      "\n",
      "           0       0.98      0.98      0.98     12672\n",
      "           1       0.86      0.87      0.86      2250\n",
      "\n",
      "   micro avg       0.96      0.96      0.96     14922\n",
      "   macro avg       0.92      0.92      0.92     14922\n",
      "weighted avg       0.96      0.96      0.96     14922\n",
      "\n",
      "Running model SVM\n"
     ]
    },
    {
     "name": "stderr",
     "output_type": "stream",
     "text": [
      "/anaconda3/lib/python3.6/site-packages/sklearn/utils/validation.py:752: DataConversionWarning: A column-vector y was passed when a 1d array was expected. Please change the shape of y to (n_samples, ), for example using ravel().\n",
      "  y = column_or_1d(y, warn=True)\n",
      "/anaconda3/lib/python3.6/site-packages/sklearn/utils/validation.py:752: DataConversionWarning: A column-vector y was passed when a 1d array was expected. Please change the shape of y to (n_samples, ), for example using ravel().\n",
      "  y = column_or_1d(y, warn=True)\n",
      "/anaconda3/lib/python3.6/site-packages/sklearn/svm/base.py:196: FutureWarning: The default value of gamma will change from 'auto' to 'scale' in version 0.22 to account better for unscaled features. Set gamma explicitly to 'auto' or 'scale' to avoid this warning.\n",
      "  \"avoid this warning.\", FutureWarning)\n"
     ]
    },
    {
     "name": "stdout",
     "output_type": "stream",
     "text": [
      "Model score 0.9983246213644283\n",
      "Confusion Matrix: \n",
      "[[12672     0]\n",
      " [   25  2225]]\n",
      "Overall precision of SVM: 1.0\n",
      "Overall recall of SVM: 0.9888888888888889\n",
      "Overall F1 Score of SVM: 0.9944134078212291\n",
      "Classification Report: \n",
      "              precision    recall  f1-score   support\n",
      "\n",
      "           0       1.00      1.00      1.00     12672\n",
      "           1       1.00      0.99      0.99      2250\n",
      "\n",
      "   micro avg       1.00      1.00      1.00     14922\n",
      "   macro avg       1.00      0.99      1.00     14922\n",
      "weighted avg       1.00      1.00      1.00     14922\n",
      "\n"
     ]
    }
   ],
   "source": [
    "results = []\n",
    "model_names = []\n",
    "models = []\n",
    "models.append(('LR', LogisticRegression()))\n",
    "models.append(('LDA', LinearDiscriminantAnalysis()))\n",
    "models.append(('KNN', KNeighborsClassifier()))\n",
    "models.append(('CART', DecisionTreeClassifier()))\n",
    "models.append(('NB', GaussianNB()))\n",
    "models.append(('SVM', SVC()))\n",
    "auc_metrics = []\n",
    "for model_name, model in models:\n",
    "    print(\"Running model %s\" % model_name)\n",
    "    model.fit(X_train_pca, y_train_pca)\n",
    "    y_predict_pca = model.predict(X_test_pca)\n",
    "    score = model.score(X_test_pca, y_test_pca)\n",
    "    print(\"Model score %s\" % score)\n",
    "    print(\"Confusion Matrix: \")\n",
    "    print(metrics.confusion_matrix(y_test_pca, y_predict_pca))\n",
    "    print(\"Overall precision of %s: %s\" % (model_name, precision_score(y_test_pca, y_predict_pca)))\n",
    "    print(\"Overall recall of %s: %s\" % (model_name, recall_score(y_test_pca, y_predict_pca)))\n",
    "    print(\"Overall F1 Score of %s: %s\" % (model_name, f1_score(y_test_pca, y_predict_pca)))\n",
    "    print(\"Classification Report: \")\n",
    "    print(classification_report(y_test_pca, y_predict_pca, [0, 1]))\n",
    "    fpr, tpr, threshold = roc_curve(y_test_pca, y_predict_pca)\n",
    "    roc_auc = auc(fpr, tpr)\n",
    "    auc_metrics.append((model_name, fpr, tpr, roc_auc))"
   ]
  },
  {
   "cell_type": "code",
   "execution_count": 86,
   "metadata": {},
   "outputs": [],
   "source": [
    "# We are getting 100% accuracy for Logistic Regresssion and LDA. Even SVM is performing with 99% accuracy"
   ]
  },
  {
   "cell_type": "code",
   "execution_count": 87,
   "metadata": {},
   "outputs": [
    {
     "data": {
      "image/png": "[encoded data removed]",
      "text/plain": [
       "<matplotlib.figure.Figure at 0x1a2d47d160>"
      ]
     },
     "metadata": {},
     "output_type": "display_data"
    }
   ],
   "source": [
    "# Plot ROC curve\n",
    "plt.clf()\n",
    "for model_name, fpr, tpr, roc_auc in auc_metrics:\n",
    "    plt.plot(fpr, tpr, label='ROC curve for %s (area = %0.2f)' % (model_name, roc_auc))\n",
    "plt.plot([0, 1], [0, 1], 'k--')\n",
    "plt.xlim([0.0, 1.0])\n",
    "plt.ylim([0.0, 1.0])\n",
    "plt.xlabel('False Positive Rate')\n",
    "plt.ylabel('True Positive Rate')\n",
    "plt.title('Receiverrating characteristic example')\n",
    "plt.legend(loc=\"lower right\")\n",
    "plt.show()"
   ]
  },
  {
   "cell_type": "code",
   "execution_count": null,
   "metadata": {},
   "outputs": [],
   "source": []
  }
 ],
 "metadata": {
  "kernelspec": {
   "display_name": "Python 3",
   "language": "python",
   "name": "python3"
  },
  "language_info": {
   "codemirror_mode": {
    "name": "ipython",
    "version": 3
   },
   "file_extension": ".py",
   "mimetype": "text/x-python",
   "name": "python",
   "nbconvert_exporter": "python",
   "pygments_lexer": "ipython3",
   "version": "3.6.4"
  }
 },
 "nbformat": 4,
 "nbformat_minor": 2
}
