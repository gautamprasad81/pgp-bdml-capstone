{
 "cells": [
  {
   "cell_type": "code",
   "execution_count": 1,
   "metadata": {},
   "outputs": [],
   "source": [
    "import pandas as pd\n",
    "import numpy as np\n",
    "import matplotlib\n",
    "import matplotlib.pyplot as plt\n",
    "%matplotlib inline\n",
    "import seaborn as sns\n",
    "from sklearn import model_selection\n",
    "from sklearn.linear_model import LogisticRegression\n",
    "from sklearn.tree import DecisionTreeClassifier\n",
    "from sklearn.neighbors import KNeighborsClassifier\n",
    "from sklearn.discriminant_analysis import LinearDiscriminantAnalysis\n",
    "from sklearn.naive_bayes import GaussianNB\n",
    "from sklearn.svm import SVC\n",
    "from sklearn.ensemble import BaggingClassifier, AdaBoostClassifier, GradientBoostingClassifier, RandomForestClassifier\n",
    "from sklearn.model_selection import train_test_split\n",
    "from sklearn import metrics\n",
    "from sklearn.metrics import precision_score, recall_score, roc_curve, f1_score, classification_report, auc\n",
    "from sklearn.cluster import KMeans\n",
    "from scipy.stats import zscore\n",
    "from sklearn.preprocessing import StandardScaler\n",
    "from imblearn.under_sampling import ClusterCentroids\n",
    "from imblearn.over_sampling import SMOTE\n",
    "from imblearn.over_sampling import RandomOverSampler\n",
    "from imblearn.under_sampling import RandomUnderSampler"
   ]
  },
  {
   "cell_type": "code",
   "execution_count": 2,
   "metadata": {},
   "outputs": [
    {
     "name": "stderr",
     "output_type": "stream",
     "text": [
      "Using TensorFlow backend.\n"
     ]
    }
   ],
   "source": [
    "from keras.models import Sequential\n",
    "from keras.layers import Dense\n",
    "# fix random seed for reproducibility\n",
    "np.random.seed(7)"
   ]
  },
  {
   "cell_type": "code",
   "execution_count": 9,
   "metadata": {},
   "outputs": [],
   "source": [
    "nm_df = pd.read_csv(\"NetworkMeasuresFeatures.csv\")"
   ]
  },
  {
   "cell_type": "code",
   "execution_count": 10,
   "metadata": {},
   "outputs": [],
   "source": [
    "nm_df_orig = nm_df.copy()"
   ]
  },
  {
   "cell_type": "code",
   "execution_count": 11,
   "metadata": {},
   "outputs": [],
   "source": [
    "# Renaming columns in readable format to understand what each column represents.\n",
    "nm_df = nm_df_orig.copy()\n",
    "col_names = ['Actor', 'A_Acc',\n",
    "             'PartyPlay_InDegree', 'PartyPlay_OutDegree', 'PartyPlay_Degree',\n",
    "             'PartyPlay_WeightedDegree', 'PartyPlay_WeightedInDegree', 'PartyPlay_WeightedOutDegree',\n",
    "             'PartyPlay_Eccentricity', 'PartyPlay_ClosenessCentrality', 'PartyPlay_BetweennessCentrality',\n",
    "             'PartyPlay_Authority', 'PartyPlay_Hub', 'PartyPlay_ModularityClass', 'PartyPlay_Pagerank',\n",
    "             'PartyPlay_ComponentId', 'PartyPlay_StrConnId', 'PartyPlay_ClusteringCoefficient', 'PartyPlay_Eigenvector',\n",
    "             'Friendship_InDegree', 'Friendship_OutDegree', 'Friendship_Degree',\n",
    "             'Friendship_WeightedDegree', 'Friendship_WeightedInDegree', 'Friendship_WeightedOutDegree',\n",
    "             'Friendship_Eccentricity', 'Friendship_ClosenessCentrality', 'Friendship_BetweennessCentrality',\n",
    "             'Friendship_Authority', 'Friendship_Hub', 'Friendship_ModularityClass', 'Friendship_Pagerank',\n",
    "             'Friendship_ComponentId', 'Friendship_StrConnId', 'Friendship_ClusteringCoefficient', 'Friendship_Eigenvector',\n",
    "             'Trade_InDegree', 'Trade_OutDegree', 'Trade_Degree',\n",
    "             'Trade_WeightedDegree', 'Trade_WeightedInDegree', 'Trade_WeightedOutDegree',\n",
    "             'Trade_Eccentricity', 'Trade_ClosenessCentrality', 'Trade_BetweennessCentrality',\n",
    "             'Trade_Authority', 'Trade_Hub', 'Trade_ModularityClass', 'Trade_Pagerank',\n",
    "             'Trade_ComponentId', 'Trade_StrConnId', 'Trade_ClusteringCoefficient', 'Trade_Eigenvector',\n",
    "             'Whisper_InDegree', 'Whisper_OutDegree', 'Whisper_Degree',\n",
    "             'Whisper_WeightedDegree', 'Whisper_WeightedInDegree', 'Whisper_WeightedOutDegree',\n",
    "             'Whisper_Eccentricity', 'Whisper_ClosenessCentrality', 'Whisper_BetweennessCentrality',\n",
    "             'Whisper_Authority', 'Whisper_Hub', 'Whisper_ModularityClass', 'Whisper_Pagerank',\n",
    "             'Whisper_ComponentId', 'Whisper_StrConnId', 'Whisper_ClusteringCoefficient', 'Whisper_Eigenvector',\n",
    "             'Mail_InDegree', 'Mail_OutDegree', 'Mail_Degree',\n",
    "             'Mail_WeightedDegree', 'Mail_WeightedInDegree', 'Mail_WeightedOutDegree',\n",
    "             'Mail_Eccentricity', 'Mail_ClosenessCentrality', 'Mail_BetweennessCentrality',\n",
    "             'Mail_Authority', 'Mail_Hub', 'Mail_ModularityClass', 'Mail_Pagerank',\n",
    "             'Mail_ComponentId', 'Mail_StrConnId', 'Mail_ClusteringCoefficient', 'Mail_Eigenvector',\n",
    "             'Shop_InDegree', 'Shop_OutDegree', 'Shop_Degree',\n",
    "             'Shop_WeightedDegree', 'Shop_WeightedInDegree', 'Shop_WeightedOutDegree',\n",
    "             'Shop_Eccentricity', 'Shop_ClosenessCentrality', 'Shop_BetweennessCentrality',\n",
    "             'Shop_Authority', 'Shop_Hub', 'Shop_ModularityClass', 'Shop_Pagerank',\n",
    "             'Shop_ComponentId', 'Shop_StrConnId', 'Shop_ClusteringCoefficient', 'Shop_Eigenvector',\n",
    "             'Type'\n",
    "            ]\n",
    "nm_df.columns = col_names\n",
    "nm_df_orig.columns = col_names"
   ]
  },
  {
   "cell_type": "code",
   "execution_count": 12,
   "metadata": {},
   "outputs": [],
   "source": [
    "# Change Type as Category\n",
    "nm_df.Type = nm_df.Type.astype('category')"
   ]
  },
  {
   "cell_type": "code",
   "execution_count": 13,
   "metadata": {},
   "outputs": [],
   "source": [
    "# Creating a numerical field for Type\n",
    "nm_df.Type.replace({'Human': 0, 'Bot': 1}, inplace=True)\n",
    "type_dict = {0 : 'Human', 1: 'Bot'}"
   ]
  },
  {
   "cell_type": "code",
   "execution_count": 14,
   "metadata": {},
   "outputs": [],
   "source": [
    "# Creating different datasets based on the Group activity\n",
    "party_df = nm_df[[\n",
    "                  'PartyPlay_InDegree', 'PartyPlay_OutDegree', 'PartyPlay_Degree',\n",
    "                  'PartyPlay_WeightedDegree', 'PartyPlay_WeightedInDegree', 'PartyPlay_WeightedOutDegree',\n",
    "                  'PartyPlay_Eccentricity', 'PartyPlay_ClosenessCentrality', 'PartyPlay_BetweennessCentrality',\n",
    "                  'PartyPlay_Authority', 'PartyPlay_Hub', 'PartyPlay_ModularityClass', 'PartyPlay_Pagerank',\n",
    "                  'PartyPlay_ComponentId', 'PartyPlay_StrConnId', 'PartyPlay_ClusteringCoefficient',\n",
    "                  'PartyPlay_Eigenvector', 'Type']].copy()\n",
    "friendship_df = nm_df[['Friendship_InDegree', 'Friendship_OutDegree', 'Friendship_Degree',\n",
    "                       'Friendship_WeightedDegree', 'Friendship_WeightedInDegree', 'Friendship_WeightedOutDegree',\n",
    "                       'Friendship_Eccentricity', 'Friendship_ClosenessCentrality', 'Friendship_BetweennessCentrality',\n",
    "                       'Friendship_Authority', 'Friendship_Hub', 'Friendship_ModularityClass', 'Friendship_Pagerank',\n",
    "                       'Friendship_ComponentId', 'Friendship_StrConnId', 'Friendship_ClusteringCoefficient', 'Friendship_Eigenvector',\n",
    "                       'Type']].copy()\n",
    "trade_df = nm_df[[\n",
    "    'Trade_InDegree', 'Trade_OutDegree', 'Trade_Degree',\n",
    "    'Trade_WeightedDegree', 'Trade_WeightedInDegree', 'Trade_WeightedOutDegree',\n",
    "    'Trade_Eccentricity', 'Trade_ClosenessCentrality', 'Trade_BetweennessCentrality',\n",
    "    'Trade_Authority', 'Trade_Hub', 'Trade_ModularityClass', 'Trade_Pagerank',\n",
    "    'Trade_ComponentId', 'Trade_StrConnId', 'Trade_ClusteringCoefficient', 'Trade_Eigenvector',\n",
    "    'Type']].copy()\n",
    "shop_df = nm_df[[\n",
    "             'Shop_InDegree', 'Shop_OutDegree', 'Shop_Degree',\n",
    "             'Shop_WeightedDegree', 'Shop_WeightedInDegree', 'Shop_WeightedOutDegree',\n",
    "             'Shop_Eccentricity', 'Shop_ClosenessCentrality', 'Shop_BetweennessCentrality',\n",
    "             'Shop_Authority', 'Shop_Hub', 'Shop_ModularityClass', 'Shop_Pagerank',\n",
    "             'Shop_ComponentId', 'Shop_StrConnId', 'Shop_ClusteringCoefficient', 'Shop_Eigenvector',\n",
    "             'Type']].copy()\n",
    "whisper_df = nm_df[[\n",
    "    'Whisper_InDegree', 'Whisper_OutDegree', 'Whisper_Degree',\n",
    "    'Whisper_WeightedDegree', 'Whisper_WeightedInDegree', 'Whisper_WeightedOutDegree',\n",
    "    'Whisper_Eccentricity', 'Whisper_ClosenessCentrality', 'Whisper_BetweennessCentrality',\n",
    "    'Whisper_Authority', 'Whisper_Hub', 'Whisper_ModularityClass', 'Whisper_Pagerank',\n",
    "    'Whisper_ComponentId', 'Whisper_StrConnId', 'Whisper_ClusteringCoefficient', 'Whisper_Eigenvector',\n",
    "    'Type' ]].copy()\n",
    "mail_df = nm_df[[\n",
    "    'Mail_InDegree', 'Mail_OutDegree', 'Mail_Degree',\n",
    "    'Mail_WeightedDegree', 'Mail_WeightedInDegree', 'Mail_WeightedOutDegree',\n",
    "    'Mail_Eccentricity', 'Mail_ClosenessCentrality', 'Mail_BetweennessCentrality',\n",
    "    'Mail_Authority', 'Mail_Hub', 'Mail_ModularityClass', 'Mail_Pagerank',\n",
    "    'Mail_ComponentId', 'Mail_StrConnId', 'Mail_ClusteringCoefficient', 'Mail_Eigenvector',\n",
    "    'Type']].copy()\n"
   ]
  },
  {
   "cell_type": "code",
   "execution_count": 15,
   "metadata": {},
   "outputs": [
    {
     "name": "stdout",
     "output_type": "stream",
     "text": [
      "['PartyPlay_InDegree', 'PartyPlay_OutDegree', 'PartyPlay_Degree', 'PartyPlay_WeightedDegree', 'PartyPlay_WeightedInDegree', 'PartyPlay_WeightedOutDegree', 'PartyPlay_Eccentricity', 'PartyPlay_ClosenessCentrality', 'PartyPlay_BetweennessCentrality', 'PartyPlay_Authority', 'PartyPlay_Hub', 'PartyPlay_ModularityClass', 'PartyPlay_Pagerank', 'PartyPlay_ComponentId', 'PartyPlay_StrConnId', 'PartyPlay_ClusteringCoefficient', 'PartyPlay_Eigenvector', 'Type']\n"
     ]
    }
   ],
   "source": [
    "# Getting the list of cols that we want to visulaize in pairplot. This will exclude the Actor and A_Acc cols\n",
    "cols = party_df.columns.tolist()\n",
    "#cols.remove('Actor'); cols.remove('A_Acc')\n",
    "print(cols)"
   ]
  },
  {
   "cell_type": "code",
   "execution_count": 16,
   "metadata": {},
   "outputs": [],
   "source": [
    "cols_to_zscore = {\n",
    "    'party_play': ['PartyPlay_BetweennessCentrality', 'PartyPlay_ClosenessCentrality', \n",
    "    'PartyPlay_Eigenvector', 'PartyPlay_Eccentricity', 'PartyPlay_Authority', 'PartyPlay_Hub', 'PartyPlay_Pagerank'],\n",
    "    'friendship': ['Friendship_BetweennessCentrality', 'Friendship_ClosenessCentrality', \n",
    "    'Friendship_Eigenvector', 'Friendship_Eccentricity', 'Friendship_Authority', 'Friendship_Hub', 'Friendship_Pagerank'],\n",
    "    'trade': ['Trade_BetweennessCentrality',  'Trade_ClosenessCentrality',\n",
    "    'Trade_Eigenvector', 'Trade_Eccentricity', 'Trade_Authority', 'Trade_Hub', 'Trade_Pagerank'],\n",
    "    'shop': ['Shop_BetweennessCentrality', 'Shop_ClosenessCentrality',\n",
    "    'Shop_Eigenvector', 'Shop_Eccentricity', 'Shop_Authority', 'Shop_Hub', 'Shop_Pagerank'],\n",
    "    'mail': ['Mail_BetweennessCentrality', 'Mail_ClosenessCentrality', \n",
    "    'Mail_Eigenvector', 'Mail_Eccentricity', 'Mail_Authority', 'Mail_Hub', 'Mail_Pagerank'],\n",
    "    'whisper': ['Whisper_BetweennessCentrality', 'Whisper_ClosenessCentrality', \n",
    "    'Whisper_Eigenvector', 'Whisper_Eccentricity', 'Whisper_Authority', 'Whisper_Hub', 'Whisper_Pagerank']\n",
    "}"
   ]
  },
  {
   "cell_type": "code",
   "execution_count": 17,
   "metadata": {},
   "outputs": [],
   "source": [
    "grp_act_df = {\n",
    "    'party_play': party_df,\n",
    "    'friendship': friendship_df,\n",
    "    'trade': trade_df,\n",
    "    'shop': shop_df,\n",
    "    'mail': mail_df,\n",
    "    'whisper': whisper_df\n",
    "}"
   ]
  },
  {
   "cell_type": "code",
   "execution_count": 18,
   "metadata": {},
   "outputs": [],
   "source": [
    "# For each act_df, apply zscore to the cols listed in cols_to_zscore\n",
    "for act_name, act_df in grp_act_df.items():\n",
    "    act_cols_to_zscore = cols_to_zscore.get(act_name)\n",
    "    act_df[act_cols_to_zscore] = act_df[act_cols_to_zscore].apply(zscore)"
   ]
  },
  {
   "cell_type": "code",
   "execution_count": 19,
   "metadata": {},
   "outputs": [],
   "source": [
    "X_cols_to_log_transform = [\n",
    "    'PartyPlay_InDegree', 'PartyPlay_OutDegree', 'PartyPlay_WeightedInDegree', 'PartyPlay_WeightedOutDegree',\n",
    "    'Friendship_InDegree', 'Friendship_OutDegree', 'Friendship_WeightedInDegree', 'Friendship_WeightedOutDegree',\n",
    "    'Trade_InDegree', 'Trade_OutDegree', 'Trade_WeightedInDegree', 'Trade_WeightedOutDegree',\n",
    "    'Mail_InDegree', 'Mail_OutDegree', 'Mail_WeightedInDegree', 'Mail_WeightedOutDegree',\n",
    "    'Shop_InDegree', 'Shop_OutDegree', 'Shop_WeightedInDegree', 'Shop_WeightedOutDegree',\n",
    "    'Whisper_InDegree', 'Whisper_OutDegree', 'Whisper_WeightedInDegree', 'Whisper_WeightedOutDegree',\n",
    "    'PartyPlay_Degree', 'PartyPlay_WeightedDegree', 'PartyPlay_BetweennessCentrality', \n",
    "    'Friendship_Degree', 'Friendship_WeightedDegree', 'Friendship_BetweennessCentrality',\n",
    "    'Trade_Degree', 'Trade_WeightedDegree', 'Trade_BetweennessCentrality',\n",
    "    'Shop_Degree', 'Shop_WeightedDegree', 'Shop_BetweennessCentrality',\n",
    "    'Mail_Degree', 'Mail_WeightedDegree', 'Mail_BetweennessCentrality',\n",
    "    'Whisper_Degree', 'Whisper_WeightedDegree', 'Whisper_BetweennessCentrality']"
   ]
  },
  {
   "cell_type": "code",
   "execution_count": 21,
   "metadata": {},
   "outputs": [],
   "source": [
    "nm_df_zscored = nm_df.copy()"
   ]
  },
  {
   "cell_type": "code",
   "execution_count": 22,
   "metadata": {},
   "outputs": [],
   "source": [
    "from scipy import stats as scipy_stats\n",
    "from scipy.special import boxcox1p\n",
    "from sklearn.preprocessing import PowerTransformer\n",
    "\n",
    "nm_df_z_t_1 = nm_df_zscored.copy()\n",
    "'''\n",
    "transformer = PowerTransformer(method='yeo-johnson')\n",
    "X = nm_df_z_t_1[X_cols_to_log_transform]\n",
    "nm_df_z_t_1[X_cols_to_log_transform] = transformer.fit_transform(X)\n",
    "'''\n",
    "for col in X_cols_to_log_transform:\n",
    "    #print(\"Transforming %s\" % col)\n",
    "    # The boxcox transformation with value of 0 does log transformation\n",
    "    nm_df_z_t_1[col] = pd.Series(boxcox1p(nm_df_z_t_1[col].values, 0))\n",
    "    nm_df_z_t_1[col] = pd.Series(boxcox1p(nm_df_z_t_1[col].values, 0))"
   ]
  },
  {
   "cell_type": "code",
   "execution_count": 23,
   "metadata": {},
   "outputs": [],
   "source": [
    "nm_df = nm_df_z_t_1.copy()"
   ]
  },
  {
   "cell_type": "code",
   "execution_count": null,
   "metadata": {},
   "outputs": [],
   "source": []
  },
  {
   "cell_type": "code",
   "execution_count": 25,
   "metadata": {},
   "outputs": [],
   "source": [
    "X_cols = ['PartyPlay_InDegree', 'PartyPlay_OutDegree', 'PartyPlay_WeightedInDegree', 'PartyPlay_WeightedOutDegree',\n",
    "    'PartyPlay_ClusteringCoefficient',\n",
    "    'Friendship_InDegree', 'Friendship_OutDegree', 'Friendship_WeightedInDegree', 'Friendship_WeightedOutDegree',\n",
    "    'Friendship_ClusteringCoefficient',\n",
    "    'Trade_InDegree', 'Trade_OutDegree', 'Trade_WeightedInDegree', 'Trade_WeightedOutDegree',\n",
    "    'Trade_ClusteringCoefficient',\n",
    "    'Mail_InDegree', 'Mail_OutDegree', 'Mail_WeightedInDegree', 'Mail_WeightedOutDegree',\n",
    "    'Mail_ClusteringCoefficient',\n",
    "    'Shop_InDegree', 'Shop_OutDegree', 'Shop_WeightedInDegree', 'Shop_WeightedOutDegree',\n",
    "    'Shop_ClusteringCoefficient', \n",
    "    'Whisper_InDegree', 'Whisper_OutDegree', 'Whisper_WeightedInDegree', 'Whisper_WeightedOutDegree',\n",
    "    'Whisper_ClusteringCoefficient',\n",
    "    'PartyPlay_Degree', 'PartyPlay_WeightedDegree', 'PartyPlay_BetweennessCentrality', 'PartyPlay_ClosenessCentrality', \n",
    "    'PartyPlay_Eigenvector', 'PartyPlay_Eccentricity', 'PartyPlay_Authority', 'PartyPlay_Hub', 'PartyPlay_Pagerank',\n",
    "    'Friendship_Degree', 'Friendship_WeightedDegree', 'Friendship_BetweennessCentrality', 'Friendship_ClosenessCentrality', \n",
    "    'Friendship_Eigenvector', 'Friendship_Eccentricity', 'Friendship_Authority', 'Friendship_Hub', 'Friendship_Pagerank',\n",
    "    'Trade_Degree', 'Trade_WeightedDegree', 'Trade_BetweennessCentrality',  'Trade_ClosenessCentrality',\n",
    "    'Trade_Eigenvector', 'Trade_Eccentricity', 'Trade_Authority', 'Trade_Hub', 'Trade_Pagerank',\n",
    "    'Shop_Degree', 'Shop_WeightedDegree', 'Shop_BetweennessCentrality', 'Shop_ClosenessCentrality',\n",
    "    'Shop_Eigenvector', 'Shop_Eccentricity', 'Shop_Authority', 'Shop_Hub', 'Shop_Pagerank',\n",
    "    'Mail_Degree', 'Mail_WeightedDegree', 'Mail_BetweennessCentrality', 'Mail_ClosenessCentrality', \n",
    "    'Mail_Eigenvector', 'Mail_Eccentricity', 'Mail_Authority', 'Mail_Hub', 'Mail_Pagerank']\n",
    "#X_cols = ['PartyPlay_InDegree', 'PartyPlay_OutDegree', 'PartyPlay_WeightedInDegree', 'PartyPlay_WeightedOutDegree',\n",
    "#    'PartyPlay_ClusteringCoefficient', 'PartyPlay_Degree', 'PartyPlay_WeightedDegree', 'PartyPlay_BetweennessCentrality', 'PartyPlay_ClosenessCentrality', \n",
    "#    'PartyPlay_Eigenvector', 'PartyPlay_Eccentricity', 'PartyPlay_Authority', 'PartyPlay_Hub', 'PartyPlay_Pagerank']\n",
    "y_col = ['Type']\n",
    "X = nm_df[X_cols]\n",
    "y = nm_df[y_col]"
   ]
  },
  {
   "cell_type": "code",
   "execution_count": 170,
   "metadata": {},
   "outputs": [],
   "source": [
    "X_train, X_test, y_train, y_test = train_test_split(X, y, test_size=0.3, random_state=7)"
   ]
  },
  {
   "cell_type": "code",
   "execution_count": 171,
   "metadata": {},
   "outputs": [],
   "source": [
    "model = Sequential()\n",
    "model.add(Dense(75, input_dim=75, activation='relu'))\n",
    "model.add(Dense(300, activation='relu'))\n",
    "model.add(Dense(1, activation='sigmoid'))\n",
    "# Compile model\n",
    "model.compile(loss='binary_crossentropy', optimizer='adam', metrics=['accuracy'])"
   ]
  },
  {
   "cell_type": "code",
   "execution_count": 172,
   "metadata": {},
   "outputs": [
    {
     "name": "stdout",
     "output_type": "stream",
     "text": [
      "Epoch 1/30\n",
      "34817/34817 [==============================] - 5s 132us/step - loss: 0.3024 - acc: 0.8950\n",
      "Epoch 2/30\n",
      "34817/34817 [==============================] - 3s 75us/step - loss: 0.2795 - acc: 0.9053\n",
      "Epoch 3/30\n",
      "34817/34817 [==============================] - 3s 72us/step - loss: 0.2731 - acc: 0.9092\n",
      "Epoch 4/30\n",
      "34817/34817 [==============================] - 3s 74us/step - loss: 0.2696 - acc: 0.9111\n",
      "Epoch 5/30\n",
      "34817/34817 [==============================] - 3s 82us/step - loss: 0.2666 - acc: 0.9122\n",
      "Epoch 6/30\n",
      "34817/34817 [==============================] - 2s 62us/step - loss: 0.2647 - acc: 0.9133\n",
      "Epoch 7/30\n",
      "34817/34817 [==============================] - 3s 75us/step - loss: 0.2626 - acc: 0.9144\n",
      "Epoch 8/30\n",
      "34817/34817 [==============================] - 2s 62us/step - loss: 0.2612 - acc: 0.9148\n",
      "Epoch 9/30\n",
      "34817/34817 [==============================] - 2s 62us/step - loss: 0.2601 - acc: 0.9145\n",
      "Epoch 10/30\n",
      "34817/34817 [==============================] - 2s 65us/step - loss: 0.2586 - acc: 0.9156\n",
      "Epoch 11/30\n",
      "34817/34817 [==============================] - 2s 66us/step - loss: 0.2567 - acc: 0.9168\n",
      "Epoch 12/30\n",
      "34817/34817 [==============================] - 2s 68us/step - loss: 0.2549 - acc: 0.9171\n",
      "Epoch 13/30\n",
      "34817/34817 [==============================] - 2s 67us/step - loss: 0.2544 - acc: 0.9171\n",
      "Epoch 14/30\n",
      "34817/34817 [==============================] - 2s 70us/step - loss: 0.2531 - acc: 0.9182\n",
      "Epoch 15/30\n",
      "34817/34817 [==============================] - 2s 65us/step - loss: 0.2519 - acc: 0.9188\n",
      "Epoch 16/30\n",
      "34817/34817 [==============================] - 2s 65us/step - loss: 0.2498 - acc: 0.9189\n",
      "Epoch 17/30\n",
      "34817/34817 [==============================] - 2s 65us/step - loss: 0.2494 - acc: 0.9189\n",
      "Epoch 18/30\n",
      "34817/34817 [==============================] - 2s 68us/step - loss: 0.2483 - acc: 0.9201\n",
      "Epoch 19/30\n",
      "34817/34817 [==============================] - 2s 70us/step - loss: 0.2472 - acc: 0.9202\n",
      "Epoch 20/30\n",
      "34817/34817 [==============================] - 3s 73us/step - loss: 0.2464 - acc: 0.9205\n",
      "Epoch 21/30\n",
      "34817/34817 [==============================] - 2s 70us/step - loss: 0.2438 - acc: 0.9215\n",
      "Epoch 22/30\n",
      "34817/34817 [==============================] - 2s 63us/step - loss: 0.2429 - acc: 0.9217\n",
      "Epoch 23/30\n",
      "34817/34817 [==============================] - 2s 63us/step - loss: 0.2416 - acc: 0.9225\n",
      "Epoch 24/30\n",
      "34817/34817 [==============================] - 2s 62us/step - loss: 0.2411 - acc: 0.9231\n",
      "Epoch 25/30\n",
      "34817/34817 [==============================] - 2s 62us/step - loss: 0.2403 - acc: 0.9230\n",
      "Epoch 26/30\n",
      "34817/34817 [==============================] - 2s 62us/step - loss: 0.2379 - acc: 0.9237\n",
      "Epoch 27/30\n",
      "34817/34817 [==============================] - 2s 69us/step - loss: 0.2377 - acc: 0.9234\n",
      "Epoch 28/30\n",
      "34817/34817 [==============================] - 3s 86us/step - loss: 0.2373 - acc: 0.9235\n",
      "Epoch 29/30\n",
      "34817/34817 [==============================] - 3s 75us/step - loss: 0.2349 - acc: 0.9235\n",
      "Epoch 30/30\n",
      "34817/34817 [==============================] - 3s 74us/step - loss: 0.2345 - acc: 0.9246\n"
     ]
    },
    {
     "data": {
      "text/plain": [
       "<keras.callbacks.History at 0x1a44e61438>"
      ]
     },
     "execution_count": 172,
     "metadata": {},
     "output_type": "execute_result"
    }
   ],
   "source": [
    "model.fit(X_train, y_train, epochs=30, batch_size=50)"
   ]
  },
  {
   "cell_type": "code",
   "execution_count": 173,
   "metadata": {},
   "outputs": [
    {
     "name": "stdout",
     "output_type": "stream",
     "text": [
      "14922/14922 [==============================] - 2s 115us/step\n"
     ]
    },
    {
     "data": {
      "text/plain": [
       "91.86436134406635"
      ]
     },
     "execution_count": 173,
     "metadata": {},
     "output_type": "execute_result"
    }
   ],
   "source": [
    "# evaluate the model\n",
    "scores = model.evaluate(X_test, y_test)\n",
    "scores[1]*100"
   ]
  },
  {
   "cell_type": "code",
   "execution_count": 174,
   "metadata": {},
   "outputs": [
    {
     "name": "stdout",
     "output_type": "stream",
     "text": [
      "              precision    recall  f1-score   support\n",
      "\n",
      "           0       0.93      0.98      0.95     12672\n",
      "           1       0.84      0.57      0.68      2250\n",
      "\n",
      "   micro avg       0.92      0.92      0.92     14922\n",
      "   macro avg       0.88      0.78      0.82     14922\n",
      "weighted avg       0.91      0.92      0.91     14922\n",
      "\n",
      "[[12419   253]\n",
      " [  961  1289]]\n"
     ]
    }
   ],
   "source": [
    "y_predict = model.predict_classes(X_test)\n",
    "cr = metrics.classification_report(y_test ,y_predict)\n",
    "print(cr)\n",
    "\n",
    "cm = metrics.confusion_matrix(y_test,y_predict)\n",
    "print(cm)"
   ]
  },
  {
   "cell_type": "code",
   "execution_count": 145,
   "metadata": {},
   "outputs": [
    {
     "data": {
      "text/plain": [
       "(pandas.core.frame.DataFrame, pandas.core.frame.DataFrame)"
      ]
     },
     "execution_count": 145,
     "metadata": {},
     "output_type": "execute_result"
    }
   ],
   "source": [
    "type(X), type(y)\n"
   ]
  },
  {
   "cell_type": "code",
   "execution_count": 175,
   "metadata": {},
   "outputs": [
    {
     "name": "stdout",
     "output_type": "stream",
     "text": [
      "acc: 91.96%\n",
      "              precision    recall  f1-score   support\n",
      "\n",
      "           0       0.93      0.98      0.95     12672\n",
      "           1       0.84      0.59      0.69      2250\n",
      "\n",
      "   micro avg       0.92      0.92      0.92     14922\n",
      "   macro avg       0.89      0.78      0.82     14922\n",
      "weighted avg       0.92      0.92      0.92     14922\n",
      "\n",
      "[[12423   249]\n",
      " [  928  1322]]\n",
      "acc: 91.72%\n",
      "              precision    recall  f1-score   support\n",
      "\n",
      "           0       0.93      0.98      0.95     12672\n",
      "           1       0.86      0.57      0.68      2250\n",
      "\n",
      "   micro avg       0.92      0.92      0.92     14922\n",
      "   macro avg       0.89      0.78      0.82     14922\n",
      "weighted avg       0.92      0.92      0.91     14922\n",
      "\n",
      "[[12463   209]\n",
      " [  972  1278]]\n",
      "acc: 90.93%\n",
      "              precision    recall  f1-score   support\n",
      "\n",
      "           0       0.93      0.98      0.95     12672\n",
      "           1       0.87      0.56      0.68      2250\n",
      "\n",
      "   micro avg       0.92      0.92      0.92     14922\n",
      "   macro avg       0.90      0.77      0.82     14922\n",
      "weighted avg       0.92      0.92      0.91     14922\n",
      "\n",
      "[[12478   194]\n",
      " [  984  1266]]\n",
      "acc: 91.36%\n",
      "              precision    recall  f1-score   support\n",
      "\n",
      "           0       0.93      0.98      0.96     12672\n",
      "           1       0.85      0.59      0.70      2250\n",
      "\n",
      "   micro avg       0.92      0.92      0.92     14922\n",
      "   macro avg       0.89      0.78      0.83     14922\n",
      "weighted avg       0.92      0.92      0.92     14922\n",
      "\n",
      "[[12444   228]\n",
      " [  928  1322]]\n",
      "acc: 91.66%\n",
      "              precision    recall  f1-score   support\n",
      "\n",
      "           0       0.93      0.98      0.95     12672\n",
      "           1       0.85      0.57      0.68      2250\n",
      "\n",
      "   micro avg       0.92      0.92      0.92     14922\n",
      "   macro avg       0.89      0.78      0.82     14922\n",
      "weighted avg       0.92      0.92      0.91     14922\n",
      "\n",
      "[[12449   223]\n",
      " [  962  1288]]\n",
      "acc: 92.10%\n",
      "              precision    recall  f1-score   support\n",
      "\n",
      "           0       0.93      0.99      0.96     12672\n",
      "           1       0.88      0.56      0.68      2250\n",
      "\n",
      "   micro avg       0.92      0.92      0.92     14922\n",
      "   macro avg       0.91      0.77      0.82     14922\n",
      "weighted avg       0.92      0.92      0.91     14922\n",
      "\n",
      "[[12509   163]\n",
      " [  997  1253]]\n",
      "acc: 91.11%\n",
      "              precision    recall  f1-score   support\n",
      "\n",
      "           0       0.92      0.99      0.95     12672\n",
      "           1       0.90      0.53      0.66      2250\n",
      "\n",
      "   micro avg       0.92      0.92      0.92     14922\n",
      "   macro avg       0.91      0.76      0.81     14922\n",
      "weighted avg       0.92      0.92      0.91     14922\n",
      "\n",
      "[[12535   137]\n",
      " [ 1066  1184]]\n",
      "acc: 91.78%\n",
      "              precision    recall  f1-score   support\n",
      "\n",
      "           0       0.93      0.98      0.96     12672\n",
      "           1       0.83      0.60      0.70      2250\n",
      "\n",
      "   micro avg       0.92      0.92      0.92     14922\n",
      "   macro avg       0.88      0.79      0.83     14922\n",
      "weighted avg       0.92      0.92      0.92     14922\n",
      "\n",
      "[[12402   270]\n",
      " [  896  1354]]\n",
      "acc: 91.33%\n",
      "              precision    recall  f1-score   support\n",
      "\n",
      "           0       0.93      0.98      0.95     12672\n",
      "           1       0.83      0.60      0.70      2250\n",
      "\n",
      "   micro avg       0.92      0.92      0.92     14922\n",
      "   macro avg       0.88      0.79      0.83     14922\n",
      "weighted avg       0.92      0.92      0.92     14922\n",
      "\n",
      "[[12400   272]\n",
      " [  903  1347]]\n",
      "acc: 91.65%\n",
      "              precision    recall  f1-score   support\n",
      "\n",
      "           0       0.93      0.98      0.95     12672\n",
      "           1       0.84      0.60      0.70      2250\n",
      "\n",
      "   micro avg       0.92      0.92      0.92     14922\n",
      "   macro avg       0.88      0.79      0.83     14922\n",
      "weighted avg       0.92      0.92      0.92     14922\n",
      "\n",
      "[[12413   259]\n",
      " [  911  1339]]\n"
     ]
    }
   ],
   "source": [
    "from sklearn.model_selection import StratifiedKFold\n",
    "# define 10-fold cross validation test harness\n",
    "kfold = StratifiedKFold(n_splits=10, shuffle=True)\n",
    "cvscores = []\n",
    "for train, test in kfold.split(X, y):\n",
    "    #print(train)\n",
    "    #print(test)\n",
    "    # create model\n",
    "    model = Sequential()\n",
    "    model.add(Dense(75, input_dim=75, activation='relu'))\n",
    "    model.add(Dense(300, activation='relu'))\n",
    "    model.add(Dense(1, activation='sigmoid'))\n",
    "    # Compile model\n",
    "    model.compile(loss='binary_crossentropy', optimizer='adam', metrics=['accuracy'])\n",
    "    # Fit the model\n",
    "    model.fit(X.iloc[train],\n",
    "              y.iloc[train], epochs=10, batch_size=100, verbose=0)\n",
    "    # evaluate the model\n",
    "    scores = model.evaluate(X.iloc[test], y.iloc[test], verbose=0)\n",
    "    print(\"%s: %.2f%%\" % (model.metrics_names[1], scores[1]*100))\n",
    "    cvscores.append(scores[1] * 100)\n",
    "    y_predict = model.predict_classes(X_test)\n",
    "    cr = metrics.classification_report(y_test ,y_predict)\n",
    "    print(cr)\n",
    "    cm = metrics.confusion_matrix(y_test,y_predict)\n",
    "    print(cm)\n"
   ]
  },
  {
   "cell_type": "code",
   "execution_count": 176,
   "metadata": {},
   "outputs": [
    {
     "name": "stdout",
     "output_type": "stream",
     "text": [
      "91.56% (+/- 0.35%)\n"
     ]
    }
   ],
   "source": [
    "print(\"%.2f%% (+/- %.2f%%)\" % (np.mean(cvscores), np.std(cvscores)))"
   ]
  },
  {
   "cell_type": "code",
   "execution_count": null,
   "metadata": {},
   "outputs": [],
   "source": []
  }
 ],
 "metadata": {
  "kernelspec": {
   "display_name": "Python 3",
   "language": "python",
   "name": "python3"
  },
  "language_info": {
   "codemirror_mode": {
    "name": "ipython",
    "version": 3
   },
   "file_extension": ".py",
   "mimetype": "text/x-python",
   "name": "python",
   "nbconvert_exporter": "python",
   "pygments_lexer": "ipython3",
   "version": "3.6.4"
  }
 },
 "nbformat": 4,
 "nbformat_minor": 2
}
