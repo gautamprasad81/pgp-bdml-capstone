{
 "cells": [
  {
   "cell_type": "code",
   "execution_count": 1,
   "metadata": {},
   "outputs": [],
   "source": [
    "import pandas as pd\n",
    "import numpy as np\n",
    "import matplotlib\n",
    "import matplotlib.pyplot as plt\n",
    "%matplotlib inline\n",
    "import seaborn as sns\n",
    "from sklearn import model_selection\n",
    "from sklearn.linear_model import LogisticRegression\n",
    "from sklearn.tree import DecisionTreeClassifier\n",
    "from sklearn.neighbors import KNeighborsClassifier\n",
    "from sklearn.discriminant_analysis import LinearDiscriminantAnalysis\n",
    "from sklearn.naive_bayes import GaussianNB\n",
    "from sklearn.svm import SVC\n",
    "from sklearn.ensemble import BaggingClassifier, AdaBoostClassifier, GradientBoostingClassifier, RandomForestClassifier\n",
    "from sklearn.model_selection import train_test_split\n",
    "from sklearn import metrics\n",
    "from sklearn.metrics import precision_score, recall_score, roc_curve, f1_score, classification_report, auc\n",
    "from sklearn.cluster import KMeans\n",
    "from scipy.stats import zscore\n",
    "from sklearn.preprocessing import StandardScaler\n",
    "from imblearn.under_sampling import ClusterCentroids\n",
    "from imblearn.over_sampling import SMOTE\n",
    "from imblearn.over_sampling import RandomOverSampler\n",
    "from imblearn.under_sampling import RandomUnderSampler"
   ]
  },
  {
   "cell_type": "code",
   "execution_count": 2,
   "metadata": {},
   "outputs": [
    {
     "name": "stderr",
     "output_type": "stream",
     "text": [
      "Using TensorFlow backend.\n"
     ]
    }
   ],
   "source": [
    "from keras.models import Sequential\n",
    "from keras.layers import Dense\n",
    "# fix random seed for reproducibility\n",
    "np.random.seed(7)"
   ]
  },
  {
   "cell_type": "code",
   "execution_count": 9,
   "metadata": {},
   "outputs": [],
   "source": [
    "nm_df = pd.read_csv(\"NetworkMeasuresFeatures.csv\")"
   ]
  },
  {
   "cell_type": "code",
   "execution_count": 10,
   "metadata": {},
   "outputs": [],
   "source": [
    "nm_df_orig = nm_df.copy()"
   ]
  },
  {
   "cell_type": "code",
   "execution_count": 11,
   "metadata": {},
   "outputs": [],
   "source": [
    "# Renaming columns in readable format to understand what each column represents.\n",
    "nm_df = nm_df_orig.copy()\n",
    "col_names = ['Actor', 'A_Acc',\n",
    "             'PartyPlay_InDegree', 'PartyPlay_OutDegree', 'PartyPlay_Degree',\n",
    "             'PartyPlay_WeightedDegree', 'PartyPlay_WeightedInDegree', 'PartyPlay_WeightedOutDegree',\n",
    "             'PartyPlay_Eccentricity', 'PartyPlay_ClosenessCentrality', 'PartyPlay_BetweennessCentrality',\n",
    "             'PartyPlay_Authority', 'PartyPlay_Hub', 'PartyPlay_ModularityClass', 'PartyPlay_Pagerank',\n",
    "             'PartyPlay_ComponentId', 'PartyPlay_StrConnId', 'PartyPlay_ClusteringCoefficient', 'PartyPlay_Eigenvector',\n",
    "             'Friendship_InDegree', 'Friendship_OutDegree', 'Friendship_Degree',\n",
    "             'Friendship_WeightedDegree', 'Friendship_WeightedInDegree', 'Friendship_WeightedOutDegree',\n",
    "             'Friendship_Eccentricity', 'Friendship_ClosenessCentrality', 'Friendship_BetweennessCentrality',\n",
    "             'Friendship_Authority', 'Friendship_Hub', 'Friendship_ModularityClass', 'Friendship_Pagerank',\n",
    "             'Friendship_ComponentId', 'Friendship_StrConnId', 'Friendship_ClusteringCoefficient', 'Friendship_Eigenvector',\n",
    "             'Trade_InDegree', 'Trade_OutDegree', 'Trade_Degree',\n",
    "             'Trade_WeightedDegree', 'Trade_WeightedInDegree', 'Trade_WeightedOutDegree',\n",
    "             'Trade_Eccentricity', 'Trade_ClosenessCentrality', 'Trade_BetweennessCentrality',\n",
    "             'Trade_Authority', 'Trade_Hub', 'Trade_ModularityClass', 'Trade_Pagerank',\n",
    "             'Trade_ComponentId', 'Trade_StrConnId', 'Trade_ClusteringCoefficient', 'Trade_Eigenvector',\n",
    "             'Whisper_InDegree', 'Whisper_OutDegree', 'Whisper_Degree',\n",
    "             'Whisper_WeightedDegree', 'Whisper_WeightedInDegree', 'Whisper_WeightedOutDegree',\n",
    "             'Whisper_Eccentricity', 'Whisper_ClosenessCentrality', 'Whisper_BetweennessCentrality',\n",
    "             'Whisper_Authority', 'Whisper_Hub', 'Whisper_ModularityClass', 'Whisper_Pagerank',\n",
    "             'Whisper_ComponentId', 'Whisper_StrConnId', 'Whisper_ClusteringCoefficient', 'Whisper_Eigenvector',\n",
    "             'Mail_InDegree', 'Mail_OutDegree', 'Mail_Degree',\n",
    "             'Mail_WeightedDegree', 'Mail_WeightedInDegree', 'Mail_WeightedOutDegree',\n",
    "             'Mail_Eccentricity', 'Mail_ClosenessCentrality', 'Mail_BetweennessCentrality',\n",
    "             'Mail_Authority', 'Mail_Hub', 'Mail_ModularityClass', 'Mail_Pagerank',\n",
    "             'Mail_ComponentId', 'Mail_StrConnId', 'Mail_ClusteringCoefficient', 'Mail_Eigenvector',\n",
    "             'Shop_InDegree', 'Shop_OutDegree', 'Shop_Degree',\n",
    "             'Shop_WeightedDegree', 'Shop_WeightedInDegree', 'Shop_WeightedOutDegree',\n",
    "             'Shop_Eccentricity', 'Shop_ClosenessCentrality', 'Shop_BetweennessCentrality',\n",
    "             'Shop_Authority', 'Shop_Hub', 'Shop_ModularityClass', 'Shop_Pagerank',\n",
    "             'Shop_ComponentId', 'Shop_StrConnId', 'Shop_ClusteringCoefficient', 'Shop_Eigenvector',\n",
    "             'Type'\n",
    "            ]\n",
    "nm_df.columns = col_names\n",
    "nm_df_orig.columns = col_names"
   ]
  },
  {
   "cell_type": "code",
   "execution_count": 12,
   "metadata": {},
   "outputs": [],
   "source": [
    "# Change Type as Category\n",
    "nm_df.Type = nm_df.Type.astype('category')"
   ]
  },
  {
   "cell_type": "code",
   "execution_count": 13,
   "metadata": {},
   "outputs": [],
   "source": [
    "# Creating a numerical field for Type\n",
    "nm_df.Type.replace({'Human': 0, 'Bot': 1}, inplace=True)\n",
    "type_dict = {0 : 'Human', 1: 'Bot'}"
   ]
  },
  {
   "cell_type": "code",
   "execution_count": 14,
   "metadata": {},
   "outputs": [],
   "source": [
    "# Creating different datasets based on the Group activity\n",
    "party_df = nm_df[[\n",
    "                  'PartyPlay_InDegree', 'PartyPlay_OutDegree', 'PartyPlay_Degree',\n",
    "                  'PartyPlay_WeightedDegree', 'PartyPlay_WeightedInDegree', 'PartyPlay_WeightedOutDegree',\n",
    "                  'PartyPlay_Eccentricity', 'PartyPlay_ClosenessCentrality', 'PartyPlay_BetweennessCentrality',\n",
    "                  'PartyPlay_Authority', 'PartyPlay_Hub', 'PartyPlay_ModularityClass', 'PartyPlay_Pagerank',\n",
    "                  'PartyPlay_ComponentId', 'PartyPlay_StrConnId', 'PartyPlay_ClusteringCoefficient',\n",
    "                  'PartyPlay_Eigenvector', 'Type']].copy()\n",
    "friendship_df = nm_df[['Friendship_InDegree', 'Friendship_OutDegree', 'Friendship_Degree',\n",
    "                       'Friendship_WeightedDegree', 'Friendship_WeightedInDegree', 'Friendship_WeightedOutDegree',\n",
    "                       'Friendship_Eccentricity', 'Friendship_ClosenessCentrality', 'Friendship_BetweennessCentrality',\n",
    "                       'Friendship_Authority', 'Friendship_Hub', 'Friendship_ModularityClass', 'Friendship_Pagerank',\n",
    "                       'Friendship_ComponentId', 'Friendship_StrConnId', 'Friendship_ClusteringCoefficient', 'Friendship_Eigenvector',\n",
    "                       'Type']].copy()\n",
    "trade_df = nm_df[[\n",
    "    'Trade_InDegree', 'Trade_OutDegree', 'Trade_Degree',\n",
    "    'Trade_WeightedDegree', 'Trade_WeightedInDegree', 'Trade_WeightedOutDegree',\n",
    "    'Trade_Eccentricity', 'Trade_ClosenessCentrality', 'Trade_BetweennessCentrality',\n",
    "    'Trade_Authority', 'Trade_Hub', 'Trade_ModularityClass', 'Trade_Pagerank',\n",
    "    'Trade_ComponentId', 'Trade_StrConnId', 'Trade_ClusteringCoefficient', 'Trade_Eigenvector',\n",
    "    'Type']].copy()\n",
    "shop_df = nm_df[[\n",
    "             'Shop_InDegree', 'Shop_OutDegree', 'Shop_Degree',\n",
    "             'Shop_WeightedDegree', 'Shop_WeightedInDegree', 'Shop_WeightedOutDegree',\n",
    "             'Shop_Eccentricity', 'Shop_ClosenessCentrality', 'Shop_BetweennessCentrality',\n",
    "             'Shop_Authority', 'Shop_Hub', 'Shop_ModularityClass', 'Shop_Pagerank',\n",
    "             'Shop_ComponentId', 'Shop_StrConnId', 'Shop_ClusteringCoefficient', 'Shop_Eigenvector',\n",
    "             'Type']].copy()\n",
    "whisper_df = nm_df[[\n",
    "    'Whisper_InDegree', 'Whisper_OutDegree', 'Whisper_Degree',\n",
    "    'Whisper_WeightedDegree', 'Whisper_WeightedInDegree', 'Whisper_WeightedOutDegree',\n",
    "    'Whisper_Eccentricity', 'Whisper_ClosenessCentrality', 'Whisper_BetweennessCentrality',\n",
    "    'Whisper_Authority', 'Whisper_Hub', 'Whisper_ModularityClass', 'Whisper_Pagerank',\n",
    "    'Whisper_ComponentId', 'Whisper_StrConnId', 'Whisper_ClusteringCoefficient', 'Whisper_Eigenvector',\n",
    "    'Type' ]].copy()\n",
    "mail_df = nm_df[[\n",
    "    'Mail_InDegree', 'Mail_OutDegree', 'Mail_Degree',\n",
    "    'Mail_WeightedDegree', 'Mail_WeightedInDegree', 'Mail_WeightedOutDegree',\n",
    "    'Mail_Eccentricity', 'Mail_ClosenessCentrality', 'Mail_BetweennessCentrality',\n",
    "    'Mail_Authority', 'Mail_Hub', 'Mail_ModularityClass', 'Mail_Pagerank',\n",
    "    'Mail_ComponentId', 'Mail_StrConnId', 'Mail_ClusteringCoefficient', 'Mail_Eigenvector',\n",
    "    'Type']].copy()\n"
   ]
  },
  {
   "cell_type": "code",
   "execution_count": 15,
   "metadata": {},
   "outputs": [
    {
     "name": "stdout",
     "output_type": "stream",
     "text": [
      "['PartyPlay_InDegree', 'PartyPlay_OutDegree', 'PartyPlay_Degree', 'PartyPlay_WeightedDegree', 'PartyPlay_WeightedInDegree', 'PartyPlay_WeightedOutDegree', 'PartyPlay_Eccentricity', 'PartyPlay_ClosenessCentrality', 'PartyPlay_BetweennessCentrality', 'PartyPlay_Authority', 'PartyPlay_Hub', 'PartyPlay_ModularityClass', 'PartyPlay_Pagerank', 'PartyPlay_ComponentId', 'PartyPlay_StrConnId', 'PartyPlay_ClusteringCoefficient', 'PartyPlay_Eigenvector', 'Type']\n"
     ]
    }
   ],
   "source": [
    "# Getting the list of cols that we want to visulaize in pairplot. This will exclude the Actor and A_Acc cols\n",
    "cols = party_df.columns.tolist()\n",
    "#cols.remove('Actor'); cols.remove('A_Acc')\n",
    "print(cols)"
   ]
  },
  {
   "cell_type": "code",
   "execution_count": 16,
   "metadata": {},
   "outputs": [],
   "source": [
    "cols_to_zscore = {\n",
    "    'party_play': ['PartyPlay_BetweennessCentrality', 'PartyPlay_ClosenessCentrality', \n",
    "    'PartyPlay_Eigenvector', 'PartyPlay_Eccentricity', 'PartyPlay_Authority', 'PartyPlay_Hub', 'PartyPlay_Pagerank'],\n",
    "    'friendship': ['Friendship_BetweennessCentrality', 'Friendship_ClosenessCentrality', \n",
    "    'Friendship_Eigenvector', 'Friendship_Eccentricity', 'Friendship_Authority', 'Friendship_Hub', 'Friendship_Pagerank'],\n",
    "    'trade': ['Trade_BetweennessCentrality',  'Trade_ClosenessCentrality',\n",
    "    'Trade_Eigenvector', 'Trade_Eccentricity', 'Trade_Authority', 'Trade_Hub', 'Trade_Pagerank'],\n",
    "    'shop': ['Shop_BetweennessCentrality', 'Shop_ClosenessCentrality',\n",
    "    'Shop_Eigenvector', 'Shop_Eccentricity', 'Shop_Authority', 'Shop_Hub', 'Shop_Pagerank'],\n",
    "    'mail': ['Mail_BetweennessCentrality', 'Mail_ClosenessCentrality', \n",
    "    'Mail_Eigenvector', 'Mail_Eccentricity', 'Mail_Authority', 'Mail_Hub', 'Mail_Pagerank'],\n",
    "    'whisper': ['Whisper_BetweennessCentrality', 'Whisper_ClosenessCentrality', \n",
    "    'Whisper_Eigenvector', 'Whisper_Eccentricity', 'Whisper_Authority', 'Whisper_Hub', 'Whisper_Pagerank']\n",
    "}"
   ]
  },
  {
   "cell_type": "code",
   "execution_count": 17,
   "metadata": {},
   "outputs": [],
   "source": [
    "grp_act_df = {\n",
    "    'party_play': party_df,\n",
    "    'friendship': friendship_df,\n",
    "    'trade': trade_df,\n",
    "    'shop': shop_df,\n",
    "    'mail': mail_df,\n",
    "    'whisper': whisper_df\n",
    "}"
   ]
  },
  {
   "cell_type": "code",
   "execution_count": 18,
   "metadata": {},
   "outputs": [],
   "source": [
    "# For each act_df, apply zscore to the cols listed in cols_to_zscore\n",
    "for act_name, act_df in grp_act_df.items():\n",
    "    act_cols_to_zscore = cols_to_zscore.get(act_name)\n",
    "    act_df[act_cols_to_zscore] = act_df[act_cols_to_zscore].apply(zscore)"
   ]
  },
  {
   "cell_type": "code",
   "execution_count": 19,
   "metadata": {},
   "outputs": [],
   "source": [
    "X_cols_to_log_transform = [\n",
    "    'PartyPlay_InDegree', 'PartyPlay_OutDegree', 'PartyPlay_WeightedInDegree', 'PartyPlay_WeightedOutDegree',\n",
    "    'Friendship_InDegree', 'Friendship_OutDegree', 'Friendship_WeightedInDegree', 'Friendship_WeightedOutDegree',\n",
    "    'Trade_InDegree', 'Trade_OutDegree', 'Trade_WeightedInDegree', 'Trade_WeightedOutDegree',\n",
    "    'Mail_InDegree', 'Mail_OutDegree', 'Mail_WeightedInDegree', 'Mail_WeightedOutDegree',\n",
    "    'Shop_InDegree', 'Shop_OutDegree', 'Shop_WeightedInDegree', 'Shop_WeightedOutDegree',\n",
    "    'Whisper_InDegree', 'Whisper_OutDegree', 'Whisper_WeightedInDegree', 'Whisper_WeightedOutDegree',\n",
    "    'PartyPlay_Degree', 'PartyPlay_WeightedDegree', 'PartyPlay_BetweennessCentrality', \n",
    "    'Friendship_Degree', 'Friendship_WeightedDegree', 'Friendship_BetweennessCentrality',\n",
    "    'Trade_Degree', 'Trade_WeightedDegree', 'Trade_BetweennessCentrality',\n",
    "    'Shop_Degree', 'Shop_WeightedDegree', 'Shop_BetweennessCentrality',\n",
    "    'Mail_Degree', 'Mail_WeightedDegree', 'Mail_BetweennessCentrality',\n",
    "    'Whisper_Degree', 'Whisper_WeightedDegree', 'Whisper_BetweennessCentrality']"
   ]
  },
  {
   "cell_type": "code",
   "execution_count": 21,
   "metadata": {},
   "outputs": [],
   "source": [
    "nm_df_zscored = nm_df.copy()"
   ]
  },
  {
   "cell_type": "code",
   "execution_count": 22,
   "metadata": {},
   "outputs": [],
   "source": [
    "from scipy import stats as scipy_stats\n",
    "from scipy.special import boxcox1p\n",
    "from sklearn.preprocessing import PowerTransformer\n",
    "\n",
    "nm_df_z_t_1 = nm_df_zscored.copy()\n",
    "'''\n",
    "transformer = PowerTransformer(method='yeo-johnson')\n",
    "X = nm_df_z_t_1[X_cols_to_log_transform]\n",
    "nm_df_z_t_1[X_cols_to_log_transform] = transformer.fit_transform(X)\n",
    "'''\n",
    "for col in X_cols_to_log_transform:\n",
    "    #print(\"Transforming %s\" % col)\n",
    "    # The boxcox transformation with value of 0 does log transformation\n",
    "    nm_df_z_t_1[col] = pd.Series(boxcox1p(nm_df_z_t_1[col].values, 0))\n",
    "    nm_df_z_t_1[col] = pd.Series(boxcox1p(nm_df_z_t_1[col].values, 0))"
   ]
  },
  {
   "cell_type": "code",
   "execution_count": 23,
   "metadata": {},
   "outputs": [],
   "source": [
    "nm_df = nm_df_z_t_1.copy()"
   ]
  },
  {
   "cell_type": "code",
   "execution_count": null,
   "metadata": {},
   "outputs": [],
   "source": []
  },
  {
   "cell_type": "code",
   "execution_count": 25,
   "metadata": {},
   "outputs": [],
   "source": [
    "X_cols = ['PartyPlay_InDegree', 'PartyPlay_OutDegree', 'PartyPlay_WeightedInDegree', 'PartyPlay_WeightedOutDegree',\n",
    "    'PartyPlay_ClusteringCoefficient',\n",
    "    'Friendship_InDegree', 'Friendship_OutDegree', 'Friendship_WeightedInDegree', 'Friendship_WeightedOutDegree',\n",
    "    'Friendship_ClusteringCoefficient',\n",
    "    'Trade_InDegree', 'Trade_OutDegree', 'Trade_WeightedInDegree', 'Trade_WeightedOutDegree',\n",
    "    'Trade_ClusteringCoefficient',\n",
    "    'Mail_InDegree', 'Mail_OutDegree', 'Mail_WeightedInDegree', 'Mail_WeightedOutDegree',\n",
    "    'Mail_ClusteringCoefficient',\n",
    "    'Shop_InDegree', 'Shop_OutDegree', 'Shop_WeightedInDegree', 'Shop_WeightedOutDegree',\n",
    "    'Shop_ClusteringCoefficient', \n",
    "    'Whisper_InDegree', 'Whisper_OutDegree', 'Whisper_WeightedInDegree', 'Whisper_WeightedOutDegree',\n",
    "    'Whisper_ClusteringCoefficient',\n",
    "    'PartyPlay_Degree', 'PartyPlay_WeightedDegree', 'PartyPlay_BetweennessCentrality', 'PartyPlay_ClosenessCentrality', \n",
    "    'PartyPlay_Eigenvector', 'PartyPlay_Eccentricity', 'PartyPlay_Authority', 'PartyPlay_Hub', 'PartyPlay_Pagerank',\n",
    "    'Friendship_Degree', 'Friendship_WeightedDegree', 'Friendship_BetweennessCentrality', 'Friendship_ClosenessCentrality', \n",
    "    'Friendship_Eigenvector', 'Friendship_Eccentricity', 'Friendship_Authority', 'Friendship_Hub', 'Friendship_Pagerank',\n",
    "    'Trade_Degree', 'Trade_WeightedDegree', 'Trade_BetweennessCentrality',  'Trade_ClosenessCentrality',\n",
    "    'Trade_Eigenvector', 'Trade_Eccentricity', 'Trade_Authority', 'Trade_Hub', 'Trade_Pagerank',\n",
    "    'Shop_Degree', 'Shop_WeightedDegree', 'Shop_BetweennessCentrality', 'Shop_ClosenessCentrality',\n",
    "    'Shop_Eigenvector', 'Shop_Eccentricity', 'Shop_Authority', 'Shop_Hub', 'Shop_Pagerank',\n",
    "    'Mail_Degree', 'Mail_WeightedDegree', 'Mail_BetweennessCentrality', 'Mail_ClosenessCentrality', \n",
    "    'Mail_Eigenvector', 'Mail_Eccentricity', 'Mail_Authority', 'Mail_Hub', 'Mail_Pagerank']\n",
    "#X_cols = ['PartyPlay_InDegree', 'PartyPlay_OutDegree', 'PartyPlay_WeightedInDegree', 'PartyPlay_WeightedOutDegree',\n",
    "#    'PartyPlay_ClusteringCoefficient', 'PartyPlay_Degree', 'PartyPlay_WeightedDegree', 'PartyPlay_BetweennessCentrality', 'PartyPlay_ClosenessCentrality', \n",
    "#    'PartyPlay_Eigenvector', 'PartyPlay_Eccentricity', 'PartyPlay_Authority', 'PartyPlay_Hub', 'PartyPlay_Pagerank']\n",
    "y_col = ['Type']\n",
    "X = nm_df[X_cols]\n",
    "y = nm_df[y_col]"
   ]
  },
  {
   "cell_type": "code",
   "execution_count": 151,
   "metadata": {},
   "outputs": [],
   "source": [
    "X_train, X_test, y_train, y_test = train_test_split(X, y, test_size=0.3, random_state=7)"
   ]
  },
  {
   "cell_type": "code",
   "execution_count": 152,
   "metadata": {},
   "outputs": [],
   "source": [
    "model = Sequential()\n",
    "model.add(Dense(75, input_dim=75, activation='relu'))\n",
    "model.add(Dense(300, activation='relu'))\n",
    "model.add(Dense(1, activation='sigmoid'))\n",
    "# Compile model\n",
    "model.compile(loss='binary_crossentropy', optimizer='adam', metrics=['accuracy'])"
   ]
  },
  {
   "cell_type": "code",
   "execution_count": 153,
   "metadata": {},
   "outputs": [
    {
     "name": "stdout",
     "output_type": "stream",
     "text": [
      "Epoch 1/50\n",
      "34817/34817 [==============================] - 3s 80us/step - loss: 0.3132 - acc: 0.8882\n",
      "Epoch 2/50\n",
      "34817/34817 [==============================] - 1s 36us/step - loss: 0.2820 - acc: 0.9042\n",
      "Epoch 3/50\n",
      "34817/34817 [==============================] - 1s 36us/step - loss: 0.2763 - acc: 0.9079\n",
      "Epoch 4/50\n",
      "34817/34817 [==============================] - 1s 36us/step - loss: 0.2711 - acc: 0.9102\n",
      "Epoch 5/50\n",
      "34817/34817 [==============================] - 1s 36us/step - loss: 0.2681 - acc: 0.9120\n",
      "Epoch 6/50\n",
      "34817/34817 [==============================] - 1s 36us/step - loss: 0.2660 - acc: 0.9128\n",
      "Epoch 7/50\n",
      "34817/34817 [==============================] - 1s 37us/step - loss: 0.2651 - acc: 0.9131\n",
      "Epoch 8/50\n",
      "34817/34817 [==============================] - 1s 37us/step - loss: 0.2636 - acc: 0.9142\n",
      "Epoch 9/50\n",
      "34817/34817 [==============================] - 1s 37us/step - loss: 0.2612 - acc: 0.9152\n",
      "Epoch 10/50\n",
      "34817/34817 [==============================] - 1s 37us/step - loss: 0.2597 - acc: 0.9163\n",
      "Epoch 11/50\n",
      "34817/34817 [==============================] - 1s 38us/step - loss: 0.2588 - acc: 0.9159\n",
      "Epoch 12/50\n",
      "34817/34817 [==============================] - 1s 38us/step - loss: 0.2572 - acc: 0.9164\n",
      "Epoch 13/50\n",
      "34817/34817 [==============================] - 1s 38us/step - loss: 0.2558 - acc: 0.9175\n",
      "Epoch 14/50\n",
      "34817/34817 [==============================] - 1s 39us/step - loss: 0.2554 - acc: 0.9170\n",
      "Epoch 15/50\n",
      "34817/34817 [==============================] - 1s 38us/step - loss: 0.2537 - acc: 0.9171\n",
      "Epoch 16/50\n",
      "34817/34817 [==============================] - 1s 39us/step - loss: 0.2533 - acc: 0.9181\n",
      "Epoch 17/50\n",
      "34817/34817 [==============================] - 1s 39us/step - loss: 0.2507 - acc: 0.9190\n",
      "Epoch 18/50\n",
      "34817/34817 [==============================] - 1s 39us/step - loss: 0.2504 - acc: 0.9184\n",
      "Epoch 19/50\n",
      "34817/34817 [==============================] - 1s 40us/step - loss: 0.2501 - acc: 0.9191\n",
      "Epoch 20/50\n",
      "34817/34817 [==============================] - 1s 40us/step - loss: 0.2486 - acc: 0.9196\n",
      "Epoch 21/50\n",
      "34817/34817 [==============================] - 1s 40us/step - loss: 0.2473 - acc: 0.9192\n",
      "Epoch 22/50\n",
      "34817/34817 [==============================] - 1s 39us/step - loss: 0.2453 - acc: 0.9206\n",
      "Epoch 23/50\n",
      "34817/34817 [==============================] - 1s 38us/step - loss: 0.2459 - acc: 0.9200\n",
      "Epoch 24/50\n",
      "34817/34817 [==============================] - 1s 39us/step - loss: 0.2436 - acc: 0.9218\n",
      "Epoch 25/50\n",
      "34817/34817 [==============================] - 1s 38us/step - loss: 0.2426 - acc: 0.9212\n",
      "Epoch 26/50\n",
      "34817/34817 [==============================] - 1s 39us/step - loss: 0.2414 - acc: 0.9226\n",
      "Epoch 27/50\n",
      "34817/34817 [==============================] - 1s 39us/step - loss: 0.2411 - acc: 0.9218\n",
      "Epoch 28/50\n",
      "34817/34817 [==============================] - 1s 38us/step - loss: 0.2395 - acc: 0.9229\n",
      "Epoch 29/50\n",
      "34817/34817 [==============================] - 1s 38us/step - loss: 0.2379 - acc: 0.9238\n",
      "Epoch 30/50\n",
      "34817/34817 [==============================] - 1s 39us/step - loss: 0.2375 - acc: 0.9237\n",
      "Epoch 31/50\n",
      "34817/34817 [==============================] - 1s 39us/step - loss: 0.2359 - acc: 0.9239\n",
      "Epoch 32/50\n",
      "34817/34817 [==============================] - 1s 39us/step - loss: 0.2357 - acc: 0.9242\n",
      "Epoch 33/50\n",
      "34817/34817 [==============================] - 1s 38us/step - loss: 0.2342 - acc: 0.9250\n",
      "Epoch 34/50\n",
      "34817/34817 [==============================] - 1s 39us/step - loss: 0.2337 - acc: 0.9240\n",
      "Epoch 35/50\n",
      "34817/34817 [==============================] - 1s 38us/step - loss: 0.2323 - acc: 0.9247\n",
      "Epoch 36/50\n",
      "34817/34817 [==============================] - 1s 39us/step - loss: 0.2308 - acc: 0.9254\n",
      "Epoch 37/50\n",
      "34817/34817 [==============================] - 1s 39us/step - loss: 0.2299 - acc: 0.9265\n",
      "Epoch 38/50\n",
      "34817/34817 [==============================] - 1s 40us/step - loss: 0.2293 - acc: 0.9258\n",
      "Epoch 39/50\n",
      "34817/34817 [==============================] - 1s 39us/step - loss: 0.2272 - acc: 0.9274\n",
      "Epoch 40/50\n",
      "34817/34817 [==============================] - 1s 39us/step - loss: 0.2272 - acc: 0.9273\n",
      "Epoch 41/50\n",
      "34817/34817 [==============================] - 1s 39us/step - loss: 0.2257 - acc: 0.9280\n",
      "Epoch 42/50\n",
      "34817/34817 [==============================] - 1s 39us/step - loss: 0.2252 - acc: 0.9271\n",
      "Epoch 43/50\n",
      "34817/34817 [==============================] - 1s 39us/step - loss: 0.2231 - acc: 0.9281\n",
      "Epoch 44/50\n",
      "34817/34817 [==============================] - 1s 39us/step - loss: 0.2240 - acc: 0.9277\n",
      "Epoch 45/50\n",
      "34817/34817 [==============================] - 1s 39us/step - loss: 0.2227 - acc: 0.9286\n",
      "Epoch 46/50\n",
      "34817/34817 [==============================] - 1s 38us/step - loss: 0.2208 - acc: 0.9288\n",
      "Epoch 47/50\n",
      "34817/34817 [==============================] - 1s 39us/step - loss: 0.2189 - acc: 0.9292\n",
      "Epoch 48/50\n",
      "34817/34817 [==============================] - 1s 39us/step - loss: 0.2186 - acc: 0.9293\n",
      "Epoch 49/50\n",
      "34817/34817 [==============================] - 1s 40us/step - loss: 0.2168 - acc: 0.9297\n",
      "Epoch 50/50\n",
      "34817/34817 [==============================] - 1s 39us/step - loss: 0.2166 - acc: 0.9298\n"
     ]
    },
    {
     "data": {
      "text/plain": [
       "<keras.callbacks.History at 0x1a298fc4e0>"
      ]
     },
     "execution_count": 153,
     "metadata": {},
     "output_type": "execute_result"
    }
   ],
   "source": [
    "model.fit(X_train, y_train, epochs=50, batch_size=100)"
   ]
  },
  {
   "cell_type": "code",
   "execution_count": 154,
   "metadata": {},
   "outputs": [
    {
     "name": "stdout",
     "output_type": "stream",
     "text": [
      "14922/14922 [==============================] - 1s 80us/step\n"
     ]
    },
    {
     "data": {
      "text/plain": [
       "91.67001742393781"
      ]
     },
     "execution_count": 154,
     "metadata": {},
     "output_type": "execute_result"
    }
   ],
   "source": [
    "# evaluate the model\n",
    "scores = model.evaluate(X_test, y_test)\n",
    "scores[1]*100"
   ]
  },
  {
   "cell_type": "code",
   "execution_count": 155,
   "metadata": {},
   "outputs": [
    {
     "name": "stdout",
     "output_type": "stream",
     "text": [
      "              precision    recall  f1-score   support\n",
      "\n",
      "           0       0.93      0.97      0.95     12672\n",
      "           1       0.80      0.59      0.68      2250\n",
      "\n",
      "   micro avg       0.92      0.92      0.92     14922\n",
      "   macro avg       0.87      0.78      0.82     14922\n",
      "weighted avg       0.91      0.92      0.91     14922\n",
      "\n",
      "[[12342   330]\n",
      " [  913  1337]]\n"
     ]
    }
   ],
   "source": [
    "y_predict = model.predict_classes(X_test)\n",
    "cr = metrics.classification_report(y_test ,y_predict)\n",
    "print(cr)\n",
    "\n",
    "cm = metrics.confusion_matrix(y_test,y_predict)\n",
    "print(cm)"
   ]
  },
  {
   "cell_type": "code",
   "execution_count": 145,
   "metadata": {},
   "outputs": [
    {
     "data": {
      "text/plain": [
       "(pandas.core.frame.DataFrame, pandas.core.frame.DataFrame)"
      ]
     },
     "execution_count": 145,
     "metadata": {},
     "output_type": "execute_result"
    }
   ],
   "source": [
    "type(X), type(y)\n"
   ]
  },
  {
   "cell_type": "code",
   "execution_count": 149,
   "metadata": {},
   "outputs": [
    {
     "name": "stdout",
     "output_type": "stream",
     "text": [
      "[    0     1     2 ... 49735 49736 49737]\n",
      "[    9    10    22 ... 49719 49722 49738]\n",
      "acc: 91.44%\n",
      "[    0     2     3 ... 49735 49736 49738]\n",
      "[    1    14    39 ... 49708 49712 49737]\n",
      "acc: 91.74%\n",
      "[    1     3     4 ... 49736 49737 49738]\n",
      "[    0     2    24 ... 49720 49721 49723]\n",
      "acc: 91.90%\n",
      "[    0     1     2 ... 49736 49737 49738]\n",
      "[    3    17    32 ... 49716 49728 49731]\n",
      "acc: 91.58%\n",
      "[    0     1     2 ... 49736 49737 49738]\n",
      "[    4    11    19 ... 49702 49705 49715]\n",
      "acc: 91.56%\n",
      "[    0     1     2 ... 49736 49737 49738]\n",
      "[    7    13    18 ... 49684 49694 49725]\n",
      "acc: 91.46%\n",
      "[    0     1     2 ... 49736 49737 49738]\n",
      "[    8    21    26 ... 49724 49726 49727]\n",
      "acc: 91.19%\n",
      "[    0     1     2 ... 49736 49737 49738]\n",
      "[   12    16    27 ... 49729 49733 49734]\n",
      "acc: 91.80%\n",
      "[    0     1     2 ... 49736 49737 49738]\n",
      "[    6    28    51 ... 49714 49717 49732]\n",
      "acc: 91.47%\n",
      "[    0     1     2 ... 49734 49737 49738]\n",
      "[    5    15    23 ... 49730 49735 49736]\n",
      "acc: 90.99%\n"
     ]
    },
    {
     "ename": "NameError",
     "evalue": "name 'numpy' is not defined",
     "output_type": "error",
     "traceback": [
      "\u001b[0;31m---------------------------------------------------------------------------\u001b[0m",
      "\u001b[0;31mNameError\u001b[0m                                 Traceback (most recent call last)",
      "\u001b[0;32m<ipython-input-149-7bd4d9ede0ce>\u001b[0m in \u001b[0;36m<module>\u001b[0;34m()\u001b[0m\n\u001b[1;32m     20\u001b[0m     \u001b[0mprint\u001b[0m\u001b[0;34m(\u001b[0m\u001b[0;34m\"%s: %.2f%%\"\u001b[0m \u001b[0;34m%\u001b[0m \u001b[0;34m(\u001b[0m\u001b[0mmodel\u001b[0m\u001b[0;34m.\u001b[0m\u001b[0mmetrics_names\u001b[0m\u001b[0;34m[\u001b[0m\u001b[0;36m1\u001b[0m\u001b[0;34m]\u001b[0m\u001b[0;34m,\u001b[0m \u001b[0mscores\u001b[0m\u001b[0;34m[\u001b[0m\u001b[0;36m1\u001b[0m\u001b[0;34m]\u001b[0m\u001b[0;34m*\u001b[0m\u001b[0;36m100\u001b[0m\u001b[0;34m)\u001b[0m\u001b[0;34m)\u001b[0m\u001b[0;34m\u001b[0m\u001b[0m\n\u001b[1;32m     21\u001b[0m     \u001b[0mcvscores\u001b[0m\u001b[0;34m.\u001b[0m\u001b[0mappend\u001b[0m\u001b[0;34m(\u001b[0m\u001b[0mscores\u001b[0m\u001b[0;34m[\u001b[0m\u001b[0;36m1\u001b[0m\u001b[0;34m]\u001b[0m \u001b[0;34m*\u001b[0m \u001b[0;36m100\u001b[0m\u001b[0;34m)\u001b[0m\u001b[0;34m\u001b[0m\u001b[0m\n\u001b[0;32m---> 22\u001b[0;31m \u001b[0mprint\u001b[0m\u001b[0;34m(\u001b[0m\u001b[0;34m\"%.2f%% (+/- %.2f%%)\"\u001b[0m \u001b[0;34m%\u001b[0m \u001b[0;34m(\u001b[0m\u001b[0mnumpy\u001b[0m\u001b[0;34m.\u001b[0m\u001b[0mmean\u001b[0m\u001b[0;34m(\u001b[0m\u001b[0mcvscores\u001b[0m\u001b[0;34m)\u001b[0m\u001b[0;34m,\u001b[0m \u001b[0mnumpy\u001b[0m\u001b[0;34m.\u001b[0m\u001b[0mstd\u001b[0m\u001b[0;34m(\u001b[0m\u001b[0mcvscores\u001b[0m\u001b[0;34m)\u001b[0m\u001b[0;34m)\u001b[0m\u001b[0;34m)\u001b[0m\u001b[0;34m\u001b[0m\u001b[0m\n\u001b[0m",
      "\u001b[0;31mNameError\u001b[0m: name 'numpy' is not defined"
     ]
    }
   ],
   "source": [
    "from sklearn.model_selection import StratifiedKFold\n",
    "# define 10-fold cross validation test harness\n",
    "kfold = StratifiedKFold(n_splits=10, shuffle=True)\n",
    "cvscores = []\n",
    "for train, test in kfold.split(X, y):\n",
    "    print(train)\n",
    "    print(test)\n",
    "    # create model\n",
    "    model = Sequential()\n",
    "    model.add(Dense(75, input_dim=75, activation='relu'))\n",
    "    model.add(Dense(600, activation='relu'))\n",
    "    model.add(Dense(1, activation='sigmoid'))\n",
    "    # Compile model\n",
    "    model.compile(loss='binary_crossentropy', optimizer='adam', metrics=['accuracy'])\n",
    "    # Fit the model\n",
    "    model.fit(X.iloc[train],\n",
    "              y.iloc[train], epochs=10, batch_size=100, verbose=0)\n",
    "    # evaluate the model\n",
    "    scores = model.evaluate(X.iloc[test], y.iloc[test], verbose=0)\n",
    "    print(\"%s: %.2f%%\" % (model.metrics_names[1], scores[1]*100))\n",
    "    cvscores.append(scores[1] * 100)\n"
   ]
  },
  {
   "cell_type": "code",
   "execution_count": 150,
   "metadata": {},
   "outputs": [
    {
     "name": "stdout",
     "output_type": "stream",
     "text": [
      "91.51% (+/- 0.26%)\n"
     ]
    }
   ],
   "source": [
    "print(\"%.2f%% (+/- %.2f%%)\" % (np.mean(cvscores), np.std(cvscores)))"
   ]
  },
  {
   "cell_type": "code",
   "execution_count": null,
   "metadata": {},
   "outputs": [],
   "source": []
  }
 ],
 "metadata": {
  "kernelspec": {
   "display_name": "Python 3",
   "language": "python",
   "name": "python3"
  },
  "language_info": {
   "codemirror_mode": {
    "name": "ipython",
    "version": 3
   },
   "file_extension": ".py",
   "mimetype": "text/x-python",
   "name": "python",
   "nbconvert_exporter": "python",
   "pygments_lexer": "ipython3",
   "version": "3.6.4"
  }
 },
 "nbformat": 4,
 "nbformat_minor": 2
}
